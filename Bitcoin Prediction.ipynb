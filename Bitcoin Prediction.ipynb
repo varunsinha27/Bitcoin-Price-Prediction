{
 "cells": [
  {
   "cell_type": "markdown",
   "id": "d2de7859",
   "metadata": {},
   "source": [
    "# Bitcoin Prediction"
   ]
  },
  {
   "cell_type": "code",
   "execution_count": 1,
   "id": "71fa977c",
   "metadata": {},
   "outputs": [
    {
     "name": "stderr",
     "output_type": "stream",
     "text": [
      "C:\\Users\\vrnsi\\anaconda3\\lib\\site-packages\\numpy\\_distributor_init.py:30: UserWarning: loaded more than 1 DLL from .libs:\n",
      "C:\\Users\\vrnsi\\anaconda3\\lib\\site-packages\\numpy\\.libs\\libopenblas.fb5ae2tyxyh2ijrdkgdgq3xbklktf43h.gfortran-win_amd64.dll\n",
      "C:\\Users\\vrnsi\\anaconda3\\lib\\site-packages\\numpy\\.libs\\libopenblas.WCDJNK7YVMPZQ2ME2ZZHJJRJ3JIKNDB7.gfortran-win_amd64.dll\n",
      "  warnings.warn(\"loaded more than 1 DLL from .libs:\"\n"
     ]
    },
    {
     "data": {
      "text/html": [
       "        <script type=\"text/javascript\">\n",
       "        window.PlotlyConfig = {MathJaxConfig: 'local'};\n",
       "        if (window.MathJax) {MathJax.Hub.Config({SVG: {font: \"STIX-Web\"}});}\n",
       "        if (typeof require !== 'undefined') {\n",
       "        require.undef(\"plotly\");\n",
       "        requirejs.config({\n",
       "            paths: {\n",
       "                'plotly': ['https://cdn.plot.ly/plotly-2.4.2.min']\n",
       "            }\n",
       "        });\n",
       "        require(['plotly'], function(Plotly) {\n",
       "            window._Plotly = Plotly;\n",
       "        });\n",
       "        }\n",
       "        </script>\n",
       "        "
      ]
     },
     "metadata": {},
     "output_type": "display_data"
    }
   ],
   "source": [
    "import numpy as np \n",
    "import pandas as pd\n",
    "import matplotlib.pyplot as plt \n",
    "\n",
    "\n",
    "from plotly import tools\n",
    "import chart_studio.plotly as py\n",
    "from plotly.offline import init_notebook_mode, iplot\n",
    "init_notebook_mode(connected=True)\n",
    "import plotly.graph_objs as go\n",
    "import gc\n",
    "\n",
    "import matplotlib.pyplot as plt\n",
    "import seaborn as sns\n"
   ]
  },
  {
   "cell_type": "code",
   "execution_count": 2,
   "id": "fbcf8b8f",
   "metadata": {},
   "outputs": [],
   "source": [
    "import datetime, pytz\n",
    "\n",
    "def dateparse (time_in_secs):    \n",
    "    return pytz.utc.localize(datetime.datetime.fromtimestamp(float(time_in_secs)))\n",
    "\n",
    "data = pd.read_csv('coinbaseUSD_1-min_data_2014-12-01_to_2018-11-11.csv', parse_dates=[0], date_parser=dateparse)"
   ]
  },
  {
   "cell_type": "code",
   "execution_count": 3,
   "id": "42c5b971",
   "metadata": {},
   "outputs": [
    {
     "name": "stdout",
     "output_type": "stream",
     "text": [
      "<class 'pandas.core.frame.DataFrame'>\n",
      "RangeIndex: 2016354 entries, 0 to 2016353\n",
      "Data columns (total 8 columns):\n",
      " #   Column             Dtype              \n",
      "---  ------             -----              \n",
      " 0   Timestamp          datetime64[ns, UTC]\n",
      " 1   Open               float64            \n",
      " 2   High               float64            \n",
      " 3   Low                float64            \n",
      " 4   Close              float64            \n",
      " 5   Volume_(BTC)       float64            \n",
      " 6   Volume_(Currency)  float64            \n",
      " 7   Weighted_Price     float64            \n",
      "dtypes: datetime64[ns, UTC](1), float64(7)\n",
      "memory usage: 123.1 MB\n"
     ]
    }
   ],
   "source": [
    "data.info()"
   ]
  },
  {
   "cell_type": "code",
   "execution_count": 4,
   "id": "bdac57ad",
   "metadata": {},
   "outputs": [
    {
     "data": {
      "text/plain": [
       "(2016354, 8)"
      ]
     },
     "execution_count": 4,
     "metadata": {},
     "output_type": "execute_result"
    }
   ],
   "source": [
    "data.shape"
   ]
  },
  {
   "cell_type": "code",
   "execution_count": 5,
   "id": "fdc8fc35",
   "metadata": {},
   "outputs": [
    {
     "data": {
      "text/html": [
       "<div>\n",
       "<style scoped>\n",
       "    .dataframe tbody tr th:only-of-type {\n",
       "        vertical-align: middle;\n",
       "    }\n",
       "\n",
       "    .dataframe tbody tr th {\n",
       "        vertical-align: top;\n",
       "    }\n",
       "\n",
       "    .dataframe thead th {\n",
       "        text-align: right;\n",
       "    }\n",
       "</style>\n",
       "<table border=\"1\" class=\"dataframe\">\n",
       "  <thead>\n",
       "    <tr style=\"text-align: right;\">\n",
       "      <th></th>\n",
       "      <th>Total</th>\n",
       "      <th>Percent</th>\n",
       "    </tr>\n",
       "  </thead>\n",
       "  <tbody>\n",
       "    <tr>\n",
       "      <th>Weighted_Price</th>\n",
       "      <td>108957</td>\n",
       "      <td>0.054037</td>\n",
       "    </tr>\n",
       "    <tr>\n",
       "      <th>Volume_(Currency)</th>\n",
       "      <td>108957</td>\n",
       "      <td>0.054037</td>\n",
       "    </tr>\n",
       "    <tr>\n",
       "      <th>Volume_(BTC)</th>\n",
       "      <td>108957</td>\n",
       "      <td>0.054037</td>\n",
       "    </tr>\n",
       "    <tr>\n",
       "      <th>Close</th>\n",
       "      <td>108957</td>\n",
       "      <td>0.054037</td>\n",
       "    </tr>\n",
       "    <tr>\n",
       "      <th>Low</th>\n",
       "      <td>108957</td>\n",
       "      <td>0.054037</td>\n",
       "    </tr>\n",
       "  </tbody>\n",
       "</table>\n",
       "</div>"
      ],
      "text/plain": [
       "                    Total   Percent\n",
       "Weighted_Price     108957  0.054037\n",
       "Volume_(Currency)  108957  0.054037\n",
       "Volume_(BTC)       108957  0.054037\n",
       "Close              108957  0.054037\n",
       "Low                108957  0.054037"
      ]
     },
     "execution_count": 5,
     "metadata": {},
     "output_type": "execute_result"
    }
   ],
   "source": [
    "total = data.isnull().sum().sort_values(ascending=False)\n",
    "percent = (data.isnull().sum()/data.isnull().count()).sort_values(ascending=False)\n",
    "missing = pd.concat([total, percent], axis=1, keys=['Total', 'Percent'])\n",
    "missing.head()"
   ]
  },
  {
   "cell_type": "code",
   "execution_count": 6,
   "id": "bd56c2a7",
   "metadata": {},
   "outputs": [
    {
     "data": {
      "text/plain": [
       "<Figure size 1440x288 with 0 Axes>"
      ]
     },
     "metadata": {},
     "output_type": "display_data"
    },
    {
     "data": {
      "image/png": "[encoded data removed]",
      "text/plain": [
       "<Figure size 432x288 with 1 Axes>"
      ]
     },
     "metadata": {
      "needs_background": "light"
     },
     "output_type": "display_data"
    }
   ],
   "source": [
    "plt.figure(figsize=(20,4))\n",
    "missing.plot(kind=\"bar\")\n",
    "plt.title('Columns List & NA value counts more than 30%')\n",
    "plt.show()"
   ]
  },
  {
   "cell_type": "code",
   "execution_count": 7,
   "id": "91de9ce5",
   "metadata": {},
   "outputs": [],
   "source": [
    "data['Volume_(BTC)'].fillna(value=0, inplace=True)\n",
    "data['Volume_(Currency)'].fillna(value=0, inplace=True)\n",
    "data['Weighted_Price'].fillna(value=0, inplace=True)"
   ]
  },
  {
   "cell_type": "code",
   "execution_count": 8,
   "id": "7b538c55",
   "metadata": {},
   "outputs": [
    {
     "data": {
      "text/html": [
       "<div>\n",
       "<style scoped>\n",
       "    .dataframe tbody tr th:only-of-type {\n",
       "        vertical-align: middle;\n",
       "    }\n",
       "\n",
       "    .dataframe tbody tr th {\n",
       "        vertical-align: top;\n",
       "    }\n",
       "\n",
       "    .dataframe thead th {\n",
       "        text-align: right;\n",
       "    }\n",
       "</style>\n",
       "<table border=\"1\" class=\"dataframe\">\n",
       "  <thead>\n",
       "    <tr style=\"text-align: right;\">\n",
       "      <th></th>\n",
       "      <th>Timestamp</th>\n",
       "      <th>Open</th>\n",
       "      <th>High</th>\n",
       "      <th>Low</th>\n",
       "      <th>Close</th>\n",
       "      <th>Volume_(BTC)</th>\n",
       "      <th>Volume_(Currency)</th>\n",
       "      <th>Weighted_Price</th>\n",
       "    </tr>\n",
       "  </thead>\n",
       "  <tbody>\n",
       "    <tr>\n",
       "      <th>0</th>\n",
       "      <td>2014-12-01 05:33:00+00:00</td>\n",
       "      <td>300.0</td>\n",
       "      <td>300.0</td>\n",
       "      <td>300.0</td>\n",
       "      <td>300.0</td>\n",
       "      <td>0.01</td>\n",
       "      <td>3.0</td>\n",
       "      <td>300.0</td>\n",
       "    </tr>\n",
       "    <tr>\n",
       "      <th>1</th>\n",
       "      <td>2014-12-01 05:34:00+00:00</td>\n",
       "      <td>300.0</td>\n",
       "      <td>300.0</td>\n",
       "      <td>300.0</td>\n",
       "      <td>300.0</td>\n",
       "      <td>0.00</td>\n",
       "      <td>0.0</td>\n",
       "      <td>0.0</td>\n",
       "    </tr>\n",
       "    <tr>\n",
       "      <th>2</th>\n",
       "      <td>2014-12-01 05:35:00+00:00</td>\n",
       "      <td>300.0</td>\n",
       "      <td>300.0</td>\n",
       "      <td>300.0</td>\n",
       "      <td>300.0</td>\n",
       "      <td>0.00</td>\n",
       "      <td>0.0</td>\n",
       "      <td>0.0</td>\n",
       "    </tr>\n",
       "    <tr>\n",
       "      <th>3</th>\n",
       "      <td>2014-12-01 05:36:00+00:00</td>\n",
       "      <td>300.0</td>\n",
       "      <td>300.0</td>\n",
       "      <td>300.0</td>\n",
       "      <td>300.0</td>\n",
       "      <td>0.00</td>\n",
       "      <td>0.0</td>\n",
       "      <td>0.0</td>\n",
       "    </tr>\n",
       "    <tr>\n",
       "      <th>4</th>\n",
       "      <td>2014-12-01 05:37:00+00:00</td>\n",
       "      <td>300.0</td>\n",
       "      <td>300.0</td>\n",
       "      <td>300.0</td>\n",
       "      <td>300.0</td>\n",
       "      <td>0.00</td>\n",
       "      <td>0.0</td>\n",
       "      <td>0.0</td>\n",
       "    </tr>\n",
       "  </tbody>\n",
       "</table>\n",
       "</div>"
      ],
      "text/plain": [
       "                  Timestamp   Open   High    Low  Close  Volume_(BTC)  \\\n",
       "0 2014-12-01 05:33:00+00:00  300.0  300.0  300.0  300.0          0.01   \n",
       "1 2014-12-01 05:34:00+00:00  300.0  300.0  300.0  300.0          0.00   \n",
       "2 2014-12-01 05:35:00+00:00  300.0  300.0  300.0  300.0          0.00   \n",
       "3 2014-12-01 05:36:00+00:00  300.0  300.0  300.0  300.0          0.00   \n",
       "4 2014-12-01 05:37:00+00:00  300.0  300.0  300.0  300.0          0.00   \n",
       "\n",
       "   Volume_(Currency)  Weighted_Price  \n",
       "0                3.0           300.0  \n",
       "1                0.0             0.0  \n",
       "2                0.0             0.0  \n",
       "3                0.0             0.0  \n",
       "4                0.0             0.0  "
      ]
     },
     "execution_count": 8,
     "metadata": {},
     "output_type": "execute_result"
    }
   ],
   "source": [
    "data['Open'].fillna(method='ffill', inplace=True)\n",
    "data['High'].fillna(method='ffill', inplace=True)\n",
    "data['Low'].fillna(method='ffill', inplace=True)\n",
    "data['Close'].fillna(method='ffill', inplace=True)\n",
    "\n",
    "data.head()"
   ]
  },
  {
   "cell_type": "code",
   "execution_count": 9,
   "id": "a1192eae",
   "metadata": {},
   "outputs": [],
   "source": [
    "# create valid date range\n",
    "start = datetime.datetime(2015, 1, 1, 0, 0, 0, 0, pytz.UTC)\n",
    "end = datetime.datetime(2018, 11, 11, 0, 0, 0, 0, pytz.UTC)"
   ]
  },
  {
   "cell_type": "code",
   "execution_count": 10,
   "id": "f3701210",
   "metadata": {},
   "outputs": [
    {
     "data": {
      "text/html": [
       "<div>\n",
       "<style scoped>\n",
       "    .dataframe tbody tr th:only-of-type {\n",
       "        vertical-align: middle;\n",
       "    }\n",
       "\n",
       "    .dataframe tbody tr th {\n",
       "        vertical-align: top;\n",
       "    }\n",
       "\n",
       "    .dataframe thead th {\n",
       "        text-align: right;\n",
       "    }\n",
       "</style>\n",
       "<table border=\"1\" class=\"dataframe\">\n",
       "  <thead>\n",
       "    <tr style=\"text-align: right;\">\n",
       "      <th></th>\n",
       "      <th>Timestamp</th>\n",
       "      <th>Open</th>\n",
       "      <th>High</th>\n",
       "      <th>Low</th>\n",
       "      <th>Close</th>\n",
       "      <th>Volume_(BTC)</th>\n",
       "      <th>Volume_(Currency)</th>\n",
       "      <th>Weighted_Price</th>\n",
       "    </tr>\n",
       "  </thead>\n",
       "  <tbody>\n",
       "    <tr>\n",
       "      <th>0</th>\n",
       "      <td>2015-01-12 00:00:00+00:00</td>\n",
       "      <td>360.00</td>\n",
       "      <td>360.00</td>\n",
       "      <td>360.00</td>\n",
       "      <td>360.00</td>\n",
       "      <td>0.0100</td>\n",
       "      <td>3.600000</td>\n",
       "      <td>360.00</td>\n",
       "    </tr>\n",
       "    <tr>\n",
       "      <th>1</th>\n",
       "      <td>2015-01-19 00:00:00+00:00</td>\n",
       "      <td>260.00</td>\n",
       "      <td>260.00</td>\n",
       "      <td>260.00</td>\n",
       "      <td>260.00</td>\n",
       "      <td>1.0000</td>\n",
       "      <td>260.000000</td>\n",
       "      <td>260.00</td>\n",
       "    </tr>\n",
       "    <tr>\n",
       "      <th>2</th>\n",
       "      <td>2015-01-26 00:00:00+00:00</td>\n",
       "      <td>225.51</td>\n",
       "      <td>225.51</td>\n",
       "      <td>225.51</td>\n",
       "      <td>225.51</td>\n",
       "      <td>0.0000</td>\n",
       "      <td>0.000000</td>\n",
       "      <td>0.00</td>\n",
       "    </tr>\n",
       "    <tr>\n",
       "      <th>3</th>\n",
       "      <td>2015-02-02 00:00:00+00:00</td>\n",
       "      <td>274.73</td>\n",
       "      <td>274.73</td>\n",
       "      <td>274.73</td>\n",
       "      <td>274.73</td>\n",
       "      <td>0.2428</td>\n",
       "      <td>66.704444</td>\n",
       "      <td>274.73</td>\n",
       "    </tr>\n",
       "    <tr>\n",
       "      <th>4</th>\n",
       "      <td>2015-02-09 00:00:00+00:00</td>\n",
       "      <td>237.83</td>\n",
       "      <td>237.83</td>\n",
       "      <td>237.83</td>\n",
       "      <td>237.83</td>\n",
       "      <td>0.0000</td>\n",
       "      <td>0.000000</td>\n",
       "      <td>0.00</td>\n",
       "    </tr>\n",
       "  </tbody>\n",
       "</table>\n",
       "</div>"
      ],
      "text/plain": [
       "                  Timestamp    Open    High     Low   Close  Volume_(BTC)  \\\n",
       "0 2015-01-12 00:00:00+00:00  360.00  360.00  360.00  360.00        0.0100   \n",
       "1 2015-01-19 00:00:00+00:00  260.00  260.00  260.00  260.00        1.0000   \n",
       "2 2015-01-26 00:00:00+00:00  225.51  225.51  225.51  225.51        0.0000   \n",
       "3 2015-02-02 00:00:00+00:00  274.73  274.73  274.73  274.73        0.2428   \n",
       "4 2015-02-09 00:00:00+00:00  237.83  237.83  237.83  237.83        0.0000   \n",
       "\n",
       "   Volume_(Currency)  Weighted_Price  \n",
       "0           3.600000          360.00  \n",
       "1         260.000000          260.00  \n",
       "2           0.000000            0.00  \n",
       "3          66.704444          274.73  \n",
       "4           0.000000            0.00  "
      ]
     },
     "execution_count": 10,
     "metadata": {},
     "output_type": "execute_result"
    }
   ],
   "source": [
    "# find rows between start and end time and find the first row (00:00 monday morning)\n",
    "weekly_rows = data[(data['Timestamp'] >= start) & (data['Timestamp'] <= end)].groupby([pd.Grouper(key='Timestamp', freq='W-MON')]).first().reset_index()\n",
    "weekly_rows.head()"
   ]
  },
  {
   "cell_type": "code",
   "execution_count": 11,
   "id": "95a1be6f",
   "metadata": {},
   "outputs": [
    {
     "data": {
      "application/vnd.plotly.v1+json": {
       "config": {
        "linkText": "Export to plot.ly",
        "plotlyServerURL": "https://plot.ly",
        "showLink": false
       },
       "data": [
        {
         "mode": "lines",
         "name": "Open",
         "type": "scatter",
         "x": [
          "2015-01-12T00:00:00+00:00",
          "2015-01-19T00:00:00+00:00",
          "2015-01-26T00:00:00+00:00",
          "2015-02-02T00:00:00+00:00",
          "2015-02-09T00:00:00+00:00",
          "2015-02-16T00:00:00+00:00",
          "2015-02-23T00:00:00+00:00",
          "2015-03-02T00:00:00+00:00",
          "2015-03-09T00:00:00+00:00",
          "2015-03-16T00:00:00+00:00",
          "2015-03-23T00:00:00+00:00",
          "2015-03-30T00:00:00+00:00",
          "2015-04-06T00:00:00+00:00",
          "2015-04-13T00:00:00+00:00",
          "2015-04-20T00:00:00+00:00",
          "2015-04-27T00:00:00+00:00",
          "2015-05-04T00:00:00+00:00",
          "2015-05-11T00:00:00+00:00",
          "2015-05-18T00:00:00+00:00",
          "2015-05-25T00:00:00+00:00",
          "2015-06-01T00:00:00+00:00",
          "2015-06-08T00:00:00+00:00",
          "2015-06-15T00:00:00+00:00",
          "2015-06-22T00:00:00+00:00",
          "2015-06-29T00:00:00+00:00",
          "2015-07-06T00:00:00+00:00",
          "2015-07-13T00:00:00+00:00",
          "2015-07-20T00:00:00+00:00",
          "2015-07-27T00:00:00+00:00",
          "2015-08-03T00:00:00+00:00",
          "2015-08-10T00:00:00+00:00",
          "2015-08-17T00:00:00+00:00",
          "2015-08-24T00:00:00+00:00",
          "2015-08-31T00:00:00+00:00",
          "2015-09-07T00:00:00+00:00",
          "2015-09-14T00:00:00+00:00",
          "2015-09-21T00:00:00+00:00",
          "2015-09-28T00:00:00+00:00",
          "2015-10-05T00:00:00+00:00",
          "2015-10-12T00:00:00+00:00",
          "2015-10-19T00:00:00+00:00",
          "2015-10-26T00:00:00+00:00",
          "2015-11-02T00:00:00+00:00",
          "2015-11-09T00:00:00+00:00",
          "2015-11-16T00:00:00+00:00",
          "2015-11-23T00:00:00+00:00",
          "2015-11-30T00:00:00+00:00",
          "2015-12-07T00:00:00+00:00",
          "2015-12-14T00:00:00+00:00",
          "2015-12-21T00:00:00+00:00",
          "2015-12-28T00:00:00+00:00",
          "2016-01-04T00:00:00+00:00",
          "2016-01-11T00:00:00+00:00",
          "2016-01-18T00:00:00+00:00",
          "2016-01-25T00:00:00+00:00",
          "2016-02-01T00:00:00+00:00",
          "2016-02-08T00:00:00+00:00",
          "2016-02-15T00:00:00+00:00",
          "2016-02-22T00:00:00+00:00",
          "2016-02-29T00:00:00+00:00",
          "2016-03-07T00:00:00+00:00",
          "2016-03-14T00:00:00+00:00",
          "2016-03-21T00:00:00+00:00",
          "2016-03-28T00:00:00+00:00",
          "2016-04-04T00:00:00+00:00",
          "2016-04-11T00:00:00+00:00",
          "2016-04-18T00:00:00+00:00",
          "2016-04-25T00:00:00+00:00",
          "2016-05-02T00:00:00+00:00",
          "2016-05-09T00:00:00+00:00",
          "2016-05-16T00:00:00+00:00",
          "2016-05-23T00:00:00+00:00",
          "2016-05-30T00:00:00+00:00",
          "2016-06-06T00:00:00+00:00",
          "2016-06-13T00:00:00+00:00",
          "2016-06-20T00:00:00+00:00",
          "2016-06-27T00:00:00+00:00",
          "2016-07-04T00:00:00+00:00",
          "2016-07-11T00:00:00+00:00",
          "2016-07-18T00:00:00+00:00",
          "2016-07-25T00:00:00+00:00",
          "2016-08-01T00:00:00+00:00",
          "2016-08-08T00:00:00+00:00",
          "2016-08-15T00:00:00+00:00",
          "2016-08-22T00:00:00+00:00",
          "2016-08-29T00:00:00+00:00",
          "2016-09-05T00:00:00+00:00",
          "2016-09-12T00:00:00+00:00",
          "2016-09-19T00:00:00+00:00",
          "2016-09-26T00:00:00+00:00",
          "2016-10-03T00:00:00+00:00",
          "2016-10-10T00:00:00+00:00",
          "2016-10-17T00:00:00+00:00",
          "2016-10-24T00:00:00+00:00",
          "2016-10-31T00:00:00+00:00",
          "2016-11-07T00:00:00+00:00",
          "2016-11-14T00:00:00+00:00",
          "2016-11-21T00:00:00+00:00",
          "2016-11-28T00:00:00+00:00",
          "2016-12-05T00:00:00+00:00",
          "2016-12-12T00:00:00+00:00",
          "2016-12-19T00:00:00+00:00",
          "2016-12-26T00:00:00+00:00",
          "2017-01-02T00:00:00+00:00",
          "2017-01-09T00:00:00+00:00",
          "2017-01-16T00:00:00+00:00",
          "2017-01-23T00:00:00+00:00",
          "2017-01-30T00:00:00+00:00",
          "2017-02-06T00:00:00+00:00",
          "2017-02-13T00:00:00+00:00",
          "2017-02-20T00:00:00+00:00",
          "2017-02-27T00:00:00+00:00",
          "2017-03-06T00:00:00+00:00",
          "2017-03-13T00:00:00+00:00",
          "2017-03-20T00:00:00+00:00",
          "2017-03-27T00:00:00+00:00",
          "2017-04-03T00:00:00+00:00",
          "2017-04-10T00:00:00+00:00",
          "2017-04-17T00:00:00+00:00",
          "2017-04-24T00:00:00+00:00",
          "2017-05-01T00:00:00+00:00",
          "2017-05-08T00:00:00+00:00",
          "2017-05-15T00:00:00+00:00",
          "2017-05-22T00:00:00+00:00",
          "2017-05-29T00:00:00+00:00",
          "2017-06-05T00:00:00+00:00",
          "2017-06-12T00:00:00+00:00",
          "2017-06-19T00:00:00+00:00",
          "2017-06-26T00:00:00+00:00",
          "2017-07-03T00:00:00+00:00",
          "2017-07-10T00:00:00+00:00",
          "2017-07-17T00:00:00+00:00",
          "2017-07-24T00:00:00+00:00",
          "2017-07-31T00:00:00+00:00",
          "2017-08-07T00:00:00+00:00",
          "2017-08-14T00:00:00+00:00",
          "2017-08-21T00:00:00+00:00",
          "2017-08-28T00:00:00+00:00",
          "2017-09-04T00:00:00+00:00",
          "2017-09-11T00:00:00+00:00",
          "2017-09-18T00:00:00+00:00",
          "2017-09-25T00:00:00+00:00",
          "2017-10-02T00:00:00+00:00",
          "2017-10-09T00:00:00+00:00",
          "2017-10-16T00:00:00+00:00",
          "2017-10-23T00:00:00+00:00",
          "2017-10-30T00:00:00+00:00",
          "2017-11-06T00:00:00+00:00",
          "2017-11-13T00:00:00+00:00",
          "2017-11-20T00:00:00+00:00",
          "2017-11-27T00:00:00+00:00",
          "2017-12-04T00:00:00+00:00",
          "2017-12-11T00:00:00+00:00",
          "2017-12-18T00:00:00+00:00",
          "2017-12-25T00:00:00+00:00",
          "2018-01-01T00:00:00+00:00",
          "2018-01-08T00:00:00+00:00",
          "2018-01-15T00:00:00+00:00",
          "2018-01-22T00:00:00+00:00",
          "2018-01-29T00:00:00+00:00",
          "2018-02-05T00:00:00+00:00",
          "2018-02-12T00:00:00+00:00",
          "2018-02-19T00:00:00+00:00",
          "2018-02-26T00:00:00+00:00",
          "2018-03-05T00:00:00+00:00",
          "2018-03-12T00:00:00+00:00",
          "2018-03-19T00:00:00+00:00",
          "2018-03-26T00:00:00+00:00",
          "2018-04-02T00:00:00+00:00",
          "2018-04-09T00:00:00+00:00",
          "2018-04-16T00:00:00+00:00",
          "2018-04-23T00:00:00+00:00",
          "2018-04-30T00:00:00+00:00",
          "2018-05-07T00:00:00+00:00",
          "2018-05-14T00:00:00+00:00",
          "2018-05-21T00:00:00+00:00",
          "2018-05-28T00:00:00+00:00",
          "2018-06-04T00:00:00+00:00",
          "2018-06-11T00:00:00+00:00",
          "2018-06-18T00:00:00+00:00",
          "2018-06-25T00:00:00+00:00",
          "2018-07-02T00:00:00+00:00",
          "2018-07-09T00:00:00+00:00",
          "2018-07-16T00:00:00+00:00",
          "2018-07-23T00:00:00+00:00",
          "2018-07-30T00:00:00+00:00",
          "2018-08-06T00:00:00+00:00",
          "2018-08-13T00:00:00+00:00",
          "2018-08-20T00:00:00+00:00",
          "2018-08-27T00:00:00+00:00",
          "2018-09-03T00:00:00+00:00",
          "2018-09-10T00:00:00+00:00",
          "2018-09-17T00:00:00+00:00",
          "2018-09-24T00:00:00+00:00",
          "2018-10-01T00:00:00+00:00",
          "2018-10-08T00:00:00+00:00",
          "2018-10-15T00:00:00+00:00",
          "2018-10-22T00:00:00+00:00",
          "2018-10-29T00:00:00+00:00",
          "2018-11-05T00:00:00+00:00",
          "2018-11-12T00:00:00+00:00"
         ],
         "y": [
          360,
          260,
          225.51,
          274.73,
          237.83,
          221.13,
          234.41,
          239.49,
          276.79,
          290.2,
          292.36,
          267.54,
          248.53,
          257.57,
          227,
          224.89,
          227.45,
          238.81,
          242.73,
          233.93,
          237.42,
          223.43,
          229.25,
          237.06,
          247.65,
          256.51,
          272.46,
          291.61,
          278.31,
          296.11,
          281.59,
          264.94,
          258.48,
          212.23,
          230.85,
          241.39,
          231.43,
          227.14,
          239.34,
          240.41,
          247.15,
          264.51,
          287.1,
          365.14,
          379.55,
          332.85,
          323.01,
          376.88,
          394.73,
          444.03,
          436.85,
          421.94,
          433.84,
          449.26,
          384.79,
          391.4,
          371.33,
          371.08,
          398.94,
          437.45,
          436.41,
          412.21,
          415.02,
          411.98,
          422.16,
          419.5,
          423.27,
          429.5,
          468.9,
          446.32,
          463.51,
          456.25,
          444.94,
          533.24,
          584.6,
          704.6,
          729.21,
          652.13,
          678.46,
          650.5,
          675.99,
          657.79,
          608.11,
          592.05,
          568.79,
          584.87,
          573.4,
          608.98,
          606.8,
          609.53,
          606.55,
          612.81,
          618.05,
          637.59,
          649.22,
          697.07,
          706.41,
          708.4,
          736.39,
          730.18,
          752.01,
          779.26,
          791,
          902.08,
          1011.52,
          902.66,
          834.41,
          911.78,
          923.26,
          1022.91,
          1002.88,
          1089.98,
          1195.84,
          1284.99,
          1245.5,
          1046.75,
          1037.7,
          1154.16,
          1208,
          1191.81,
          1259.88,
          1452,
          1685.85,
          1759.49,
          2004.54,
          2282.96,
          2676.98,
          2628.75,
          2581.26,
          2416.06,
          2552,
          2331.41,
          2200,
          2760.01,
          2857.26,
          3395.66,
          4256.99,
          4011.01,
          4373.5,
          4508.97,
          4218.5,
          4071.21,
          3924.01,
          4368.07,
          4740,
          5716.89,
          5868.29,
          6124.16,
          6969.76,
          6535.87,
          8256.01,
          9768.71,
          11643.99,
          16885.76,
          19039.01,
          14171.99,
          13480,
          14993.73,
          13590,
          10766.7,
          11123.01,
          6905.2,
          8872.27,
          11140,
          10300,
          11371.5,
          9120,
          8589,
          8180,
          7032.36,
          6692.99,
          8011.31,
          8929.3,
          9179.99,
          9310,
          8611,
          8396.99,
          7136.36,
          7499.02,
          6789.99,
          6704.2,
          6233.63,
          6626.22,
          6699.23,
          6668.26,
          7721,
          8163.01,
          6877,
          6263.98,
          6301.96,
          6748.34,
          7263.23,
          6287.29,
          6247.69,
          6595.11,
          6562.5,
          6598.49,
          6430.51,
          6404.51,
          6266,
          6404
         ]
        },
        {
         "mode": "lines",
         "name": "Close",
         "type": "scatter",
         "x": [
          "2015-01-12T00:00:00+00:00",
          "2015-01-19T00:00:00+00:00",
          "2015-01-26T00:00:00+00:00",
          "2015-02-02T00:00:00+00:00",
          "2015-02-09T00:00:00+00:00",
          "2015-02-16T00:00:00+00:00",
          "2015-02-23T00:00:00+00:00",
          "2015-03-02T00:00:00+00:00",
          "2015-03-09T00:00:00+00:00",
          "2015-03-16T00:00:00+00:00",
          "2015-03-23T00:00:00+00:00",
          "2015-03-30T00:00:00+00:00",
          "2015-04-06T00:00:00+00:00",
          "2015-04-13T00:00:00+00:00",
          "2015-04-20T00:00:00+00:00",
          "2015-04-27T00:00:00+00:00",
          "2015-05-04T00:00:00+00:00",
          "2015-05-11T00:00:00+00:00",
          "2015-05-18T00:00:00+00:00",
          "2015-05-25T00:00:00+00:00",
          "2015-06-01T00:00:00+00:00",
          "2015-06-08T00:00:00+00:00",
          "2015-06-15T00:00:00+00:00",
          "2015-06-22T00:00:00+00:00",
          "2015-06-29T00:00:00+00:00",
          "2015-07-06T00:00:00+00:00",
          "2015-07-13T00:00:00+00:00",
          "2015-07-20T00:00:00+00:00",
          "2015-07-27T00:00:00+00:00",
          "2015-08-03T00:00:00+00:00",
          "2015-08-10T00:00:00+00:00",
          "2015-08-17T00:00:00+00:00",
          "2015-08-24T00:00:00+00:00",
          "2015-08-31T00:00:00+00:00",
          "2015-09-07T00:00:00+00:00",
          "2015-09-14T00:00:00+00:00",
          "2015-09-21T00:00:00+00:00",
          "2015-09-28T00:00:00+00:00",
          "2015-10-05T00:00:00+00:00",
          "2015-10-12T00:00:00+00:00",
          "2015-10-19T00:00:00+00:00",
          "2015-10-26T00:00:00+00:00",
          "2015-11-02T00:00:00+00:00",
          "2015-11-09T00:00:00+00:00",
          "2015-11-16T00:00:00+00:00",
          "2015-11-23T00:00:00+00:00",
          "2015-11-30T00:00:00+00:00",
          "2015-12-07T00:00:00+00:00",
          "2015-12-14T00:00:00+00:00",
          "2015-12-21T00:00:00+00:00",
          "2015-12-28T00:00:00+00:00",
          "2016-01-04T00:00:00+00:00",
          "2016-01-11T00:00:00+00:00",
          "2016-01-18T00:00:00+00:00",
          "2016-01-25T00:00:00+00:00",
          "2016-02-01T00:00:00+00:00",
          "2016-02-08T00:00:00+00:00",
          "2016-02-15T00:00:00+00:00",
          "2016-02-22T00:00:00+00:00",
          "2016-02-29T00:00:00+00:00",
          "2016-03-07T00:00:00+00:00",
          "2016-03-14T00:00:00+00:00",
          "2016-03-21T00:00:00+00:00",
          "2016-03-28T00:00:00+00:00",
          "2016-04-04T00:00:00+00:00",
          "2016-04-11T00:00:00+00:00",
          "2016-04-18T00:00:00+00:00",
          "2016-04-25T00:00:00+00:00",
          "2016-05-02T00:00:00+00:00",
          "2016-05-09T00:00:00+00:00",
          "2016-05-16T00:00:00+00:00",
          "2016-05-23T00:00:00+00:00",
          "2016-05-30T00:00:00+00:00",
          "2016-06-06T00:00:00+00:00",
          "2016-06-13T00:00:00+00:00",
          "2016-06-20T00:00:00+00:00",
          "2016-06-27T00:00:00+00:00",
          "2016-07-04T00:00:00+00:00",
          "2016-07-11T00:00:00+00:00",
          "2016-07-18T00:00:00+00:00",
          "2016-07-25T00:00:00+00:00",
          "2016-08-01T00:00:00+00:00",
          "2016-08-08T00:00:00+00:00",
          "2016-08-15T00:00:00+00:00",
          "2016-08-22T00:00:00+00:00",
          "2016-08-29T00:00:00+00:00",
          "2016-09-05T00:00:00+00:00",
          "2016-09-12T00:00:00+00:00",
          "2016-09-19T00:00:00+00:00",
          "2016-09-26T00:00:00+00:00",
          "2016-10-03T00:00:00+00:00",
          "2016-10-10T00:00:00+00:00",
          "2016-10-17T00:00:00+00:00",
          "2016-10-24T00:00:00+00:00",
          "2016-10-31T00:00:00+00:00",
          "2016-11-07T00:00:00+00:00",
          "2016-11-14T00:00:00+00:00",
          "2016-11-21T00:00:00+00:00",
          "2016-11-28T00:00:00+00:00",
          "2016-12-05T00:00:00+00:00",
          "2016-12-12T00:00:00+00:00",
          "2016-12-19T00:00:00+00:00",
          "2016-12-26T00:00:00+00:00",
          "2017-01-02T00:00:00+00:00",
          "2017-01-09T00:00:00+00:00",
          "2017-01-16T00:00:00+00:00",
          "2017-01-23T00:00:00+00:00",
          "2017-01-30T00:00:00+00:00",
          "2017-02-06T00:00:00+00:00",
          "2017-02-13T00:00:00+00:00",
          "2017-02-20T00:00:00+00:00",
          "2017-02-27T00:00:00+00:00",
          "2017-03-06T00:00:00+00:00",
          "2017-03-13T00:00:00+00:00",
          "2017-03-20T00:00:00+00:00",
          "2017-03-27T00:00:00+00:00",
          "2017-04-03T00:00:00+00:00",
          "2017-04-10T00:00:00+00:00",
          "2017-04-17T00:00:00+00:00",
          "2017-04-24T00:00:00+00:00",
          "2017-05-01T00:00:00+00:00",
          "2017-05-08T00:00:00+00:00",
          "2017-05-15T00:00:00+00:00",
          "2017-05-22T00:00:00+00:00",
          "2017-05-29T00:00:00+00:00",
          "2017-06-05T00:00:00+00:00",
          "2017-06-12T00:00:00+00:00",
          "2017-06-19T00:00:00+00:00",
          "2017-06-26T00:00:00+00:00",
          "2017-07-03T00:00:00+00:00",
          "2017-07-10T00:00:00+00:00",
          "2017-07-17T00:00:00+00:00",
          "2017-07-24T00:00:00+00:00",
          "2017-07-31T00:00:00+00:00",
          "2017-08-07T00:00:00+00:00",
          "2017-08-14T00:00:00+00:00",
          "2017-08-21T00:00:00+00:00",
          "2017-08-28T00:00:00+00:00",
          "2017-09-04T00:00:00+00:00",
          "2017-09-11T00:00:00+00:00",
          "2017-09-18T00:00:00+00:00",
          "2017-09-25T00:00:00+00:00",
          "2017-10-02T00:00:00+00:00",
          "2017-10-09T00:00:00+00:00",
          "2017-10-16T00:00:00+00:00",
          "2017-10-23T00:00:00+00:00",
          "2017-10-30T00:00:00+00:00",
          "2017-11-06T00:00:00+00:00",
          "2017-11-13T00:00:00+00:00",
          "2017-11-20T00:00:00+00:00",
          "2017-11-27T00:00:00+00:00",
          "2017-12-04T00:00:00+00:00",
          "2017-12-11T00:00:00+00:00",
          "2017-12-18T00:00:00+00:00",
          "2017-12-25T00:00:00+00:00",
          "2018-01-01T00:00:00+00:00",
          "2018-01-08T00:00:00+00:00",
          "2018-01-15T00:00:00+00:00",
          "2018-01-22T00:00:00+00:00",
          "2018-01-29T00:00:00+00:00",
          "2018-02-05T00:00:00+00:00",
          "2018-02-12T00:00:00+00:00",
          "2018-02-19T00:00:00+00:00",
          "2018-02-26T00:00:00+00:00",
          "2018-03-05T00:00:00+00:00",
          "2018-03-12T00:00:00+00:00",
          "2018-03-19T00:00:00+00:00",
          "2018-03-26T00:00:00+00:00",
          "2018-04-02T00:00:00+00:00",
          "2018-04-09T00:00:00+00:00",
          "2018-04-16T00:00:00+00:00",
          "2018-04-23T00:00:00+00:00",
          "2018-04-30T00:00:00+00:00",
          "2018-05-07T00:00:00+00:00",
          "2018-05-14T00:00:00+00:00",
          "2018-05-21T00:00:00+00:00",
          "2018-05-28T00:00:00+00:00",
          "2018-06-04T00:00:00+00:00",
          "2018-06-11T00:00:00+00:00",
          "2018-06-18T00:00:00+00:00",
          "2018-06-25T00:00:00+00:00",
          "2018-07-02T00:00:00+00:00",
          "2018-07-09T00:00:00+00:00",
          "2018-07-16T00:00:00+00:00",
          "2018-07-23T00:00:00+00:00",
          "2018-07-30T00:00:00+00:00",
          "2018-08-06T00:00:00+00:00",
          "2018-08-13T00:00:00+00:00",
          "2018-08-20T00:00:00+00:00",
          "2018-08-27T00:00:00+00:00",
          "2018-09-03T00:00:00+00:00",
          "2018-09-10T00:00:00+00:00",
          "2018-09-17T00:00:00+00:00",
          "2018-09-24T00:00:00+00:00",
          "2018-10-01T00:00:00+00:00",
          "2018-10-08T00:00:00+00:00",
          "2018-10-15T00:00:00+00:00",
          "2018-10-22T00:00:00+00:00",
          "2018-10-29T00:00:00+00:00",
          "2018-11-05T00:00:00+00:00",
          "2018-11-12T00:00:00+00:00"
         ],
         "y": [
          360,
          260,
          225.51,
          274.73,
          237.83,
          221.63,
          234.52,
          239.41,
          277.56,
          290.19,
          292.33,
          267.55,
          248.53,
          257.57,
          227.01,
          224.72,
          227.39,
          238.81,
          242.54,
          233.83,
          237.39,
          223.4,
          229.34,
          237.06,
          247.66,
          256.58,
          272.99,
          291.63,
          278.31,
          296.21,
          281.46,
          264.95,
          258.28,
          212.23,
          230.89,
          241.39,
          231.39,
          227.19,
          239.22,
          240.48,
          247.15,
          264.52,
          287.1,
          365.23,
          379.37,
          332.78,
          323.01,
          376.92,
          394.71,
          444.09,
          436.65,
          421.94,
          433.84,
          449.26,
          384.89,
          391.44,
          371.33,
          371.14,
          398.91,
          437.5,
          436.47,
          412.35,
          415.05,
          412,
          422.27,
          419.5,
          423.27,
          429.42,
          468.9,
          446.49,
          463.65,
          456.23,
          444.98,
          533.28,
          584.61,
          704.6,
          730.95,
          651.05,
          678.63,
          649.66,
          676,
          657.43,
          606.8,
          592,
          568.63,
          584.89,
          573.21,
          608.98,
          607.23,
          609.43,
          606.3,
          612.83,
          618.09,
          637.43,
          649.03,
          697.06,
          706.53,
          708.5,
          736.19,
          730.2,
          752,
          779.25,
          791.24,
          902.1,
          1011.1,
          902.65,
          834.41,
          908.01,
          923.1,
          1022.58,
          1001.97,
          1089.99,
          1195.98,
          1284.99,
          1246.48,
          1046.94,
          1037.66,
          1155.83,
          1209.82,
          1192.43,
          1259.62,
          1453.1,
          1687.56,
          1759.52,
          1992.24,
          2281.9,
          2679.8,
          2631.64,
          2583.76,
          2412.03,
          2554.55,
          2332.63,
          2207.98,
          2761.9,
          2852.91,
          3396,
          4256.99,
          4011.01,
          4370.54,
          4491,
          4223.31,
          4068.01,
          3923.91,
          4368.07,
          4740,
          5717,
          5872.73,
          6134.54,
          6981.01,
          6541.89,
          8259.14,
          9769.99,
          11659.99,
          16885.64,
          19039.01,
          14171.99,
          13489.4,
          14971.23,
          13642.28,
          10799.98,
          11111,
          6950,
          8879.99,
          11140,
          10325.63,
          11354.74,
          9107.8,
          8556.05,
          8180,
          7028.37,
          6698,
          8023,
          8925.05,
          9189,
          9310.01,
          8610.36,
          8397,
          7120.06,
          7497.02,
          6789.99,
          6704.2,
          6236.36,
          6626.22,
          6698.23,
          6672.71,
          7718.23,
          8171.29,
          6872.38,
          6262.88,
          6267,
          6758.74,
          7251.13,
          6287.28,
          6247.2,
          6595.12,
          6562.5,
          6598.77,
          6430.5,
          6405.64,
          6266,
          6405
         ]
        },
        {
         "mode": "lines",
         "name": "Weighted Avg",
         "type": "scatter",
         "x": [
          "2015-01-12T00:00:00+00:00",
          "2015-01-19T00:00:00+00:00",
          "2015-01-26T00:00:00+00:00",
          "2015-02-02T00:00:00+00:00",
          "2015-02-09T00:00:00+00:00",
          "2015-02-16T00:00:00+00:00",
          "2015-02-23T00:00:00+00:00",
          "2015-03-02T00:00:00+00:00",
          "2015-03-09T00:00:00+00:00",
          "2015-03-16T00:00:00+00:00",
          "2015-03-23T00:00:00+00:00",
          "2015-03-30T00:00:00+00:00",
          "2015-04-06T00:00:00+00:00",
          "2015-04-13T00:00:00+00:00",
          "2015-04-20T00:00:00+00:00",
          "2015-04-27T00:00:00+00:00",
          "2015-05-04T00:00:00+00:00",
          "2015-05-11T00:00:00+00:00",
          "2015-05-18T00:00:00+00:00",
          "2015-05-25T00:00:00+00:00",
          "2015-06-01T00:00:00+00:00",
          "2015-06-08T00:00:00+00:00",
          "2015-06-15T00:00:00+00:00",
          "2015-06-22T00:00:00+00:00",
          "2015-06-29T00:00:00+00:00",
          "2015-07-06T00:00:00+00:00",
          "2015-07-13T00:00:00+00:00",
          "2015-07-20T00:00:00+00:00",
          "2015-07-27T00:00:00+00:00",
          "2015-08-03T00:00:00+00:00",
          "2015-08-10T00:00:00+00:00",
          "2015-08-17T00:00:00+00:00",
          "2015-08-24T00:00:00+00:00",
          "2015-08-31T00:00:00+00:00",
          "2015-09-07T00:00:00+00:00",
          "2015-09-14T00:00:00+00:00",
          "2015-09-21T00:00:00+00:00",
          "2015-09-28T00:00:00+00:00",
          "2015-10-05T00:00:00+00:00",
          "2015-10-12T00:00:00+00:00",
          "2015-10-19T00:00:00+00:00",
          "2015-10-26T00:00:00+00:00",
          "2015-11-02T00:00:00+00:00",
          "2015-11-09T00:00:00+00:00",
          "2015-11-16T00:00:00+00:00",
          "2015-11-23T00:00:00+00:00",
          "2015-11-30T00:00:00+00:00",
          "2015-12-07T00:00:00+00:00",
          "2015-12-14T00:00:00+00:00",
          "2015-12-21T00:00:00+00:00",
          "2015-12-28T00:00:00+00:00",
          "2016-01-04T00:00:00+00:00",
          "2016-01-11T00:00:00+00:00",
          "2016-01-18T00:00:00+00:00",
          "2016-01-25T00:00:00+00:00",
          "2016-02-01T00:00:00+00:00",
          "2016-02-08T00:00:00+00:00",
          "2016-02-15T00:00:00+00:00",
          "2016-02-22T00:00:00+00:00",
          "2016-02-29T00:00:00+00:00",
          "2016-03-07T00:00:00+00:00",
          "2016-03-14T00:00:00+00:00",
          "2016-03-21T00:00:00+00:00",
          "2016-03-28T00:00:00+00:00",
          "2016-04-04T00:00:00+00:00",
          "2016-04-11T00:00:00+00:00",
          "2016-04-18T00:00:00+00:00",
          "2016-04-25T00:00:00+00:00",
          "2016-05-02T00:00:00+00:00",
          "2016-05-09T00:00:00+00:00",
          "2016-05-16T00:00:00+00:00",
          "2016-05-23T00:00:00+00:00",
          "2016-05-30T00:00:00+00:00",
          "2016-06-06T00:00:00+00:00",
          "2016-06-13T00:00:00+00:00",
          "2016-06-20T00:00:00+00:00",
          "2016-06-27T00:00:00+00:00",
          "2016-07-04T00:00:00+00:00",
          "2016-07-11T00:00:00+00:00",
          "2016-07-18T00:00:00+00:00",
          "2016-07-25T00:00:00+00:00",
          "2016-08-01T00:00:00+00:00",
          "2016-08-08T00:00:00+00:00",
          "2016-08-15T00:00:00+00:00",
          "2016-08-22T00:00:00+00:00",
          "2016-08-29T00:00:00+00:00",
          "2016-09-05T00:00:00+00:00",
          "2016-09-12T00:00:00+00:00",
          "2016-09-19T00:00:00+00:00",
          "2016-09-26T00:00:00+00:00",
          "2016-10-03T00:00:00+00:00",
          "2016-10-10T00:00:00+00:00",
          "2016-10-17T00:00:00+00:00",
          "2016-10-24T00:00:00+00:00",
          "2016-10-31T00:00:00+00:00",
          "2016-11-07T00:00:00+00:00",
          "2016-11-14T00:00:00+00:00",
          "2016-11-21T00:00:00+00:00",
          "2016-11-28T00:00:00+00:00",
          "2016-12-05T00:00:00+00:00",
          "2016-12-12T00:00:00+00:00",
          "2016-12-19T00:00:00+00:00",
          "2016-12-26T00:00:00+00:00",
          "2017-01-02T00:00:00+00:00",
          "2017-01-09T00:00:00+00:00",
          "2017-01-16T00:00:00+00:00",
          "2017-01-23T00:00:00+00:00",
          "2017-01-30T00:00:00+00:00",
          "2017-02-06T00:00:00+00:00",
          "2017-02-13T00:00:00+00:00",
          "2017-02-20T00:00:00+00:00",
          "2017-02-27T00:00:00+00:00",
          "2017-03-06T00:00:00+00:00",
          "2017-03-13T00:00:00+00:00",
          "2017-03-20T00:00:00+00:00",
          "2017-03-27T00:00:00+00:00",
          "2017-04-03T00:00:00+00:00",
          "2017-04-10T00:00:00+00:00",
          "2017-04-17T00:00:00+00:00",
          "2017-04-24T00:00:00+00:00",
          "2017-05-01T00:00:00+00:00",
          "2017-05-08T00:00:00+00:00",
          "2017-05-15T00:00:00+00:00",
          "2017-05-22T00:00:00+00:00",
          "2017-05-29T00:00:00+00:00",
          "2017-06-05T00:00:00+00:00",
          "2017-06-12T00:00:00+00:00",
          "2017-06-19T00:00:00+00:00",
          "2017-06-26T00:00:00+00:00",
          "2017-07-03T00:00:00+00:00",
          "2017-07-10T00:00:00+00:00",
          "2017-07-17T00:00:00+00:00",
          "2017-07-24T00:00:00+00:00",
          "2017-07-31T00:00:00+00:00",
          "2017-08-07T00:00:00+00:00",
          "2017-08-14T00:00:00+00:00",
          "2017-08-21T00:00:00+00:00",
          "2017-08-28T00:00:00+00:00",
          "2017-09-04T00:00:00+00:00",
          "2017-09-11T00:00:00+00:00",
          "2017-09-18T00:00:00+00:00",
          "2017-09-25T00:00:00+00:00",
          "2017-10-02T00:00:00+00:00",
          "2017-10-09T00:00:00+00:00",
          "2017-10-16T00:00:00+00:00",
          "2017-10-23T00:00:00+00:00",
          "2017-10-30T00:00:00+00:00",
          "2017-11-06T00:00:00+00:00",
          "2017-11-13T00:00:00+00:00",
          "2017-11-20T00:00:00+00:00",
          "2017-11-27T00:00:00+00:00",
          "2017-12-04T00:00:00+00:00",
          "2017-12-11T00:00:00+00:00",
          "2017-12-18T00:00:00+00:00",
          "2017-12-25T00:00:00+00:00",
          "2018-01-01T00:00:00+00:00",
          "2018-01-08T00:00:00+00:00",
          "2018-01-15T00:00:00+00:00",
          "2018-01-22T00:00:00+00:00",
          "2018-01-29T00:00:00+00:00",
          "2018-02-05T00:00:00+00:00",
          "2018-02-12T00:00:00+00:00",
          "2018-02-19T00:00:00+00:00",
          "2018-02-26T00:00:00+00:00",
          "2018-03-05T00:00:00+00:00",
          "2018-03-12T00:00:00+00:00",
          "2018-03-19T00:00:00+00:00",
          "2018-03-26T00:00:00+00:00",
          "2018-04-02T00:00:00+00:00",
          "2018-04-09T00:00:00+00:00",
          "2018-04-16T00:00:00+00:00",
          "2018-04-23T00:00:00+00:00",
          "2018-04-30T00:00:00+00:00",
          "2018-05-07T00:00:00+00:00",
          "2018-05-14T00:00:00+00:00",
          "2018-05-21T00:00:00+00:00",
          "2018-05-28T00:00:00+00:00",
          "2018-06-04T00:00:00+00:00",
          "2018-06-11T00:00:00+00:00",
          "2018-06-18T00:00:00+00:00",
          "2018-06-25T00:00:00+00:00",
          "2018-07-02T00:00:00+00:00",
          "2018-07-09T00:00:00+00:00",
          "2018-07-16T00:00:00+00:00",
          "2018-07-23T00:00:00+00:00",
          "2018-07-30T00:00:00+00:00",
          "2018-08-06T00:00:00+00:00",
          "2018-08-13T00:00:00+00:00",
          "2018-08-20T00:00:00+00:00",
          "2018-08-27T00:00:00+00:00",
          "2018-09-03T00:00:00+00:00",
          "2018-09-10T00:00:00+00:00",
          "2018-09-17T00:00:00+00:00",
          "2018-09-24T00:00:00+00:00",
          "2018-10-01T00:00:00+00:00",
          "2018-10-08T00:00:00+00:00",
          "2018-10-15T00:00:00+00:00",
          "2018-10-22T00:00:00+00:00",
          "2018-10-29T00:00:00+00:00",
          "2018-11-05T00:00:00+00:00",
          "2018-11-12T00:00:00+00:00"
         ],
         "y": [
          360,
          260,
          0,
          274.73,
          0,
          221.38630383,
          234.36768721,
          239.48458448,
          277.20456873,
          290.20991658,
          292.34253968,
          267.5496748,
          248.53,
          257.56973842,
          227.00990436,
          224.89459562,
          227.46721946,
          238.81,
          242.54081848,
          233.81520284,
          237.42134738,
          223.41124468,
          229.29422061,
          237.19527186,
          0,
          256.56968861,
          272.80535561,
          291.62799756,
          278.30686827,
          0,
          281.50327206,
          264.94980091,
          258.34573097,
          212.23,
          230.86061816,
          241.39,
          231.42429134,
          227.1844748,
          239.24227299,
          240.43713777,
          247.15,
          0,
          287.1,
          365.17496736,
          379.38697034,
          332.81049999,
          323.01,
          376.90848168,
          394.7225,
          444.04925511,
          436.81971848,
          421.93164664,
          433.84,
          449.25553185,
          384.73240707,
          391.34940930000005,
          371.33,
          0,
          398.63918572,
          437.48655303,
          436.43609031,
          412.33776078,
          415.11401193,
          411.99893707,
          422.16072022,
          419.5,
          423.27,
          429.44298041,
          468.9,
          446.42716862,
          463.60552875,
          456.24618502,
          444.96855383,
          533.26189735,
          584.5201481,
          704.6,
          730.3628747,
          651.49241408,
          678.53104627,
          649.88002659,
          675.86498393,
          657.54297835,
          607.39174956,
          592.02554618,
          568.75421919,
          584.87842703,
          573.39155526,
          608.98207121,
          607.27628894,
          609.41434748,
          606.35839199,
          612.80733052,
          618.08573552,
          637.52913592,
          649.059405,
          697.03500639,
          706.31447605,
          708.47135602,
          736.22780795,
          729.86754803,
          752.00288938,
          779.07443316,
          791.28412697,
          902.09970176,
          1011.3156544,
          902.65503053,
          0,
          910.74890644,
          923.2321910000001,
          0,
          1001.8095727,
          1089.8080246,
          1195.9399719,
          1284.99,
          1245.7940572,
          1046.940815,
          1037.6927536,
          1154.3562782,
          1209.4156968,
          1191.8354021,
          1259.7645178,
          1452.6444929000002,
          1685.6342485,
          1759.5109587000002,
          1996.2348379999999,
          2281.1828356,
          2678.9636126,
          2630.3737885,
          2583.0107445999997,
          2415.4098871,
          2554.1403531,
          2333.4532031999997,
          2205.0524315000002,
          2761.564009,
          2853.8812409,
          3395.6615776,
          4256.9873802,
          4011.006693,
          4371.04234,
          4496.8370202,
          4221.381912,
          4070.2065305,
          3923.9572721,
          4368.065430600001,
          4739.997487899999,
          5716.9015082,
          5872.510323699999,
          6126.437937899999,
          6973.5506356999995,
          6539.1321397,
          8256.239981,
          9768.9000513,
          11656.248527,
          16885.660255000003,
          19039.007219,
          14171.987616,
          13482.046031999998,
          14975.389947999998,
          13620.149331999999,
          10779.939584,
          11114.146563,
          6925.4633677,
          8877.2809514,
          11139.999695999999,
          10304.749367,
          11370.72568,
          9116.6012615,
          8570.0382204,
          8179.9975235,
          7028.8406199,
          6694.8494631,
          8020.0073318,
          8928.7110527,
          9181.847840299999,
          9310.0085795,
          8619.9696465,
          8396.9976483,
          7133.7872263,
          7498.6954624,
          6789.9886404,
          6704.1999973,
          6235.495161399999,
          6626.2196502,
          6698.275209,
          6670.447772300001,
          7720.5609897,
          8166.2484757,
          6876.4735104,
          6260.786286500001,
          6284.4663823,
          6754.6034501,
          7252.3190614,
          6287.2876533,
          6247.1783791,
          6595.1180649,
          6562.499529600001,
          6598.512146,
          6430.5095151000005,
          6405.1726213,
          6265.0581976,
          6404.840182600001
         ]
        }
       ],
       "layout": {
        "template": {
         "data": {
          "bar": [
           {
            "error_x": {
             "color": "#2a3f5f"
            },
            "error_y": {
             "color": "#2a3f5f"
            },
            "marker": {
             "line": {
              "color": "#E5ECF6",
              "width": 0.5
             },
             "pattern": {
              "fillmode": "overlay",
              "size": 10,
              "solidity": 0.2
             }
            },
            "type": "bar"
           }
          ],
          "barpolar": [
           {
            "marker": {
             "line": {
              "color": "#E5ECF6",
              "width": 0.5
             },
             "pattern": {
              "fillmode": "overlay",
              "size": 10,
              "solidity": 0.2
             }
            },
            "type": "barpolar"
           }
          ],
          "carpet": [
           {
            "aaxis": {
             "endlinecolor": "#2a3f5f",
             "gridcolor": "white",
             "linecolor": "white",
             "minorgridcolor": "white",
             "startlinecolor": "#2a3f5f"
            },
            "baxis": {
             "endlinecolor": "#2a3f5f",
             "gridcolor": "white",
             "linecolor": "white",
             "minorgridcolor": "white",
             "startlinecolor": "#2a3f5f"
            },
            "type": "carpet"
           }
          ],
          "choropleth": [
           {
            "colorbar": {
             "outlinewidth": 0,
             "ticks": ""
            },
            "type": "choropleth"
           }
          ],
          "contour": [
           {
            "colorbar": {
             "outlinewidth": 0,
             "ticks": ""
            },
            "colorscale": [
             [
              0,
              "#0d0887"
             ],
             [
              0.1111111111111111,
              "#46039f"
             ],
             [
              0.2222222222222222,
              "#7201a8"
             ],
             [
              0.3333333333333333,
              "#9c179e"
             ],
             [
              0.4444444444444444,
              "#bd3786"
             ],
             [
              0.5555555555555556,
              "#d8576b"
             ],
             [
              0.6666666666666666,
              "#ed7953"
             ],
             [
              0.7777777777777778,
              "#fb9f3a"
             ],
             [
              0.8888888888888888,
              "#fdca26"
             ],
             [
              1,
              "#f0f921"
             ]
            ],
            "type": "contour"
           }
          ],
          "contourcarpet": [
           {
            "colorbar": {
             "outlinewidth": 0,
             "ticks": ""
            },
            "type": "contourcarpet"
           }
          ],
          "heatmap": [
           {
            "colorbar": {
             "outlinewidth": 0,
             "ticks": ""
            },
            "colorscale": [
             [
              0,
              "#0d0887"
             ],
             [
              0.1111111111111111,
              "#46039f"
             ],
             [
              0.2222222222222222,
              "#7201a8"
             ],
             [
              0.3333333333333333,
              "#9c179e"
             ],
             [
              0.4444444444444444,
              "#bd3786"
             ],
             [
              0.5555555555555556,
              "#d8576b"
             ],
             [
              0.6666666666666666,
              "#ed7953"
             ],
             [
              0.7777777777777778,
              "#fb9f3a"
             ],
             [
              0.8888888888888888,
              "#fdca26"
             ],
             [
              1,
              "#f0f921"
             ]
            ],
            "type": "heatmap"
           }
          ],
          "heatmapgl": [
           {
            "colorbar": {
             "outlinewidth": 0,
             "ticks": ""
            },
            "colorscale": [
             [
              0,
              "#0d0887"
             ],
             [
              0.1111111111111111,
              "#46039f"
             ],
             [
              0.2222222222222222,
              "#7201a8"
             ],
             [
              0.3333333333333333,
              "#9c179e"
             ],
             [
              0.4444444444444444,
              "#bd3786"
             ],
             [
              0.5555555555555556,
              "#d8576b"
             ],
             [
              0.6666666666666666,
              "#ed7953"
             ],
             [
              0.7777777777777778,
              "#fb9f3a"
             ],
             [
              0.8888888888888888,
              "#fdca26"
             ],
             [
              1,
              "#f0f921"
             ]
            ],
            "type": "heatmapgl"
           }
          ],
          "histogram": [
           {
            "marker": {
             "pattern": {
              "fillmode": "overlay",
              "size": 10,
              "solidity": 0.2
             }
            },
            "type": "histogram"
           }
          ],
          "histogram2d": [
           {
            "colorbar": {
             "outlinewidth": 0,
             "ticks": ""
            },
            "colorscale": [
             [
              0,
              "#0d0887"
             ],
             [
              0.1111111111111111,
              "#46039f"
             ],
             [
              0.2222222222222222,
              "#7201a8"
             ],
             [
              0.3333333333333333,
              "#9c179e"
             ],
             [
              0.4444444444444444,
              "#bd3786"
             ],
             [
              0.5555555555555556,
              "#d8576b"
             ],
             [
              0.6666666666666666,
              "#ed7953"
             ],
             [
              0.7777777777777778,
              "#fb9f3a"
             ],
             [
              0.8888888888888888,
              "#fdca26"
             ],
             [
              1,
              "#f0f921"
             ]
            ],
            "type": "histogram2d"
           }
          ],
          "histogram2dcontour": [
           {
            "colorbar": {
             "outlinewidth": 0,
             "ticks": ""
            },
            "colorscale": [
             [
              0,
              "#0d0887"
             ],
             [
              0.1111111111111111,
              "#46039f"
             ],
             [
              0.2222222222222222,
              "#7201a8"
             ],
             [
              0.3333333333333333,
              "#9c179e"
             ],
             [
              0.4444444444444444,
              "#bd3786"
             ],
             [
              0.5555555555555556,
              "#d8576b"
             ],
             [
              0.6666666666666666,
              "#ed7953"
             ],
             [
              0.7777777777777778,
              "#fb9f3a"
             ],
             [
              0.8888888888888888,
              "#fdca26"
             ],
             [
              1,
              "#f0f921"
             ]
            ],
            "type": "histogram2dcontour"
           }
          ],
          "mesh3d": [
           {
            "colorbar": {
             "outlinewidth": 0,
             "ticks": ""
            },
            "type": "mesh3d"
           }
          ],
          "parcoords": [
           {
            "line": {
             "colorbar": {
              "outlinewidth": 0,
              "ticks": ""
             }
            },
            "type": "parcoords"
           }
          ],
          "pie": [
           {
            "automargin": true,
            "type": "pie"
           }
          ],
          "scatter": [
           {
            "marker": {
             "colorbar": {
              "outlinewidth": 0,
              "ticks": ""
             }
            },
            "type": "scatter"
           }
          ],
          "scatter3d": [
           {
            "line": {
             "colorbar": {
              "outlinewidth": 0,
              "ticks": ""
             }
            },
            "marker": {
             "colorbar": {
              "outlinewidth": 0,
              "ticks": ""
             }
            },
            "type": "scatter3d"
           }
          ],
          "scattercarpet": [
           {
            "marker": {
             "colorbar": {
              "outlinewidth": 0,
              "ticks": ""
             }
            },
            "type": "scattercarpet"
           }
          ],
          "scattergeo": [
           {
            "marker": {
             "colorbar": {
              "outlinewidth": 0,
              "ticks": ""
             }
            },
            "type": "scattergeo"
           }
          ],
          "scattergl": [
           {
            "marker": {
             "colorbar": {
              "outlinewidth": 0,
              "ticks": ""
             }
            },
            "type": "scattergl"
           }
          ],
          "scattermapbox": [
           {
            "marker": {
             "colorbar": {
              "outlinewidth": 0,
              "ticks": ""
             }
            },
            "type": "scattermapbox"
           }
          ],
          "scatterpolar": [
           {
            "marker": {
             "colorbar": {
              "outlinewidth": 0,
              "ticks": ""
             }
            },
            "type": "scatterpolar"
           }
          ],
          "scatterpolargl": [
           {
            "marker": {
             "colorbar": {
              "outlinewidth": 0,
              "ticks": ""
             }
            },
            "type": "scatterpolargl"
           }
          ],
          "scatterternary": [
           {
            "marker": {
             "colorbar": {
              "outlinewidth": 0,
              "ticks": ""
             }
            },
            "type": "scatterternary"
           }
          ],
          "surface": [
           {
            "colorbar": {
             "outlinewidth": 0,
             "ticks": ""
            },
            "colorscale": [
             [
              0,
              "#0d0887"
             ],
             [
              0.1111111111111111,
              "#46039f"
             ],
             [
              0.2222222222222222,
              "#7201a8"
             ],
             [
              0.3333333333333333,
              "#9c179e"
             ],
             [
              0.4444444444444444,
              "#bd3786"
             ],
             [
              0.5555555555555556,
              "#d8576b"
             ],
             [
              0.6666666666666666,
              "#ed7953"
             ],
             [
              0.7777777777777778,
              "#fb9f3a"
             ],
             [
              0.8888888888888888,
              "#fdca26"
             ],
             [
              1,
              "#f0f921"
             ]
            ],
            "type": "surface"
           }
          ],
          "table": [
           {
            "cells": {
             "fill": {
              "color": "#EBF0F8"
             },
             "line": {
              "color": "white"
             }
            },
            "header": {
             "fill": {
              "color": "#C8D4E3"
             },
             "line": {
              "color": "white"
             }
            },
            "type": "table"
           }
          ]
         },
         "layout": {
          "annotationdefaults": {
           "arrowcolor": "#2a3f5f",
           "arrowhead": 0,
           "arrowwidth": 1
          },
          "autotypenumbers": "strict",
          "coloraxis": {
           "colorbar": {
            "outlinewidth": 0,
            "ticks": ""
           }
          },
          "colorscale": {
           "diverging": [
            [
             0,
             "#8e0152"
            ],
            [
             0.1,
             "#c51b7d"
            ],
            [
             0.2,
             "#de77ae"
            ],
            [
             0.3,
             "#f1b6da"
            ],
            [
             0.4,
             "#fde0ef"
            ],
            [
             0.5,
             "#f7f7f7"
            ],
            [
             0.6,
             "#e6f5d0"
            ],
            [
             0.7,
             "#b8e186"
            ],
            [
             0.8,
             "#7fbc41"
            ],
            [
             0.9,
             "#4d9221"
            ],
            [
             1,
             "#276419"
            ]
           ],
           "sequential": [
            [
             0,
             "#0d0887"
            ],
            [
             0.1111111111111111,
             "#46039f"
            ],
            [
             0.2222222222222222,
             "#7201a8"
            ],
            [
             0.3333333333333333,
             "#9c179e"
            ],
            [
             0.4444444444444444,
             "#bd3786"
            ],
            [
             0.5555555555555556,
             "#d8576b"
            ],
            [
             0.6666666666666666,
             "#ed7953"
            ],
            [
             0.7777777777777778,
             "#fb9f3a"
            ],
            [
             0.8888888888888888,
             "#fdca26"
            ],
            [
             1,
             "#f0f921"
            ]
           ],
           "sequentialminus": [
            [
             0,
             "#0d0887"
            ],
            [
             0.1111111111111111,
             "#46039f"
            ],
            [
             0.2222222222222222,
             "#7201a8"
            ],
            [
             0.3333333333333333,
             "#9c179e"
            ],
            [
             0.4444444444444444,
             "#bd3786"
            ],
            [
             0.5555555555555556,
             "#d8576b"
            ],
            [
             0.6666666666666666,
             "#ed7953"
            ],
            [
             0.7777777777777778,
             "#fb9f3a"
            ],
            [
             0.8888888888888888,
             "#fdca26"
            ],
            [
             1,
             "#f0f921"
            ]
           ]
          },
          "colorway": [
           "#636efa",
           "#EF553B",
           "#00cc96",
           "#ab63fa",
           "#FFA15A",
           "#19d3f3",
           "#FF6692",
           "#B6E880",
           "#FF97FF",
           "#FECB52"
          ],
          "font": {
           "color": "#2a3f5f"
          },
          "geo": {
           "bgcolor": "white",
           "lakecolor": "white",
           "landcolor": "#E5ECF6",
           "showlakes": true,
           "showland": true,
           "subunitcolor": "white"
          },
          "hoverlabel": {
           "align": "left"
          },
          "hovermode": "closest",
          "mapbox": {
           "style": "light"
          },
          "paper_bgcolor": "white",
          "plot_bgcolor": "#E5ECF6",
          "polar": {
           "angularaxis": {
            "gridcolor": "white",
            "linecolor": "white",
            "ticks": ""
           },
           "bgcolor": "#E5ECF6",
           "radialaxis": {
            "gridcolor": "white",
            "linecolor": "white",
            "ticks": ""
           }
          },
          "scene": {
           "xaxis": {
            "backgroundcolor": "#E5ECF6",
            "gridcolor": "white",
            "gridwidth": 2,
            "linecolor": "white",
            "showbackground": true,
            "ticks": "",
            "zerolinecolor": "white"
           },
           "yaxis": {
            "backgroundcolor": "#E5ECF6",
            "gridcolor": "white",
            "gridwidth": 2,
            "linecolor": "white",
            "showbackground": true,
            "ticks": "",
            "zerolinecolor": "white"
           },
           "zaxis": {
            "backgroundcolor": "#E5ECF6",
            "gridcolor": "white",
            "gridwidth": 2,
            "linecolor": "white",
            "showbackground": true,
            "ticks": "",
            "zerolinecolor": "white"
           }
          },
          "shapedefaults": {
           "line": {
            "color": "#2a3f5f"
           }
          },
          "ternary": {
           "aaxis": {
            "gridcolor": "white",
            "linecolor": "white",
            "ticks": ""
           },
           "baxis": {
            "gridcolor": "white",
            "linecolor": "white",
            "ticks": ""
           },
           "bgcolor": "#E5ECF6",
           "caxis": {
            "gridcolor": "white",
            "linecolor": "white",
            "ticks": ""
           }
          },
          "title": {
           "x": 0.05
          },
          "xaxis": {
           "automargin": true,
           "gridcolor": "white",
           "linecolor": "white",
           "ticks": "",
           "title": {
            "standoff": 15
           },
           "zerolinecolor": "white",
           "zerolinewidth": 2
          },
          "yaxis": {
           "automargin": true,
           "gridcolor": "white",
           "linecolor": "white",
           "ticks": "",
           "title": {
            "standoff": 15
           },
           "zerolinecolor": "white",
           "zerolinewidth": 2
          }
         }
        },
        "title": {
         "text": "Historical Bitcoin Prices (2015-2018) with the Slider "
        },
        "xaxis": {
         "rangeselector": {
          "buttons": [
           {
            "count": 1,
            "label": "1m",
            "step": "month",
            "stepmode": "backward"
           },
           {
            "count": 6,
            "label": "6m",
            "step": "month",
            "stepmode": "backward"
           },
           {
            "count": 12,
            "label": "1y",
            "step": "month",
            "stepmode": "backward"
           },
           {
            "count": 36,
            "label": "3y",
            "step": "month",
            "stepmode": "backward"
           },
           {
            "step": "all"
           }
          ]
         },
         "rangeslider": {
          "visible": true
         },
         "type": "date"
        }
       }
      },
      "text/html": [
       "<div>                            <div id=\"a93bb028-0fe4-4810-aed6-2fc9588eb76a\" class=\"plotly-graph-div\" style=\"height:525px; width:100%;\"></div>            <script type=\"text/javascript\">                require([\"plotly\"], function(Plotly) {                    window.PLOTLYENV=window.PLOTLYENV || {};                                    if (document.getElementById(\"a93bb028-0fe4-4810-aed6-2fc9588eb76a\")) {                    Plotly.newPlot(                        \"a93bb028-0fe4-4810-aed6-2fc9588eb76a\",                        [{\"mode\":\"lines\",\"name\":\"Open\",\"type\":\"scatter\",\"x\":[\"2015-01-12T00:00:00+00:00\",\"2015-01-19T00:00:00+00:00\",\"2015-01-26T00:00:00+00:00\",\"2015-02-02T00:00:00+00:00\",\"2015-02-09T00:00:00+00:00\",\"2015-02-16T00:00:00+00:00\",\"2015-02-23T00:00:00+00:00\",\"2015-03-02T00:00:00+00:00\",\"2015-03-09T00:00:00+00:00\",\"2015-03-16T00:00:00+00:00\",\"2015-03-23T00:00:00+00:00\",\"2015-03-30T00:00:00+00:00\",\"2015-04-06T00:00:00+00:00\",\"2015-04-13T00:00:00+00:00\",\"2015-04-20T00:00:00+00:00\",\"2015-04-27T00:00:00+00:00\",\"2015-05-04T00:00:00+00:00\",\"2015-05-11T00:00:00+00:00\",\"2015-05-18T00:00:00+00:00\",\"2015-05-25T00:00:00+00:00\",\"2015-06-01T00:00:00+00:00\",\"2015-06-08T00:00:00+00:00\",\"2015-06-15T00:00:00+00:00\",\"2015-06-22T00:00:00+00:00\",\"2015-06-29T00:00:00+00:00\",\"2015-07-06T00:00:00+00:00\",\"2015-07-13T00:00:00+00:00\",\"2015-07-20T00:00:00+00:00\",\"2015-07-27T00:00:00+00:00\",\"2015-08-03T00:00:00+00:00\",\"2015-08-10T00:00:00+00:00\",\"2015-08-17T00:00:00+00:00\",\"2015-08-24T00:00:00+00:00\",\"2015-08-31T00:00:00+00:00\",\"2015-09-07T00:00:00+00:00\",\"2015-09-14T00:00:00+00:00\",\"2015-09-21T00:00:00+00:00\",\"2015-09-28T00:00:00+00:00\",\"2015-10-05T00:00:00+00:00\",\"2015-10-12T00:00:00+00:00\",\"2015-10-19T00:00:00+00:00\",\"2015-10-26T00:00:00+00:00\",\"2015-11-02T00:00:00+00:00\",\"2015-11-09T00:00:00+00:00\",\"2015-11-16T00:00:00+00:00\",\"2015-11-23T00:00:00+00:00\",\"2015-11-30T00:00:00+00:00\",\"2015-12-07T00:00:00+00:00\",\"2015-12-14T00:00:00+00:00\",\"2015-12-21T00:00:00+00:00\",\"2015-12-28T00:00:00+00:00\",\"2016-01-04T00:00:00+00:00\",\"2016-01-11T00:00:00+00:00\",\"2016-01-18T00:00:00+00:00\",\"2016-01-25T00:00:00+00:00\",\"2016-02-01T00:00:00+00:00\",\"2016-02-08T00:00:00+00:00\",\"2016-02-15T00:00:00+00:00\",\"2016-02-22T00:00:00+00:00\",\"2016-02-29T00:00:00+00:00\",\"2016-03-07T00:00:00+00:00\",\"2016-03-14T00:00:00+00:00\",\"2016-03-21T00:00:00+00:00\",\"2016-03-28T00:00:00+00:00\",\"2016-04-04T00:00:00+00:00\",\"2016-04-11T00:00:00+00:00\",\"2016-04-18T00:00:00+00:00\",\"2016-04-25T00:00:00+00:00\",\"2016-05-02T00:00:00+00:00\",\"2016-05-09T00:00:00+00:00\",\"2016-05-16T00:00:00+00:00\",\"2016-05-23T00:00:00+00:00\",\"2016-05-30T00:00:00+00:00\",\"2016-06-06T00:00:00+00:00\",\"2016-06-13T00:00:00+00:00\",\"2016-06-20T00:00:00+00:00\",\"2016-06-27T00:00:00+00:00\",\"2016-07-04T00:00:00+00:00\",\"2016-07-11T00:00:00+00:00\",\"2016-07-18T00:00:00+00:00\",\"2016-07-25T00:00:00+00:00\",\"2016-08-01T00:00:00+00:00\",\"2016-08-08T00:00:00+00:00\",\"2016-08-15T00:00:00+00:00\",\"2016-08-22T00:00:00+00:00\",\"2016-08-29T00:00:00+00:00\",\"2016-09-05T00:00:00+00:00\",\"2016-09-12T00:00:00+00:00\",\"2016-09-19T00:00:00+00:00\",\"2016-09-26T00:00:00+00:00\",\"2016-10-03T00:00:00+00:00\",\"2016-10-10T00:00:00+00:00\",\"2016-10-17T00:00:00+00:00\",\"2016-10-24T00:00:00+00:00\",\"2016-10-31T00:00:00+00:00\",\"2016-11-07T00:00:00+00:00\",\"2016-11-14T00:00:00+00:00\",\"2016-11-21T00:00:00+00:00\",\"2016-11-28T00:00:00+00:00\",\"2016-12-05T00:00:00+00:00\",\"2016-12-12T00:00:00+00:00\",\"2016-12-19T00:00:00+00:00\",\"2016-12-26T00:00:00+00:00\",\"2017-01-02T00:00:00+00:00\",\"2017-01-09T00:00:00+00:00\",\"2017-01-16T00:00:00+00:00\",\"2017-01-23T00:00:00+00:00\",\"2017-01-30T00:00:00+00:00\",\"2017-02-06T00:00:00+00:00\",\"2017-02-13T00:00:00+00:00\",\"2017-02-20T00:00:00+00:00\",\"2017-02-27T00:00:00+00:00\",\"2017-03-06T00:00:00+00:00\",\"2017-03-13T00:00:00+00:00\",\"2017-03-20T00:00:00+00:00\",\"2017-03-27T00:00:00+00:00\",\"2017-04-03T00:00:00+00:00\",\"2017-04-10T00:00:00+00:00\",\"2017-04-17T00:00:00+00:00\",\"2017-04-24T00:00:00+00:00\",\"2017-05-01T00:00:00+00:00\",\"2017-05-08T00:00:00+00:00\",\"2017-05-15T00:00:00+00:00\",\"2017-05-22T00:00:00+00:00\",\"2017-05-29T00:00:00+00:00\",\"2017-06-05T00:00:00+00:00\",\"2017-06-12T00:00:00+00:00\",\"2017-06-19T00:00:00+00:00\",\"2017-06-26T00:00:00+00:00\",\"2017-07-03T00:00:00+00:00\",\"2017-07-10T00:00:00+00:00\",\"2017-07-17T00:00:00+00:00\",\"2017-07-24T00:00:00+00:00\",\"2017-07-31T00:00:00+00:00\",\"2017-08-07T00:00:00+00:00\",\"2017-08-14T00:00:00+00:00\",\"2017-08-21T00:00:00+00:00\",\"2017-08-28T00:00:00+00:00\",\"2017-09-04T00:00:00+00:00\",\"2017-09-11T00:00:00+00:00\",\"2017-09-18T00:00:00+00:00\",\"2017-09-25T00:00:00+00:00\",\"2017-10-02T00:00:00+00:00\",\"2017-10-09T00:00:00+00:00\",\"2017-10-16T00:00:00+00:00\",\"2017-10-23T00:00:00+00:00\",\"2017-10-30T00:00:00+00:00\",\"2017-11-06T00:00:00+00:00\",\"2017-11-13T00:00:00+00:00\",\"2017-11-20T00:00:00+00:00\",\"2017-11-27T00:00:00+00:00\",\"2017-12-04T00:00:00+00:00\",\"2017-12-11T00:00:00+00:00\",\"2017-12-18T00:00:00+00:00\",\"2017-12-25T00:00:00+00:00\",\"2018-01-01T00:00:00+00:00\",\"2018-01-08T00:00:00+00:00\",\"2018-01-15T00:00:00+00:00\",\"2018-01-22T00:00:00+00:00\",\"2018-01-29T00:00:00+00:00\",\"2018-02-05T00:00:00+00:00\",\"2018-02-12T00:00:00+00:00\",\"2018-02-19T00:00:00+00:00\",\"2018-02-26T00:00:00+00:00\",\"2018-03-05T00:00:00+00:00\",\"2018-03-12T00:00:00+00:00\",\"2018-03-19T00:00:00+00:00\",\"2018-03-26T00:00:00+00:00\",\"2018-04-02T00:00:00+00:00\",\"2018-04-09T00:00:00+00:00\",\"2018-04-16T00:00:00+00:00\",\"2018-04-23T00:00:00+00:00\",\"2018-04-30T00:00:00+00:00\",\"2018-05-07T00:00:00+00:00\",\"2018-05-14T00:00:00+00:00\",\"2018-05-21T00:00:00+00:00\",\"2018-05-28T00:00:00+00:00\",\"2018-06-04T00:00:00+00:00\",\"2018-06-11T00:00:00+00:00\",\"2018-06-18T00:00:00+00:00\",\"2018-06-25T00:00:00+00:00\",\"2018-07-02T00:00:00+00:00\",\"2018-07-09T00:00:00+00:00\",\"2018-07-16T00:00:00+00:00\",\"2018-07-23T00:00:00+00:00\",\"2018-07-30T00:00:00+00:00\",\"2018-08-06T00:00:00+00:00\",\"2018-08-13T00:00:00+00:00\",\"2018-08-20T00:00:00+00:00\",\"2018-08-27T00:00:00+00:00\",\"2018-09-03T00:00:00+00:00\",\"2018-09-10T00:00:00+00:00\",\"2018-09-17T00:00:00+00:00\",\"2018-09-24T00:00:00+00:00\",\"2018-10-01T00:00:00+00:00\",\"2018-10-08T00:00:00+00:00\",\"2018-10-15T00:00:00+00:00\",\"2018-10-22T00:00:00+00:00\",\"2018-10-29T00:00:00+00:00\",\"2018-11-05T00:00:00+00:00\",\"2018-11-12T00:00:00+00:00\"],\"y\":[360.0,260.0,225.51,274.73,237.83,221.13,234.41,239.49,276.79,290.2,292.36,267.54,248.53,257.57,227.0,224.89,227.45,238.81,242.73,233.93,237.42,223.43,229.25,237.06,247.65,256.51,272.46,291.61,278.31,296.11,281.59,264.94,258.48,212.23,230.85,241.39,231.43,227.14,239.34,240.41,247.15,264.51,287.1,365.14,379.55,332.85,323.01,376.88,394.73,444.03,436.85,421.94,433.84,449.26,384.79,391.4,371.33,371.08,398.94,437.45,436.41,412.21,415.02,411.98,422.16,419.5,423.27,429.5,468.9,446.32,463.51,456.25,444.94,533.24,584.6,704.6,729.21,652.13,678.46,650.5,675.99,657.79,608.11,592.05,568.79,584.87,573.4,608.98,606.8,609.53,606.55,612.81,618.05,637.59,649.22,697.07,706.41,708.4,736.39,730.18,752.01,779.26,791.0,902.08,1011.52,902.66,834.41,911.78,923.26,1022.91,1002.88,1089.98,1195.84,1284.99,1245.5,1046.75,1037.7,1154.16,1208.0,1191.81,1259.88,1452.0,1685.85,1759.49,2004.54,2282.96,2676.98,2628.75,2581.26,2416.06,2552.0,2331.41,2200.0,2760.01,2857.26,3395.66,4256.99,4011.01,4373.5,4508.97,4218.5,4071.21,3924.01,4368.07,4740.0,5716.89,5868.29,6124.16,6969.76,6535.87,8256.01,9768.71,11643.99,16885.76,19039.01,14171.99,13480.0,14993.73,13590.0,10766.7,11123.01,6905.2,8872.27,11140.0,10300.0,11371.5,9120.0,8589.0,8180.0,7032.36,6692.99,8011.31,8929.3,9179.99,9310.0,8611.0,8396.99,7136.36,7499.02,6789.99,6704.2,6233.63,6626.22,6699.23,6668.26,7721.0,8163.01,6877.0,6263.98,6301.96,6748.34,7263.23,6287.29,6247.69,6595.11,6562.5,6598.49,6430.51,6404.51,6266.0,6404.0]},{\"mode\":\"lines\",\"name\":\"Close\",\"type\":\"scatter\",\"x\":[\"2015-01-12T00:00:00+00:00\",\"2015-01-19T00:00:00+00:00\",\"2015-01-26T00:00:00+00:00\",\"2015-02-02T00:00:00+00:00\",\"2015-02-09T00:00:00+00:00\",\"2015-02-16T00:00:00+00:00\",\"2015-02-23T00:00:00+00:00\",\"2015-03-02T00:00:00+00:00\",\"2015-03-09T00:00:00+00:00\",\"2015-03-16T00:00:00+00:00\",\"2015-03-23T00:00:00+00:00\",\"2015-03-30T00:00:00+00:00\",\"2015-04-06T00:00:00+00:00\",\"2015-04-13T00:00:00+00:00\",\"2015-04-20T00:00:00+00:00\",\"2015-04-27T00:00:00+00:00\",\"2015-05-04T00:00:00+00:00\",\"2015-05-11T00:00:00+00:00\",\"2015-05-18T00:00:00+00:00\",\"2015-05-25T00:00:00+00:00\",\"2015-06-01T00:00:00+00:00\",\"2015-06-08T00:00:00+00:00\",\"2015-06-15T00:00:00+00:00\",\"2015-06-22T00:00:00+00:00\",\"2015-06-29T00:00:00+00:00\",\"2015-07-06T00:00:00+00:00\",\"2015-07-13T00:00:00+00:00\",\"2015-07-20T00:00:00+00:00\",\"2015-07-27T00:00:00+00:00\",\"2015-08-03T00:00:00+00:00\",\"2015-08-10T00:00:00+00:00\",\"2015-08-17T00:00:00+00:00\",\"2015-08-24T00:00:00+00:00\",\"2015-08-31T00:00:00+00:00\",\"2015-09-07T00:00:00+00:00\",\"2015-09-14T00:00:00+00:00\",\"2015-09-21T00:00:00+00:00\",\"2015-09-28T00:00:00+00:00\",\"2015-10-05T00:00:00+00:00\",\"2015-10-12T00:00:00+00:00\",\"2015-10-19T00:00:00+00:00\",\"2015-10-26T00:00:00+00:00\",\"2015-11-02T00:00:00+00:00\",\"2015-11-09T00:00:00+00:00\",\"2015-11-16T00:00:00+00:00\",\"2015-11-23T00:00:00+00:00\",\"2015-11-30T00:00:00+00:00\",\"2015-12-07T00:00:00+00:00\",\"2015-12-14T00:00:00+00:00\",\"2015-12-21T00:00:00+00:00\",\"2015-12-28T00:00:00+00:00\",\"2016-01-04T00:00:00+00:00\",\"2016-01-11T00:00:00+00:00\",\"2016-01-18T00:00:00+00:00\",\"2016-01-25T00:00:00+00:00\",\"2016-02-01T00:00:00+00:00\",\"2016-02-08T00:00:00+00:00\",\"2016-02-15T00:00:00+00:00\",\"2016-02-22T00:00:00+00:00\",\"2016-02-29T00:00:00+00:00\",\"2016-03-07T00:00:00+00:00\",\"2016-03-14T00:00:00+00:00\",\"2016-03-21T00:00:00+00:00\",\"2016-03-28T00:00:00+00:00\",\"2016-04-04T00:00:00+00:00\",\"2016-04-11T00:00:00+00:00\",\"2016-04-18T00:00:00+00:00\",\"2016-04-25T00:00:00+00:00\",\"2016-05-02T00:00:00+00:00\",\"2016-05-09T00:00:00+00:00\",\"2016-05-16T00:00:00+00:00\",\"2016-05-23T00:00:00+00:00\",\"2016-05-30T00:00:00+00:00\",\"2016-06-06T00:00:00+00:00\",\"2016-06-13T00:00:00+00:00\",\"2016-06-20T00:00:00+00:00\",\"2016-06-27T00:00:00+00:00\",\"2016-07-04T00:00:00+00:00\",\"2016-07-11T00:00:00+00:00\",\"2016-07-18T00:00:00+00:00\",\"2016-07-25T00:00:00+00:00\",\"2016-08-01T00:00:00+00:00\",\"2016-08-08T00:00:00+00:00\",\"2016-08-15T00:00:00+00:00\",\"2016-08-22T00:00:00+00:00\",\"2016-08-29T00:00:00+00:00\",\"2016-09-05T00:00:00+00:00\",\"2016-09-12T00:00:00+00:00\",\"2016-09-19T00:00:00+00:00\",\"2016-09-26T00:00:00+00:00\",\"2016-10-03T00:00:00+00:00\",\"2016-10-10T00:00:00+00:00\",\"2016-10-17T00:00:00+00:00\",\"2016-10-24T00:00:00+00:00\",\"2016-10-31T00:00:00+00:00\",\"2016-11-07T00:00:00+00:00\",\"2016-11-14T00:00:00+00:00\",\"2016-11-21T00:00:00+00:00\",\"2016-11-28T00:00:00+00:00\",\"2016-12-05T00:00:00+00:00\",\"2016-12-12T00:00:00+00:00\",\"2016-12-19T00:00:00+00:00\",\"2016-12-26T00:00:00+00:00\",\"2017-01-02T00:00:00+00:00\",\"2017-01-09T00:00:00+00:00\",\"2017-01-16T00:00:00+00:00\",\"2017-01-23T00:00:00+00:00\",\"2017-01-30T00:00:00+00:00\",\"2017-02-06T00:00:00+00:00\",\"2017-02-13T00:00:00+00:00\",\"2017-02-20T00:00:00+00:00\",\"2017-02-27T00:00:00+00:00\",\"2017-03-06T00:00:00+00:00\",\"2017-03-13T00:00:00+00:00\",\"2017-03-20T00:00:00+00:00\",\"2017-03-27T00:00:00+00:00\",\"2017-04-03T00:00:00+00:00\",\"2017-04-10T00:00:00+00:00\",\"2017-04-17T00:00:00+00:00\",\"2017-04-24T00:00:00+00:00\",\"2017-05-01T00:00:00+00:00\",\"2017-05-08T00:00:00+00:00\",\"2017-05-15T00:00:00+00:00\",\"2017-05-22T00:00:00+00:00\",\"2017-05-29T00:00:00+00:00\",\"2017-06-05T00:00:00+00:00\",\"2017-06-12T00:00:00+00:00\",\"2017-06-19T00:00:00+00:00\",\"2017-06-26T00:00:00+00:00\",\"2017-07-03T00:00:00+00:00\",\"2017-07-10T00:00:00+00:00\",\"2017-07-17T00:00:00+00:00\",\"2017-07-24T00:00:00+00:00\",\"2017-07-31T00:00:00+00:00\",\"2017-08-07T00:00:00+00:00\",\"2017-08-14T00:00:00+00:00\",\"2017-08-21T00:00:00+00:00\",\"2017-08-28T00:00:00+00:00\",\"2017-09-04T00:00:00+00:00\",\"2017-09-11T00:00:00+00:00\",\"2017-09-18T00:00:00+00:00\",\"2017-09-25T00:00:00+00:00\",\"2017-10-02T00:00:00+00:00\",\"2017-10-09T00:00:00+00:00\",\"2017-10-16T00:00:00+00:00\",\"2017-10-23T00:00:00+00:00\",\"2017-10-30T00:00:00+00:00\",\"2017-11-06T00:00:00+00:00\",\"2017-11-13T00:00:00+00:00\",\"2017-11-20T00:00:00+00:00\",\"2017-11-27T00:00:00+00:00\",\"2017-12-04T00:00:00+00:00\",\"2017-12-11T00:00:00+00:00\",\"2017-12-18T00:00:00+00:00\",\"2017-12-25T00:00:00+00:00\",\"2018-01-01T00:00:00+00:00\",\"2018-01-08T00:00:00+00:00\",\"2018-01-15T00:00:00+00:00\",\"2018-01-22T00:00:00+00:00\",\"2018-01-29T00:00:00+00:00\",\"2018-02-05T00:00:00+00:00\",\"2018-02-12T00:00:00+00:00\",\"2018-02-19T00:00:00+00:00\",\"2018-02-26T00:00:00+00:00\",\"2018-03-05T00:00:00+00:00\",\"2018-03-12T00:00:00+00:00\",\"2018-03-19T00:00:00+00:00\",\"2018-03-26T00:00:00+00:00\",\"2018-04-02T00:00:00+00:00\",\"2018-04-09T00:00:00+00:00\",\"2018-04-16T00:00:00+00:00\",\"2018-04-23T00:00:00+00:00\",\"2018-04-30T00:00:00+00:00\",\"2018-05-07T00:00:00+00:00\",\"2018-05-14T00:00:00+00:00\",\"2018-05-21T00:00:00+00:00\",\"2018-05-28T00:00:00+00:00\",\"2018-06-04T00:00:00+00:00\",\"2018-06-11T00:00:00+00:00\",\"2018-06-18T00:00:00+00:00\",\"2018-06-25T00:00:00+00:00\",\"2018-07-02T00:00:00+00:00\",\"2018-07-09T00:00:00+00:00\",\"2018-07-16T00:00:00+00:00\",\"2018-07-23T00:00:00+00:00\",\"2018-07-30T00:00:00+00:00\",\"2018-08-06T00:00:00+00:00\",\"2018-08-13T00:00:00+00:00\",\"2018-08-20T00:00:00+00:00\",\"2018-08-27T00:00:00+00:00\",\"2018-09-03T00:00:00+00:00\",\"2018-09-10T00:00:00+00:00\",\"2018-09-17T00:00:00+00:00\",\"2018-09-24T00:00:00+00:00\",\"2018-10-01T00:00:00+00:00\",\"2018-10-08T00:00:00+00:00\",\"2018-10-15T00:00:00+00:00\",\"2018-10-22T00:00:00+00:00\",\"2018-10-29T00:00:00+00:00\",\"2018-11-05T00:00:00+00:00\",\"2018-11-12T00:00:00+00:00\"],\"y\":[360.0,260.0,225.51,274.73,237.83,221.63,234.52,239.41,277.56,290.19,292.33,267.55,248.53,257.57,227.01,224.72,227.39,238.81,242.54,233.83,237.39,223.4,229.34,237.06,247.66,256.58,272.99,291.63,278.31,296.21,281.46,264.95,258.28,212.23,230.89,241.39,231.39,227.19,239.22,240.48,247.15,264.52,287.1,365.23,379.37,332.78,323.01,376.92,394.71,444.09,436.65,421.94,433.84,449.26,384.89,391.44,371.33,371.14,398.91,437.5,436.47,412.35,415.05,412.0,422.27,419.5,423.27,429.42,468.9,446.49,463.65,456.23,444.98,533.28,584.61,704.6,730.95,651.05,678.63,649.66,676.0,657.43,606.8,592.0,568.63,584.89,573.21,608.98,607.23,609.43,606.3,612.83,618.09,637.43,649.03,697.06,706.53,708.5,736.19,730.2,752.0,779.25,791.24,902.1,1011.1,902.65,834.41,908.01,923.1,1022.58,1001.97,1089.99,1195.98,1284.99,1246.48,1046.94,1037.66,1155.83,1209.82,1192.43,1259.62,1453.1,1687.56,1759.52,1992.24,2281.9,2679.8,2631.64,2583.76,2412.03,2554.55,2332.63,2207.98,2761.9,2852.91,3396.0,4256.99,4011.01,4370.54,4491.0,4223.31,4068.01,3923.91,4368.07,4740.0,5717.0,5872.73,6134.54,6981.01,6541.89,8259.14,9769.99,11659.99,16885.64,19039.01,14171.99,13489.4,14971.23,13642.28,10799.98,11111.0,6950.0,8879.99,11140.0,10325.63,11354.74,9107.8,8556.05,8180.0,7028.37,6698.0,8023.0,8925.05,9189.0,9310.01,8610.36,8397.0,7120.06,7497.02,6789.99,6704.2,6236.36,6626.22,6698.23,6672.71,7718.23,8171.29,6872.38,6262.88,6267.0,6758.74,7251.13,6287.28,6247.2,6595.12,6562.5,6598.77,6430.5,6405.64,6266.0,6405.0]},{\"mode\":\"lines\",\"name\":\"Weighted Avg\",\"type\":\"scatter\",\"x\":[\"2015-01-12T00:00:00+00:00\",\"2015-01-19T00:00:00+00:00\",\"2015-01-26T00:00:00+00:00\",\"2015-02-02T00:00:00+00:00\",\"2015-02-09T00:00:00+00:00\",\"2015-02-16T00:00:00+00:00\",\"2015-02-23T00:00:00+00:00\",\"2015-03-02T00:00:00+00:00\",\"2015-03-09T00:00:00+00:00\",\"2015-03-16T00:00:00+00:00\",\"2015-03-23T00:00:00+00:00\",\"2015-03-30T00:00:00+00:00\",\"2015-04-06T00:00:00+00:00\",\"2015-04-13T00:00:00+00:00\",\"2015-04-20T00:00:00+00:00\",\"2015-04-27T00:00:00+00:00\",\"2015-05-04T00:00:00+00:00\",\"2015-05-11T00:00:00+00:00\",\"2015-05-18T00:00:00+00:00\",\"2015-05-25T00:00:00+00:00\",\"2015-06-01T00:00:00+00:00\",\"2015-06-08T00:00:00+00:00\",\"2015-06-15T00:00:00+00:00\",\"2015-06-22T00:00:00+00:00\",\"2015-06-29T00:00:00+00:00\",\"2015-07-06T00:00:00+00:00\",\"2015-07-13T00:00:00+00:00\",\"2015-07-20T00:00:00+00:00\",\"2015-07-27T00:00:00+00:00\",\"2015-08-03T00:00:00+00:00\",\"2015-08-10T00:00:00+00:00\",\"2015-08-17T00:00:00+00:00\",\"2015-08-24T00:00:00+00:00\",\"2015-08-31T00:00:00+00:00\",\"2015-09-07T00:00:00+00:00\",\"2015-09-14T00:00:00+00:00\",\"2015-09-21T00:00:00+00:00\",\"2015-09-28T00:00:00+00:00\",\"2015-10-05T00:00:00+00:00\",\"2015-10-12T00:00:00+00:00\",\"2015-10-19T00:00:00+00:00\",\"2015-10-26T00:00:00+00:00\",\"2015-11-02T00:00:00+00:00\",\"2015-11-09T00:00:00+00:00\",\"2015-11-16T00:00:00+00:00\",\"2015-11-23T00:00:00+00:00\",\"2015-11-30T00:00:00+00:00\",\"2015-12-07T00:00:00+00:00\",\"2015-12-14T00:00:00+00:00\",\"2015-12-21T00:00:00+00:00\",\"2015-12-28T00:00:00+00:00\",\"2016-01-04T00:00:00+00:00\",\"2016-01-11T00:00:00+00:00\",\"2016-01-18T00:00:00+00:00\",\"2016-01-25T00:00:00+00:00\",\"2016-02-01T00:00:00+00:00\",\"2016-02-08T00:00:00+00:00\",\"2016-02-15T00:00:00+00:00\",\"2016-02-22T00:00:00+00:00\",\"2016-02-29T00:00:00+00:00\",\"2016-03-07T00:00:00+00:00\",\"2016-03-14T00:00:00+00:00\",\"2016-03-21T00:00:00+00:00\",\"2016-03-28T00:00:00+00:00\",\"2016-04-04T00:00:00+00:00\",\"2016-04-11T00:00:00+00:00\",\"2016-04-18T00:00:00+00:00\",\"2016-04-25T00:00:00+00:00\",\"2016-05-02T00:00:00+00:00\",\"2016-05-09T00:00:00+00:00\",\"2016-05-16T00:00:00+00:00\",\"2016-05-23T00:00:00+00:00\",\"2016-05-30T00:00:00+00:00\",\"2016-06-06T00:00:00+00:00\",\"2016-06-13T00:00:00+00:00\",\"2016-06-20T00:00:00+00:00\",\"2016-06-27T00:00:00+00:00\",\"2016-07-04T00:00:00+00:00\",\"2016-07-11T00:00:00+00:00\",\"2016-07-18T00:00:00+00:00\",\"2016-07-25T00:00:00+00:00\",\"2016-08-01T00:00:00+00:00\",\"2016-08-08T00:00:00+00:00\",\"2016-08-15T00:00:00+00:00\",\"2016-08-22T00:00:00+00:00\",\"2016-08-29T00:00:00+00:00\",\"2016-09-05T00:00:00+00:00\",\"2016-09-12T00:00:00+00:00\",\"2016-09-19T00:00:00+00:00\",\"2016-09-26T00:00:00+00:00\",\"2016-10-03T00:00:00+00:00\",\"2016-10-10T00:00:00+00:00\",\"2016-10-17T00:00:00+00:00\",\"2016-10-24T00:00:00+00:00\",\"2016-10-31T00:00:00+00:00\",\"2016-11-07T00:00:00+00:00\",\"2016-11-14T00:00:00+00:00\",\"2016-11-21T00:00:00+00:00\",\"2016-11-28T00:00:00+00:00\",\"2016-12-05T00:00:00+00:00\",\"2016-12-12T00:00:00+00:00\",\"2016-12-19T00:00:00+00:00\",\"2016-12-26T00:00:00+00:00\",\"2017-01-02T00:00:00+00:00\",\"2017-01-09T00:00:00+00:00\",\"2017-01-16T00:00:00+00:00\",\"2017-01-23T00:00:00+00:00\",\"2017-01-30T00:00:00+00:00\",\"2017-02-06T00:00:00+00:00\",\"2017-02-13T00:00:00+00:00\",\"2017-02-20T00:00:00+00:00\",\"2017-02-27T00:00:00+00:00\",\"2017-03-06T00:00:00+00:00\",\"2017-03-13T00:00:00+00:00\",\"2017-03-20T00:00:00+00:00\",\"2017-03-27T00:00:00+00:00\",\"2017-04-03T00:00:00+00:00\",\"2017-04-10T00:00:00+00:00\",\"2017-04-17T00:00:00+00:00\",\"2017-04-24T00:00:00+00:00\",\"2017-05-01T00:00:00+00:00\",\"2017-05-08T00:00:00+00:00\",\"2017-05-15T00:00:00+00:00\",\"2017-05-22T00:00:00+00:00\",\"2017-05-29T00:00:00+00:00\",\"2017-06-05T00:00:00+00:00\",\"2017-06-12T00:00:00+00:00\",\"2017-06-19T00:00:00+00:00\",\"2017-06-26T00:00:00+00:00\",\"2017-07-03T00:00:00+00:00\",\"2017-07-10T00:00:00+00:00\",\"2017-07-17T00:00:00+00:00\",\"2017-07-24T00:00:00+00:00\",\"2017-07-31T00:00:00+00:00\",\"2017-08-07T00:00:00+00:00\",\"2017-08-14T00:00:00+00:00\",\"2017-08-21T00:00:00+00:00\",\"2017-08-28T00:00:00+00:00\",\"2017-09-04T00:00:00+00:00\",\"2017-09-11T00:00:00+00:00\",\"2017-09-18T00:00:00+00:00\",\"2017-09-25T00:00:00+00:00\",\"2017-10-02T00:00:00+00:00\",\"2017-10-09T00:00:00+00:00\",\"2017-10-16T00:00:00+00:00\",\"2017-10-23T00:00:00+00:00\",\"2017-10-30T00:00:00+00:00\",\"2017-11-06T00:00:00+00:00\",\"2017-11-13T00:00:00+00:00\",\"2017-11-20T00:00:00+00:00\",\"2017-11-27T00:00:00+00:00\",\"2017-12-04T00:00:00+00:00\",\"2017-12-11T00:00:00+00:00\",\"2017-12-18T00:00:00+00:00\",\"2017-12-25T00:00:00+00:00\",\"2018-01-01T00:00:00+00:00\",\"2018-01-08T00:00:00+00:00\",\"2018-01-15T00:00:00+00:00\",\"2018-01-22T00:00:00+00:00\",\"2018-01-29T00:00:00+00:00\",\"2018-02-05T00:00:00+00:00\",\"2018-02-12T00:00:00+00:00\",\"2018-02-19T00:00:00+00:00\",\"2018-02-26T00:00:00+00:00\",\"2018-03-05T00:00:00+00:00\",\"2018-03-12T00:00:00+00:00\",\"2018-03-19T00:00:00+00:00\",\"2018-03-26T00:00:00+00:00\",\"2018-04-02T00:00:00+00:00\",\"2018-04-09T00:00:00+00:00\",\"2018-04-16T00:00:00+00:00\",\"2018-04-23T00:00:00+00:00\",\"2018-04-30T00:00:00+00:00\",\"2018-05-07T00:00:00+00:00\",\"2018-05-14T00:00:00+00:00\",\"2018-05-21T00:00:00+00:00\",\"2018-05-28T00:00:00+00:00\",\"2018-06-04T00:00:00+00:00\",\"2018-06-11T00:00:00+00:00\",\"2018-06-18T00:00:00+00:00\",\"2018-06-25T00:00:00+00:00\",\"2018-07-02T00:00:00+00:00\",\"2018-07-09T00:00:00+00:00\",\"2018-07-16T00:00:00+00:00\",\"2018-07-23T00:00:00+00:00\",\"2018-07-30T00:00:00+00:00\",\"2018-08-06T00:00:00+00:00\",\"2018-08-13T00:00:00+00:00\",\"2018-08-20T00:00:00+00:00\",\"2018-08-27T00:00:00+00:00\",\"2018-09-03T00:00:00+00:00\",\"2018-09-10T00:00:00+00:00\",\"2018-09-17T00:00:00+00:00\",\"2018-09-24T00:00:00+00:00\",\"2018-10-01T00:00:00+00:00\",\"2018-10-08T00:00:00+00:00\",\"2018-10-15T00:00:00+00:00\",\"2018-10-22T00:00:00+00:00\",\"2018-10-29T00:00:00+00:00\",\"2018-11-05T00:00:00+00:00\",\"2018-11-12T00:00:00+00:00\"],\"y\":[360.0,260.0,0.0,274.73,0.0,221.38630383,234.36768721,239.48458448,277.20456873,290.20991658,292.34253968,267.5496748,248.53,257.56973842,227.00990436,224.89459562,227.46721946,238.81,242.54081848,233.81520284,237.42134738,223.41124468,229.29422061,237.19527186,0.0,256.56968861,272.80535561,291.62799756,278.30686827,0.0,281.50327206,264.94980091,258.34573097,212.23,230.86061816,241.39,231.42429134,227.1844748,239.24227299,240.43713777,247.15,0.0,287.1,365.17496736,379.38697034,332.81049999,323.01,376.90848168,394.7225,444.04925511,436.81971848,421.93164664,433.84,449.25553185,384.73240707,391.34940930000005,371.33,0.0,398.63918572,437.48655303,436.43609031,412.33776078,415.11401193,411.99893707,422.16072022,419.5,423.27,429.44298041,468.9,446.42716862,463.60552875,456.24618502,444.96855383,533.26189735,584.5201481,704.6,730.3628747,651.49241408,678.53104627,649.88002659,675.86498393,657.54297835,607.39174956,592.02554618,568.75421919,584.87842703,573.39155526,608.98207121,607.27628894,609.41434748,606.35839199,612.80733052,618.08573552,637.52913592,649.059405,697.03500639,706.31447605,708.47135602,736.22780795,729.86754803,752.00288938,779.07443316,791.28412697,902.09970176,1011.3156544,902.65503053,0.0,910.74890644,923.2321910000001,0.0,1001.8095727,1089.8080246,1195.9399719,1284.99,1245.7940572,1046.940815,1037.6927536,1154.3562782,1209.4156968,1191.8354021,1259.7645178,1452.6444929000002,1685.6342485,1759.5109587000002,1996.2348379999999,2281.1828356,2678.9636126,2630.3737885,2583.0107445999997,2415.4098871,2554.1403531,2333.4532031999997,2205.0524315000002,2761.564009,2853.8812409,3395.6615776,4256.9873802,4011.006693,4371.04234,4496.8370202,4221.381912,4070.2065305,3923.9572721,4368.065430600001,4739.997487899999,5716.9015082,5872.510323699999,6126.437937899999,6973.5506356999995,6539.1321397,8256.239981,9768.9000513,11656.248527,16885.660255000003,19039.007219,14171.987616,13482.046031999998,14975.389947999998,13620.149331999999,10779.939584,11114.146563,6925.4633677,8877.2809514,11139.999695999999,10304.749367,11370.72568,9116.6012615,8570.0382204,8179.9975235,7028.8406199,6694.8494631,8020.0073318,8928.7110527,9181.847840299999,9310.0085795,8619.9696465,8396.9976483,7133.7872263,7498.6954624,6789.9886404,6704.1999973,6235.495161399999,6626.2196502,6698.275209,6670.447772300001,7720.5609897,8166.2484757,6876.4735104,6260.786286500001,6284.4663823,6754.6034501,7252.3190614,6287.2876533,6247.1783791,6595.1180649,6562.499529600001,6598.512146,6430.5095151000005,6405.1726213,6265.0581976,6404.840182600001]}],                        {\"template\":{\"data\":{\"bar\":[{\"error_x\":{\"color\":\"#2a3f5f\"},\"error_y\":{\"color\":\"#2a3f5f\"},\"marker\":{\"line\":{\"color\":\"#E5ECF6\",\"width\":0.5},\"pattern\":{\"fillmode\":\"overlay\",\"size\":10,\"solidity\":0.2}},\"type\":\"bar\"}],\"barpolar\":[{\"marker\":{\"line\":{\"color\":\"#E5ECF6\",\"width\":0.5},\"pattern\":{\"fillmode\":\"overlay\",\"size\":10,\"solidity\":0.2}},\"type\":\"barpolar\"}],\"carpet\":[{\"aaxis\":{\"endlinecolor\":\"#2a3f5f\",\"gridcolor\":\"white\",\"linecolor\":\"white\",\"minorgridcolor\":\"white\",\"startlinecolor\":\"#2a3f5f\"},\"baxis\":{\"endlinecolor\":\"#2a3f5f\",\"gridcolor\":\"white\",\"linecolor\":\"white\",\"minorgridcolor\":\"white\",\"startlinecolor\":\"#2a3f5f\"},\"type\":\"carpet\"}],\"choropleth\":[{\"colorbar\":{\"outlinewidth\":0,\"ticks\":\"\"},\"type\":\"choropleth\"}],\"contour\":[{\"colorbar\":{\"outlinewidth\":0,\"ticks\":\"\"},\"colorscale\":[[0.0,\"#0d0887\"],[0.1111111111111111,\"#46039f\"],[0.2222222222222222,\"#7201a8\"],[0.3333333333333333,\"#9c179e\"],[0.4444444444444444,\"#bd3786\"],[0.5555555555555556,\"#d8576b\"],[0.6666666666666666,\"#ed7953\"],[0.7777777777777778,\"#fb9f3a\"],[0.8888888888888888,\"#fdca26\"],[1.0,\"#f0f921\"]],\"type\":\"contour\"}],\"contourcarpet\":[{\"colorbar\":{\"outlinewidth\":0,\"ticks\":\"\"},\"type\":\"contourcarpet\"}],\"heatmap\":[{\"colorbar\":{\"outlinewidth\":0,\"ticks\":\"\"},\"colorscale\":[[0.0,\"#0d0887\"],[0.1111111111111111,\"#46039f\"],[0.2222222222222222,\"#7201a8\"],[0.3333333333333333,\"#9c179e\"],[0.4444444444444444,\"#bd3786\"],[0.5555555555555556,\"#d8576b\"],[0.6666666666666666,\"#ed7953\"],[0.7777777777777778,\"#fb9f3a\"],[0.8888888888888888,\"#fdca26\"],[1.0,\"#f0f921\"]],\"type\":\"heatmap\"}],\"heatmapgl\":[{\"colorbar\":{\"outlinewidth\":0,\"ticks\":\"\"},\"colorscale\":[[0.0,\"#0d0887\"],[0.1111111111111111,\"#46039f\"],[0.2222222222222222,\"#7201a8\"],[0.3333333333333333,\"#9c179e\"],[0.4444444444444444,\"#bd3786\"],[0.5555555555555556,\"#d8576b\"],[0.6666666666666666,\"#ed7953\"],[0.7777777777777778,\"#fb9f3a\"],[0.8888888888888888,\"#fdca26\"],[1.0,\"#f0f921\"]],\"type\":\"heatmapgl\"}],\"histogram\":[{\"marker\":{\"pattern\":{\"fillmode\":\"overlay\",\"size\":10,\"solidity\":0.2}},\"type\":\"histogram\"}],\"histogram2d\":[{\"colorbar\":{\"outlinewidth\":0,\"ticks\":\"\"},\"colorscale\":[[0.0,\"#0d0887\"],[0.1111111111111111,\"#46039f\"],[0.2222222222222222,\"#7201a8\"],[0.3333333333333333,\"#9c179e\"],[0.4444444444444444,\"#bd3786\"],[0.5555555555555556,\"#d8576b\"],[0.6666666666666666,\"#ed7953\"],[0.7777777777777778,\"#fb9f3a\"],[0.8888888888888888,\"#fdca26\"],[1.0,\"#f0f921\"]],\"type\":\"histogram2d\"}],\"histogram2dcontour\":[{\"colorbar\":{\"outlinewidth\":0,\"ticks\":\"\"},\"colorscale\":[[0.0,\"#0d0887\"],[0.1111111111111111,\"#46039f\"],[0.2222222222222222,\"#7201a8\"],[0.3333333333333333,\"#9c179e\"],[0.4444444444444444,\"#bd3786\"],[0.5555555555555556,\"#d8576b\"],[0.6666666666666666,\"#ed7953\"],[0.7777777777777778,\"#fb9f3a\"],[0.8888888888888888,\"#fdca26\"],[1.0,\"#f0f921\"]],\"type\":\"histogram2dcontour\"}],\"mesh3d\":[{\"colorbar\":{\"outlinewidth\":0,\"ticks\":\"\"},\"type\":\"mesh3d\"}],\"parcoords\":[{\"line\":{\"colorbar\":{\"outlinewidth\":0,\"ticks\":\"\"}},\"type\":\"parcoords\"}],\"pie\":[{\"automargin\":true,\"type\":\"pie\"}],\"scatter\":[{\"marker\":{\"colorbar\":{\"outlinewidth\":0,\"ticks\":\"\"}},\"type\":\"scatter\"}],\"scatter3d\":[{\"line\":{\"colorbar\":{\"outlinewidth\":0,\"ticks\":\"\"}},\"marker\":{\"colorbar\":{\"outlinewidth\":0,\"ticks\":\"\"}},\"type\":\"scatter3d\"}],\"scattercarpet\":[{\"marker\":{\"colorbar\":{\"outlinewidth\":0,\"ticks\":\"\"}},\"type\":\"scattercarpet\"}],\"scattergeo\":[{\"marker\":{\"colorbar\":{\"outlinewidth\":0,\"ticks\":\"\"}},\"type\":\"scattergeo\"}],\"scattergl\":[{\"marker\":{\"colorbar\":{\"outlinewidth\":0,\"ticks\":\"\"}},\"type\":\"scattergl\"}],\"scattermapbox\":[{\"marker\":{\"colorbar\":{\"outlinewidth\":0,\"ticks\":\"\"}},\"type\":\"scattermapbox\"}],\"scatterpolar\":[{\"marker\":{\"colorbar\":{\"outlinewidth\":0,\"ticks\":\"\"}},\"type\":\"scatterpolar\"}],\"scatterpolargl\":[{\"marker\":{\"colorbar\":{\"outlinewidth\":0,\"ticks\":\"\"}},\"type\":\"scatterpolargl\"}],\"scatterternary\":[{\"marker\":{\"colorbar\":{\"outlinewidth\":0,\"ticks\":\"\"}},\"type\":\"scatterternary\"}],\"surface\":[{\"colorbar\":{\"outlinewidth\":0,\"ticks\":\"\"},\"colorscale\":[[0.0,\"#0d0887\"],[0.1111111111111111,\"#46039f\"],[0.2222222222222222,\"#7201a8\"],[0.3333333333333333,\"#9c179e\"],[0.4444444444444444,\"#bd3786\"],[0.5555555555555556,\"#d8576b\"],[0.6666666666666666,\"#ed7953\"],[0.7777777777777778,\"#fb9f3a\"],[0.8888888888888888,\"#fdca26\"],[1.0,\"#f0f921\"]],\"type\":\"surface\"}],\"table\":[{\"cells\":{\"fill\":{\"color\":\"#EBF0F8\"},\"line\":{\"color\":\"white\"}},\"header\":{\"fill\":{\"color\":\"#C8D4E3\"},\"line\":{\"color\":\"white\"}},\"type\":\"table\"}]},\"layout\":{\"annotationdefaults\":{\"arrowcolor\":\"#2a3f5f\",\"arrowhead\":0,\"arrowwidth\":1},\"autotypenumbers\":\"strict\",\"coloraxis\":{\"colorbar\":{\"outlinewidth\":0,\"ticks\":\"\"}},\"colorscale\":{\"diverging\":[[0,\"#8e0152\"],[0.1,\"#c51b7d\"],[0.2,\"#de77ae\"],[0.3,\"#f1b6da\"],[0.4,\"#fde0ef\"],[0.5,\"#f7f7f7\"],[0.6,\"#e6f5d0\"],[0.7,\"#b8e186\"],[0.8,\"#7fbc41\"],[0.9,\"#4d9221\"],[1,\"#276419\"]],\"sequential\":[[0.0,\"#0d0887\"],[0.1111111111111111,\"#46039f\"],[0.2222222222222222,\"#7201a8\"],[0.3333333333333333,\"#9c179e\"],[0.4444444444444444,\"#bd3786\"],[0.5555555555555556,\"#d8576b\"],[0.6666666666666666,\"#ed7953\"],[0.7777777777777778,\"#fb9f3a\"],[0.8888888888888888,\"#fdca26\"],[1.0,\"#f0f921\"]],\"sequentialminus\":[[0.0,\"#0d0887\"],[0.1111111111111111,\"#46039f\"],[0.2222222222222222,\"#7201a8\"],[0.3333333333333333,\"#9c179e\"],[0.4444444444444444,\"#bd3786\"],[0.5555555555555556,\"#d8576b\"],[0.6666666666666666,\"#ed7953\"],[0.7777777777777778,\"#fb9f3a\"],[0.8888888888888888,\"#fdca26\"],[1.0,\"#f0f921\"]]},\"colorway\":[\"#636efa\",\"#EF553B\",\"#00cc96\",\"#ab63fa\",\"#FFA15A\",\"#19d3f3\",\"#FF6692\",\"#B6E880\",\"#FF97FF\",\"#FECB52\"],\"font\":{\"color\":\"#2a3f5f\"},\"geo\":{\"bgcolor\":\"white\",\"lakecolor\":\"white\",\"landcolor\":\"#E5ECF6\",\"showlakes\":true,\"showland\":true,\"subunitcolor\":\"white\"},\"hoverlabel\":{\"align\":\"left\"},\"hovermode\":\"closest\",\"mapbox\":{\"style\":\"light\"},\"paper_bgcolor\":\"white\",\"plot_bgcolor\":\"#E5ECF6\",\"polar\":{\"angularaxis\":{\"gridcolor\":\"white\",\"linecolor\":\"white\",\"ticks\":\"\"},\"bgcolor\":\"#E5ECF6\",\"radialaxis\":{\"gridcolor\":\"white\",\"linecolor\":\"white\",\"ticks\":\"\"}},\"scene\":{\"xaxis\":{\"backgroundcolor\":\"#E5ECF6\",\"gridcolor\":\"white\",\"gridwidth\":2,\"linecolor\":\"white\",\"showbackground\":true,\"ticks\":\"\",\"zerolinecolor\":\"white\"},\"yaxis\":{\"backgroundcolor\":\"#E5ECF6\",\"gridcolor\":\"white\",\"gridwidth\":2,\"linecolor\":\"white\",\"showbackground\":true,\"ticks\":\"\",\"zerolinecolor\":\"white\"},\"zaxis\":{\"backgroundcolor\":\"#E5ECF6\",\"gridcolor\":\"white\",\"gridwidth\":2,\"linecolor\":\"white\",\"showbackground\":true,\"ticks\":\"\",\"zerolinecolor\":\"white\"}},\"shapedefaults\":{\"line\":{\"color\":\"#2a3f5f\"}},\"ternary\":{\"aaxis\":{\"gridcolor\":\"white\",\"linecolor\":\"white\",\"ticks\":\"\"},\"baxis\":{\"gridcolor\":\"white\",\"linecolor\":\"white\",\"ticks\":\"\"},\"bgcolor\":\"#E5ECF6\",\"caxis\":{\"gridcolor\":\"white\",\"linecolor\":\"white\",\"ticks\":\"\"}},\"title\":{\"x\":0.05},\"xaxis\":{\"automargin\":true,\"gridcolor\":\"white\",\"linecolor\":\"white\",\"ticks\":\"\",\"title\":{\"standoff\":15},\"zerolinecolor\":\"white\",\"zerolinewidth\":2},\"yaxis\":{\"automargin\":true,\"gridcolor\":\"white\",\"linecolor\":\"white\",\"ticks\":\"\",\"title\":{\"standoff\":15},\"zerolinecolor\":\"white\",\"zerolinewidth\":2}}},\"title\":{\"text\":\"Historical Bitcoin Prices (2015-2018) with the Slider \"},\"xaxis\":{\"rangeselector\":{\"buttons\":[{\"count\":1,\"label\":\"1m\",\"step\":\"month\",\"stepmode\":\"backward\"},{\"count\":6,\"label\":\"6m\",\"step\":\"month\",\"stepmode\":\"backward\"},{\"count\":12,\"label\":\"1y\",\"step\":\"month\",\"stepmode\":\"backward\"},{\"count\":36,\"label\":\"3y\",\"step\":\"month\",\"stepmode\":\"backward\"},{\"step\":\"all\"}]},\"rangeslider\":{\"visible\":true},\"type\":\"date\"}},                        {\"responsive\": true}                    ).then(function(){\n",
       "                            \n",
       "var gd = document.getElementById('a93bb028-0fe4-4810-aed6-2fc9588eb76a');\n",
       "var x = new MutationObserver(function (mutations, observer) {{\n",
       "        var display = window.getComputedStyle(gd).display;\n",
       "        if (!display || display === 'none') {{\n",
       "            console.log([gd, 'removed!']);\n",
       "            Plotly.purge(gd);\n",
       "            observer.disconnect();\n",
       "        }}\n",
       "}});\n",
       "\n",
       "// Listen for the removal of the full notebook cells\n",
       "var notebookContainer = gd.closest('#notebook-container');\n",
       "if (notebookContainer) {{\n",
       "    x.observe(notebookContainer, {childList: true});\n",
       "}}\n",
       "\n",
       "// Listen for the clearing of the current output cell\n",
       "var outputEl = gd.closest('.output');\n",
       "if (outputEl) {{\n",
       "    x.observe(outputEl, {childList: true});\n",
       "}}\n",
       "\n",
       "                        })                };                });            </script>        </div>"
      ]
     },
     "metadata": {},
     "output_type": "display_data"
    }
   ],
   "source": [
    "# We use Plotly to create the plots https://plot.ly/python/\n",
    "trace1 = go.Scatter(x = weekly_rows['Timestamp'], y = weekly_rows['Open'].astype(float), mode = 'lines', name = 'Open')\n",
    "trace2 = go.Scatter(x = weekly_rows['Timestamp'], y = weekly_rows['Close'].astype(float), mode = 'lines', name = 'Close')\n",
    "trace3 = go.Scatter(x = weekly_rows['Timestamp'], y = weekly_rows['Weighted_Price'].astype(float), mode = 'lines',name = 'Weighted Avg')\n",
    "\n",
    "layout = dict(title='Historical Bitcoin Prices (2015-2018) with the Slider ', xaxis=dict(rangeselector=dict(buttons=list([\n",
    "                \n",
    "    #change the count to desired amount of months.\n",
    "                dict(count=1, label='1m',step='month',stepmode='backward'),\n",
    "                dict(count=6, label='6m',step='month',stepmode='backward'),\n",
    "                dict(count=12,label='1y',step='month',stepmode='backward'),\n",
    "                dict(count=36,label='3y',step='month',stepmode='backward'),\n",
    "                dict(step='all')])),\n",
    "        rangeslider=dict(visible = True), type='date'))\n",
    "\n",
    "data = [trace1,trace2, trace3]\n",
    "fig = dict(data=data, layout=layout)\n",
    "iplot(fig, filename = \"Time Series with Rangeslider\")"
   ]
  },
  {
   "cell_type": "code",
   "execution_count": 12,
   "id": "ad95302b",
   "metadata": {},
   "outputs": [
    {
     "data": {
      "application/vnd.plotly.v1+json": {
       "config": {
        "linkText": "Export to plot.ly",
        "plotlyServerURL": "https://plot.ly",
        "showLink": false
       },
       "data": [
        {
         "mode": "lines",
         "name": "Bitcoin Price (Open)",
         "type": "scatter",
         "x": [
          "2015-01-12T00:00:00+00:00",
          "2015-01-19T00:00:00+00:00",
          "2015-01-26T00:00:00+00:00",
          "2015-02-02T00:00:00+00:00",
          "2015-02-09T00:00:00+00:00",
          "2015-02-16T00:00:00+00:00",
          "2015-02-23T00:00:00+00:00",
          "2015-03-02T00:00:00+00:00",
          "2015-03-09T00:00:00+00:00",
          "2015-03-16T00:00:00+00:00",
          "2015-03-23T00:00:00+00:00",
          "2015-03-30T00:00:00+00:00",
          "2015-04-06T00:00:00+00:00",
          "2015-04-13T00:00:00+00:00",
          "2015-04-20T00:00:00+00:00",
          "2015-04-27T00:00:00+00:00",
          "2015-05-04T00:00:00+00:00",
          "2015-05-11T00:00:00+00:00",
          "2015-05-18T00:00:00+00:00",
          "2015-05-25T00:00:00+00:00",
          "2015-06-01T00:00:00+00:00",
          "2015-06-08T00:00:00+00:00",
          "2015-06-15T00:00:00+00:00",
          "2015-06-22T00:00:00+00:00",
          "2015-06-29T00:00:00+00:00",
          "2015-07-06T00:00:00+00:00",
          "2015-07-13T00:00:00+00:00",
          "2015-07-20T00:00:00+00:00",
          "2015-07-27T00:00:00+00:00",
          "2015-08-03T00:00:00+00:00",
          "2015-08-10T00:00:00+00:00",
          "2015-08-17T00:00:00+00:00",
          "2015-08-24T00:00:00+00:00",
          "2015-08-31T00:00:00+00:00",
          "2015-09-07T00:00:00+00:00",
          "2015-09-14T00:00:00+00:00",
          "2015-09-21T00:00:00+00:00",
          "2015-09-28T00:00:00+00:00",
          "2015-10-05T00:00:00+00:00",
          "2015-10-12T00:00:00+00:00",
          "2015-10-19T00:00:00+00:00",
          "2015-10-26T00:00:00+00:00",
          "2015-11-02T00:00:00+00:00",
          "2015-11-09T00:00:00+00:00",
          "2015-11-16T00:00:00+00:00",
          "2015-11-23T00:00:00+00:00",
          "2015-11-30T00:00:00+00:00",
          "2015-12-07T00:00:00+00:00",
          "2015-12-14T00:00:00+00:00",
          "2015-12-21T00:00:00+00:00",
          "2015-12-28T00:00:00+00:00",
          "2016-01-04T00:00:00+00:00",
          "2016-01-11T00:00:00+00:00",
          "2016-01-18T00:00:00+00:00",
          "2016-01-25T00:00:00+00:00",
          "2016-02-01T00:00:00+00:00",
          "2016-02-08T00:00:00+00:00",
          "2016-02-15T00:00:00+00:00",
          "2016-02-22T00:00:00+00:00",
          "2016-02-29T00:00:00+00:00",
          "2016-03-07T00:00:00+00:00",
          "2016-03-14T00:00:00+00:00",
          "2016-03-21T00:00:00+00:00",
          "2016-03-28T00:00:00+00:00",
          "2016-04-04T00:00:00+00:00",
          "2016-04-11T00:00:00+00:00",
          "2016-04-18T00:00:00+00:00",
          "2016-04-25T00:00:00+00:00",
          "2016-05-02T00:00:00+00:00",
          "2016-05-09T00:00:00+00:00",
          "2016-05-16T00:00:00+00:00",
          "2016-05-23T00:00:00+00:00",
          "2016-05-30T00:00:00+00:00",
          "2016-06-06T00:00:00+00:00",
          "2016-06-13T00:00:00+00:00",
          "2016-06-20T00:00:00+00:00",
          "2016-06-27T00:00:00+00:00",
          "2016-07-04T00:00:00+00:00",
          "2016-07-11T00:00:00+00:00",
          "2016-07-18T00:00:00+00:00",
          "2016-07-25T00:00:00+00:00",
          "2016-08-01T00:00:00+00:00",
          "2016-08-08T00:00:00+00:00",
          "2016-08-15T00:00:00+00:00",
          "2016-08-22T00:00:00+00:00",
          "2016-08-29T00:00:00+00:00",
          "2016-09-05T00:00:00+00:00",
          "2016-09-12T00:00:00+00:00",
          "2016-09-19T00:00:00+00:00",
          "2016-09-26T00:00:00+00:00",
          "2016-10-03T00:00:00+00:00",
          "2016-10-10T00:00:00+00:00",
          "2016-10-17T00:00:00+00:00",
          "2016-10-24T00:00:00+00:00",
          "2016-10-31T00:00:00+00:00",
          "2016-11-07T00:00:00+00:00",
          "2016-11-14T00:00:00+00:00",
          "2016-11-21T00:00:00+00:00",
          "2016-11-28T00:00:00+00:00",
          "2016-12-05T00:00:00+00:00",
          "2016-12-12T00:00:00+00:00",
          "2016-12-19T00:00:00+00:00",
          "2016-12-26T00:00:00+00:00",
          "2017-01-02T00:00:00+00:00",
          "2017-01-09T00:00:00+00:00",
          "2017-01-16T00:00:00+00:00",
          "2017-01-23T00:00:00+00:00",
          "2017-01-30T00:00:00+00:00",
          "2017-02-06T00:00:00+00:00",
          "2017-02-13T00:00:00+00:00",
          "2017-02-20T00:00:00+00:00",
          "2017-02-27T00:00:00+00:00",
          "2017-03-06T00:00:00+00:00",
          "2017-03-13T00:00:00+00:00",
          "2017-03-20T00:00:00+00:00",
          "2017-03-27T00:00:00+00:00",
          "2017-04-03T00:00:00+00:00",
          "2017-04-10T00:00:00+00:00",
          "2017-04-17T00:00:00+00:00",
          "2017-04-24T00:00:00+00:00",
          "2017-05-01T00:00:00+00:00",
          "2017-05-08T00:00:00+00:00",
          "2017-05-15T00:00:00+00:00",
          "2017-05-22T00:00:00+00:00",
          "2017-05-29T00:00:00+00:00",
          "2017-06-05T00:00:00+00:00",
          "2017-06-12T00:00:00+00:00",
          "2017-06-19T00:00:00+00:00",
          "2017-06-26T00:00:00+00:00",
          "2017-07-03T00:00:00+00:00",
          "2017-07-10T00:00:00+00:00",
          "2017-07-17T00:00:00+00:00",
          "2017-07-24T00:00:00+00:00",
          "2017-07-31T00:00:00+00:00",
          "2017-08-07T00:00:00+00:00",
          "2017-08-14T00:00:00+00:00",
          "2017-08-21T00:00:00+00:00",
          "2017-08-28T00:00:00+00:00",
          "2017-09-04T00:00:00+00:00",
          "2017-09-11T00:00:00+00:00",
          "2017-09-18T00:00:00+00:00",
          "2017-09-25T00:00:00+00:00",
          "2017-10-02T00:00:00+00:00",
          "2017-10-09T00:00:00+00:00",
          "2017-10-16T00:00:00+00:00",
          "2017-10-23T00:00:00+00:00",
          "2017-10-30T00:00:00+00:00",
          "2017-11-06T00:00:00+00:00",
          "2017-11-13T00:00:00+00:00",
          "2017-11-20T00:00:00+00:00",
          "2017-11-27T00:00:00+00:00",
          "2017-12-04T00:00:00+00:00",
          "2017-12-11T00:00:00+00:00",
          "2017-12-18T00:00:00+00:00",
          "2017-12-25T00:00:00+00:00",
          "2018-01-01T00:00:00+00:00",
          "2018-01-08T00:00:00+00:00",
          "2018-01-15T00:00:00+00:00",
          "2018-01-22T00:00:00+00:00",
          "2018-01-29T00:00:00+00:00",
          "2018-02-05T00:00:00+00:00",
          "2018-02-12T00:00:00+00:00",
          "2018-02-19T00:00:00+00:00",
          "2018-02-26T00:00:00+00:00",
          "2018-03-05T00:00:00+00:00",
          "2018-03-12T00:00:00+00:00",
          "2018-03-19T00:00:00+00:00",
          "2018-03-26T00:00:00+00:00",
          "2018-04-02T00:00:00+00:00",
          "2018-04-09T00:00:00+00:00",
          "2018-04-16T00:00:00+00:00",
          "2018-04-23T00:00:00+00:00",
          "2018-04-30T00:00:00+00:00",
          "2018-05-07T00:00:00+00:00",
          "2018-05-14T00:00:00+00:00",
          "2018-05-21T00:00:00+00:00",
          "2018-05-28T00:00:00+00:00",
          "2018-06-04T00:00:00+00:00",
          "2018-06-11T00:00:00+00:00",
          "2018-06-18T00:00:00+00:00",
          "2018-06-25T00:00:00+00:00",
          "2018-07-02T00:00:00+00:00",
          "2018-07-09T00:00:00+00:00",
          "2018-07-16T00:00:00+00:00",
          "2018-07-23T00:00:00+00:00",
          "2018-07-30T00:00:00+00:00",
          "2018-08-06T00:00:00+00:00",
          "2018-08-13T00:00:00+00:00",
          "2018-08-20T00:00:00+00:00",
          "2018-08-27T00:00:00+00:00",
          "2018-09-03T00:00:00+00:00",
          "2018-09-10T00:00:00+00:00",
          "2018-09-17T00:00:00+00:00",
          "2018-09-24T00:00:00+00:00",
          "2018-10-01T00:00:00+00:00",
          "2018-10-08T00:00:00+00:00",
          "2018-10-15T00:00:00+00:00",
          "2018-10-22T00:00:00+00:00",
          "2018-10-29T00:00:00+00:00",
          "2018-11-05T00:00:00+00:00",
          "2018-11-12T00:00:00+00:00"
         ],
         "y": [
          3.6,
          260,
          0,
          66.704444,
          0,
          167.89937283,
          2515.046525,
          483.75886064,
          2102.3194492,
          876.724158,
          920.8789999999999,
          987.2583,
          104.730542,
          113.89733833,
          2894.820993,
          1654.009793,
          575.53755867,
          245.783252,
          12136.743042,
          1777.7203686999999,
          242.288485,
          184.82812272,
          3013.2700001,
          189.44786363,
          0,
          5444.537077100001,
          1050.7098271,
          334.67229,
          284.373958,
          0,
          359.873783,
          532.310645,
          570.608216,
          5178.518115,
          394.74857099999997,
          77.172383,
          1297.781141,
          256.08234,
          4202.3622978,
          1607.4905720000002,
          163.736875,
          0,
          153.94302,
          845.28044067,
          1424.2933462,
          796.14927807,
          582.774642,
          143.97904,
          31.5778,
          110.879099,
          1599.7648550000001,
          7304.3118939999995,
          90.065184,
          734.892199,
          951.78950184,
          4810.529555,
          141.27992509999999,
          0,
          19167.458093,
          706.00267468,
          2833.351827,
          2504.6880005,
          790.58878686,
          3172.4783352,
          1077.590568,
          567.612865,
          326.7305784,
          222.55882459999998,
          7265.4596205,
          832.6313122,
          2665.1847358000005,
          179.031003,
          580.1766986,
          591.85138202,
          455.44640899999996,
          21.138,
          27409.594596,
          1618.5221490999998,
          2079.6230184,
          15513.021146000001,
          4121.843708300001,
          5697.9505541,
          4302.3501275,
          1436.3777498,
          2370.9513809,
          3262.7621089,
          215.22997436,
          1101.6424769999999,
          4340.1429094,
          2933.9353776000003,
          9192.1203613,
          281.3949981,
          223.3205571,
          1978.0807759,
          1070.0133727,
          2596.3399489,
          127.29905802,
          3401.9731809,
          1574.3976275999999,
          586.9083914,
          4921.2523078,
          1801.3836950999998,
          1873.9190695,
          2390.1582648000003,
          10113.156544,
          5360.7599076999995,
          0,
          30640.534549,
          473.61768006,
          0,
          2142.5701331,
          2629.3592126999997,
          1916.2102954,
          4735.830645,
          1938.2063942000002,
          8465.6861314,
          4510.4856404,
          19813.098072999997,
          6797.3297155,
          1995.4001732000002,
          2173.4717226,
          4424.274953600001,
          23839.00632,
          9595.4288616,
          336360.1442,
          27227.711385000002,
          30171.366288999998,
          68521.556939,
          59606.559261,
          31323.312391000003,
          47040.719604000005,
          56569.458753,
          214345.6285,
          27713.293163,
          12273.869701000001,
          21955.313951,
          15228.572591999999,
          27385.469799000002,
          9672.6443199,
          61471.190923,
          9769.703896100002,
          98795.177484,
          23184.192016,
          38136.257367,
          35628.126796,
          21050.067839,
          87806.183086,
          33003.131525,
          342869.89033,
          104094.25785,
          163053.67798,
          386871.28612,
          523719.74924,
          288147.29888,
          205023.68523,
          32048.307177,
          47762.33243,
          169531.95285,
          439566.16981999995,
          272069.77534,
          107986.28434000001,
          337074.52451,
          73482.16072999999,
          19562.866797,
          188562.08899999998,
          1017841.605,
          82708.441525,
          191988.96513,
          49610.003254,
          35800.48145,
          42100.986641,
          794725.79359,
          140498.05028,
          76799.714006,
          17026.881881,
          553899.09194,
          4663.2309109,
          126397.94338,
          13236.572827,
          17534.007051,
          25135.976533,
          8660.183355399999,
          16086.769769,
          43277.334948,
          13573.647878999998,
          135946.29741,
          122234.53188,
          17239.43434,
          37834.205689,
          452577.04628999997,
          55539.110511,
          443754.62575,
          16450.569944,
          6027.501474000001,
          43280.534187,
          88660.71376,
          28672.631885000003,
          40910.488375,
          40945.995308,
          17954.858562999998,
          25380.147379
         ]
        }
       ],
       "layout": {
        "template": {
         "data": {
          "bar": [
           {
            "error_x": {
             "color": "#2a3f5f"
            },
            "error_y": {
             "color": "#2a3f5f"
            },
            "marker": {
             "line": {
              "color": "#E5ECF6",
              "width": 0.5
             },
             "pattern": {
              "fillmode": "overlay",
              "size": 10,
              "solidity": 0.2
             }
            },
            "type": "bar"
           }
          ],
          "barpolar": [
           {
            "marker": {
             "line": {
              "color": "#E5ECF6",
              "width": 0.5
             },
             "pattern": {
              "fillmode": "overlay",
              "size": 10,
              "solidity": 0.2
             }
            },
            "type": "barpolar"
           }
          ],
          "carpet": [
           {
            "aaxis": {
             "endlinecolor": "#2a3f5f",
             "gridcolor": "white",
             "linecolor": "white",
             "minorgridcolor": "white",
             "startlinecolor": "#2a3f5f"
            },
            "baxis": {
             "endlinecolor": "#2a3f5f",
             "gridcolor": "white",
             "linecolor": "white",
             "minorgridcolor": "white",
             "startlinecolor": "#2a3f5f"
            },
            "type": "carpet"
           }
          ],
          "choropleth": [
           {
            "colorbar": {
             "outlinewidth": 0,
             "ticks": ""
            },
            "type": "choropleth"
           }
          ],
          "contour": [
           {
            "colorbar": {
             "outlinewidth": 0,
             "ticks": ""
            },
            "colorscale": [
             [
              0,
              "#0d0887"
             ],
             [
              0.1111111111111111,
              "#46039f"
             ],
             [
              0.2222222222222222,
              "#7201a8"
             ],
             [
              0.3333333333333333,
              "#9c179e"
             ],
             [
              0.4444444444444444,
              "#bd3786"
             ],
             [
              0.5555555555555556,
              "#d8576b"
             ],
             [
              0.6666666666666666,
              "#ed7953"
             ],
             [
              0.7777777777777778,
              "#fb9f3a"
             ],
             [
              0.8888888888888888,
              "#fdca26"
             ],
             [
              1,
              "#f0f921"
             ]
            ],
            "type": "contour"
           }
          ],
          "contourcarpet": [
           {
            "colorbar": {
             "outlinewidth": 0,
             "ticks": ""
            },
            "type": "contourcarpet"
           }
          ],
          "heatmap": [
           {
            "colorbar": {
             "outlinewidth": 0,
             "ticks": ""
            },
            "colorscale": [
             [
              0,
              "#0d0887"
             ],
             [
              0.1111111111111111,
              "#46039f"
             ],
             [
              0.2222222222222222,
              "#7201a8"
             ],
             [
              0.3333333333333333,
              "#9c179e"
             ],
             [
              0.4444444444444444,
              "#bd3786"
             ],
             [
              0.5555555555555556,
              "#d8576b"
             ],
             [
              0.6666666666666666,
              "#ed7953"
             ],
             [
              0.7777777777777778,
              "#fb9f3a"
             ],
             [
              0.8888888888888888,
              "#fdca26"
             ],
             [
              1,
              "#f0f921"
             ]
            ],
            "type": "heatmap"
           }
          ],
          "heatmapgl": [
           {
            "colorbar": {
             "outlinewidth": 0,
             "ticks": ""
            },
            "colorscale": [
             [
              0,
              "#0d0887"
             ],
             [
              0.1111111111111111,
              "#46039f"
             ],
             [
              0.2222222222222222,
              "#7201a8"
             ],
             [
              0.3333333333333333,
              "#9c179e"
             ],
             [
              0.4444444444444444,
              "#bd3786"
             ],
             [
              0.5555555555555556,
              "#d8576b"
             ],
             [
              0.6666666666666666,
              "#ed7953"
             ],
             [
              0.7777777777777778,
              "#fb9f3a"
             ],
             [
              0.8888888888888888,
              "#fdca26"
             ],
             [
              1,
              "#f0f921"
             ]
            ],
            "type": "heatmapgl"
           }
          ],
          "histogram": [
           {
            "marker": {
             "pattern": {
              "fillmode": "overlay",
              "size": 10,
              "solidity": 0.2
             }
            },
            "type": "histogram"
           }
          ],
          "histogram2d": [
           {
            "colorbar": {
             "outlinewidth": 0,
             "ticks": ""
            },
            "colorscale": [
             [
              0,
              "#0d0887"
             ],
             [
              0.1111111111111111,
              "#46039f"
             ],
             [
              0.2222222222222222,
              "#7201a8"
             ],
             [
              0.3333333333333333,
              "#9c179e"
             ],
             [
              0.4444444444444444,
              "#bd3786"
             ],
             [
              0.5555555555555556,
              "#d8576b"
             ],
             [
              0.6666666666666666,
              "#ed7953"
             ],
             [
              0.7777777777777778,
              "#fb9f3a"
             ],
             [
              0.8888888888888888,
              "#fdca26"
             ],
             [
              1,
              "#f0f921"
             ]
            ],
            "type": "histogram2d"
           }
          ],
          "histogram2dcontour": [
           {
            "colorbar": {
             "outlinewidth": 0,
             "ticks": ""
            },
            "colorscale": [
             [
              0,
              "#0d0887"
             ],
             [
              0.1111111111111111,
              "#46039f"
             ],
             [
              0.2222222222222222,
              "#7201a8"
             ],
             [
              0.3333333333333333,
              "#9c179e"
             ],
             [
              0.4444444444444444,
              "#bd3786"
             ],
             [
              0.5555555555555556,
              "#d8576b"
             ],
             [
              0.6666666666666666,
              "#ed7953"
             ],
             [
              0.7777777777777778,
              "#fb9f3a"
             ],
             [
              0.8888888888888888,
              "#fdca26"
             ],
             [
              1,
              "#f0f921"
             ]
            ],
            "type": "histogram2dcontour"
           }
          ],
          "mesh3d": [
           {
            "colorbar": {
             "outlinewidth": 0,
             "ticks": ""
            },
            "type": "mesh3d"
           }
          ],
          "parcoords": [
           {
            "line": {
             "colorbar": {
              "outlinewidth": 0,
              "ticks": ""
             }
            },
            "type": "parcoords"
           }
          ],
          "pie": [
           {
            "automargin": true,
            "type": "pie"
           }
          ],
          "scatter": [
           {
            "marker": {
             "colorbar": {
              "outlinewidth": 0,
              "ticks": ""
             }
            },
            "type": "scatter"
           }
          ],
          "scatter3d": [
           {
            "line": {
             "colorbar": {
              "outlinewidth": 0,
              "ticks": ""
             }
            },
            "marker": {
             "colorbar": {
              "outlinewidth": 0,
              "ticks": ""
             }
            },
            "type": "scatter3d"
           }
          ],
          "scattercarpet": [
           {
            "marker": {
             "colorbar": {
              "outlinewidth": 0,
              "ticks": ""
             }
            },
            "type": "scattercarpet"
           }
          ],
          "scattergeo": [
           {
            "marker": {
             "colorbar": {
              "outlinewidth": 0,
              "ticks": ""
             }
            },
            "type": "scattergeo"
           }
          ],
          "scattergl": [
           {
            "marker": {
             "colorbar": {
              "outlinewidth": 0,
              "ticks": ""
             }
            },
            "type": "scattergl"
           }
          ],
          "scattermapbox": [
           {
            "marker": {
             "colorbar": {
              "outlinewidth": 0,
              "ticks": ""
             }
            },
            "type": "scattermapbox"
           }
          ],
          "scatterpolar": [
           {
            "marker": {
             "colorbar": {
              "outlinewidth": 0,
              "ticks": ""
             }
            },
            "type": "scatterpolar"
           }
          ],
          "scatterpolargl": [
           {
            "marker": {
             "colorbar": {
              "outlinewidth": 0,
              "ticks": ""
             }
            },
            "type": "scatterpolargl"
           }
          ],
          "scatterternary": [
           {
            "marker": {
             "colorbar": {
              "outlinewidth": 0,
              "ticks": ""
             }
            },
            "type": "scatterternary"
           }
          ],
          "surface": [
           {
            "colorbar": {
             "outlinewidth": 0,
             "ticks": ""
            },
            "colorscale": [
             [
              0,
              "#0d0887"
             ],
             [
              0.1111111111111111,
              "#46039f"
             ],
             [
              0.2222222222222222,
              "#7201a8"
             ],
             [
              0.3333333333333333,
              "#9c179e"
             ],
             [
              0.4444444444444444,
              "#bd3786"
             ],
             [
              0.5555555555555556,
              "#d8576b"
             ],
             [
              0.6666666666666666,
              "#ed7953"
             ],
             [
              0.7777777777777778,
              "#fb9f3a"
             ],
             [
              0.8888888888888888,
              "#fdca26"
             ],
             [
              1,
              "#f0f921"
             ]
            ],
            "type": "surface"
           }
          ],
          "table": [
           {
            "cells": {
             "fill": {
              "color": "#EBF0F8"
             },
             "line": {
              "color": "white"
             }
            },
            "header": {
             "fill": {
              "color": "#C8D4E3"
             },
             "line": {
              "color": "white"
             }
            },
            "type": "table"
           }
          ]
         },
         "layout": {
          "annotationdefaults": {
           "arrowcolor": "#2a3f5f",
           "arrowhead": 0,
           "arrowwidth": 1
          },
          "autotypenumbers": "strict",
          "coloraxis": {
           "colorbar": {
            "outlinewidth": 0,
            "ticks": ""
           }
          },
          "colorscale": {
           "diverging": [
            [
             0,
             "#8e0152"
            ],
            [
             0.1,
             "#c51b7d"
            ],
            [
             0.2,
             "#de77ae"
            ],
            [
             0.3,
             "#f1b6da"
            ],
            [
             0.4,
             "#fde0ef"
            ],
            [
             0.5,
             "#f7f7f7"
            ],
            [
             0.6,
             "#e6f5d0"
            ],
            [
             0.7,
             "#b8e186"
            ],
            [
             0.8,
             "#7fbc41"
            ],
            [
             0.9,
             "#4d9221"
            ],
            [
             1,
             "#276419"
            ]
           ],
           "sequential": [
            [
             0,
             "#0d0887"
            ],
            [
             0.1111111111111111,
             "#46039f"
            ],
            [
             0.2222222222222222,
             "#7201a8"
            ],
            [
             0.3333333333333333,
             "#9c179e"
            ],
            [
             0.4444444444444444,
             "#bd3786"
            ],
            [
             0.5555555555555556,
             "#d8576b"
            ],
            [
             0.6666666666666666,
             "#ed7953"
            ],
            [
             0.7777777777777778,
             "#fb9f3a"
            ],
            [
             0.8888888888888888,
             "#fdca26"
            ],
            [
             1,
             "#f0f921"
            ]
           ],
           "sequentialminus": [
            [
             0,
             "#0d0887"
            ],
            [
             0.1111111111111111,
             "#46039f"
            ],
            [
             0.2222222222222222,
             "#7201a8"
            ],
            [
             0.3333333333333333,
             "#9c179e"
            ],
            [
             0.4444444444444444,
             "#bd3786"
            ],
            [
             0.5555555555555556,
             "#d8576b"
            ],
            [
             0.6666666666666666,
             "#ed7953"
            ],
            [
             0.7777777777777778,
             "#fb9f3a"
            ],
            [
             0.8888888888888888,
             "#fdca26"
            ],
            [
             1,
             "#f0f921"
            ]
           ]
          },
          "colorway": [
           "#636efa",
           "#EF553B",
           "#00cc96",
           "#ab63fa",
           "#FFA15A",
           "#19d3f3",
           "#FF6692",
           "#B6E880",
           "#FF97FF",
           "#FECB52"
          ],
          "font": {
           "color": "#2a3f5f"
          },
          "geo": {
           "bgcolor": "white",
           "lakecolor": "white",
           "landcolor": "#E5ECF6",
           "showlakes": true,
           "showland": true,
           "subunitcolor": "white"
          },
          "hoverlabel": {
           "align": "left"
          },
          "hovermode": "closest",
          "mapbox": {
           "style": "light"
          },
          "paper_bgcolor": "white",
          "plot_bgcolor": "#E5ECF6",
          "polar": {
           "angularaxis": {
            "gridcolor": "white",
            "linecolor": "white",
            "ticks": ""
           },
           "bgcolor": "#E5ECF6",
           "radialaxis": {
            "gridcolor": "white",
            "linecolor": "white",
            "ticks": ""
           }
          },
          "scene": {
           "xaxis": {
            "backgroundcolor": "#E5ECF6",
            "gridcolor": "white",
            "gridwidth": 2,
            "linecolor": "white",
            "showbackground": true,
            "ticks": "",
            "zerolinecolor": "white"
           },
           "yaxis": {
            "backgroundcolor": "#E5ECF6",
            "gridcolor": "white",
            "gridwidth": 2,
            "linecolor": "white",
            "showbackground": true,
            "ticks": "",
            "zerolinecolor": "white"
           },
           "zaxis": {
            "backgroundcolor": "#E5ECF6",
            "gridcolor": "white",
            "gridwidth": 2,
            "linecolor": "white",
            "showbackground": true,
            "ticks": "",
            "zerolinecolor": "white"
           }
          },
          "shapedefaults": {
           "line": {
            "color": "#2a3f5f"
           }
          },
          "ternary": {
           "aaxis": {
            "gridcolor": "white",
            "linecolor": "white",
            "ticks": ""
           },
           "baxis": {
            "gridcolor": "white",
            "linecolor": "white",
            "ticks": ""
           },
           "bgcolor": "#E5ECF6",
           "caxis": {
            "gridcolor": "white",
            "linecolor": "white",
            "ticks": ""
           }
          },
          "title": {
           "x": 0.05
          },
          "xaxis": {
           "automargin": true,
           "gridcolor": "white",
           "linecolor": "white",
           "ticks": "",
           "title": {
            "standoff": 15
           },
           "zerolinecolor": "white",
           "zerolinewidth": 2
          },
          "yaxis": {
           "automargin": true,
           "gridcolor": "white",
           "linecolor": "white",
           "ticks": "",
           "title": {
            "standoff": 15
           },
           "zerolinecolor": "white",
           "zerolinewidth": 2
          }
         }
        },
        "title": {
         "text": "Historical Bitcoin Volume (USD) (2015-2018) with the slider"
        },
        "xaxis": {
         "rangeselector": {
          "buttons": [
           {
            "count": 1,
            "label": "1m",
            "step": "month",
            "stepmode": "backward"
           },
           {
            "count": 6,
            "label": "6m",
            "step": "month",
            "stepmode": "backward"
           },
           {
            "count": 12,
            "label": "1y",
            "step": "month",
            "stepmode": "backward"
           },
           {
            "count": 36,
            "label": "3y",
            "step": "month",
            "stepmode": "backward"
           },
           {
            "step": "all"
           }
          ]
         },
         "rangeslider": {
          "visible": true
         },
         "type": "date"
        }
       }
      },
      "text/html": [
       "<div>                            <div id=\"ee323c8e-1241-490e-a1dd-9b5a674926e1\" class=\"plotly-graph-div\" style=\"height:525px; width:100%;\"></div>            <script type=\"text/javascript\">                require([\"plotly\"], function(Plotly) {                    window.PLOTLYENV=window.PLOTLYENV || {};                                    if (document.getElementById(\"ee323c8e-1241-490e-a1dd-9b5a674926e1\")) {                    Plotly.newPlot(                        \"ee323c8e-1241-490e-a1dd-9b5a674926e1\",                        [{\"mode\":\"lines\",\"name\":\"Bitcoin Price (Open)\",\"type\":\"scatter\",\"x\":[\"2015-01-12T00:00:00+00:00\",\"2015-01-19T00:00:00+00:00\",\"2015-01-26T00:00:00+00:00\",\"2015-02-02T00:00:00+00:00\",\"2015-02-09T00:00:00+00:00\",\"2015-02-16T00:00:00+00:00\",\"2015-02-23T00:00:00+00:00\",\"2015-03-02T00:00:00+00:00\",\"2015-03-09T00:00:00+00:00\",\"2015-03-16T00:00:00+00:00\",\"2015-03-23T00:00:00+00:00\",\"2015-03-30T00:00:00+00:00\",\"2015-04-06T00:00:00+00:00\",\"2015-04-13T00:00:00+00:00\",\"2015-04-20T00:00:00+00:00\",\"2015-04-27T00:00:00+00:00\",\"2015-05-04T00:00:00+00:00\",\"2015-05-11T00:00:00+00:00\",\"2015-05-18T00:00:00+00:00\",\"2015-05-25T00:00:00+00:00\",\"2015-06-01T00:00:00+00:00\",\"2015-06-08T00:00:00+00:00\",\"2015-06-15T00:00:00+00:00\",\"2015-06-22T00:00:00+00:00\",\"2015-06-29T00:00:00+00:00\",\"2015-07-06T00:00:00+00:00\",\"2015-07-13T00:00:00+00:00\",\"2015-07-20T00:00:00+00:00\",\"2015-07-27T00:00:00+00:00\",\"2015-08-03T00:00:00+00:00\",\"2015-08-10T00:00:00+00:00\",\"2015-08-17T00:00:00+00:00\",\"2015-08-24T00:00:00+00:00\",\"2015-08-31T00:00:00+00:00\",\"2015-09-07T00:00:00+00:00\",\"2015-09-14T00:00:00+00:00\",\"2015-09-21T00:00:00+00:00\",\"2015-09-28T00:00:00+00:00\",\"2015-10-05T00:00:00+00:00\",\"2015-10-12T00:00:00+00:00\",\"2015-10-19T00:00:00+00:00\",\"2015-10-26T00:00:00+00:00\",\"2015-11-02T00:00:00+00:00\",\"2015-11-09T00:00:00+00:00\",\"2015-11-16T00:00:00+00:00\",\"2015-11-23T00:00:00+00:00\",\"2015-11-30T00:00:00+00:00\",\"2015-12-07T00:00:00+00:00\",\"2015-12-14T00:00:00+00:00\",\"2015-12-21T00:00:00+00:00\",\"2015-12-28T00:00:00+00:00\",\"2016-01-04T00:00:00+00:00\",\"2016-01-11T00:00:00+00:00\",\"2016-01-18T00:00:00+00:00\",\"2016-01-25T00:00:00+00:00\",\"2016-02-01T00:00:00+00:00\",\"2016-02-08T00:00:00+00:00\",\"2016-02-15T00:00:00+00:00\",\"2016-02-22T00:00:00+00:00\",\"2016-02-29T00:00:00+00:00\",\"2016-03-07T00:00:00+00:00\",\"2016-03-14T00:00:00+00:00\",\"2016-03-21T00:00:00+00:00\",\"2016-03-28T00:00:00+00:00\",\"2016-04-04T00:00:00+00:00\",\"2016-04-11T00:00:00+00:00\",\"2016-04-18T00:00:00+00:00\",\"2016-04-25T00:00:00+00:00\",\"2016-05-02T00:00:00+00:00\",\"2016-05-09T00:00:00+00:00\",\"2016-05-16T00:00:00+00:00\",\"2016-05-23T00:00:00+00:00\",\"2016-05-30T00:00:00+00:00\",\"2016-06-06T00:00:00+00:00\",\"2016-06-13T00:00:00+00:00\",\"2016-06-20T00:00:00+00:00\",\"2016-06-27T00:00:00+00:00\",\"2016-07-04T00:00:00+00:00\",\"2016-07-11T00:00:00+00:00\",\"2016-07-18T00:00:00+00:00\",\"2016-07-25T00:00:00+00:00\",\"2016-08-01T00:00:00+00:00\",\"2016-08-08T00:00:00+00:00\",\"2016-08-15T00:00:00+00:00\",\"2016-08-22T00:00:00+00:00\",\"2016-08-29T00:00:00+00:00\",\"2016-09-05T00:00:00+00:00\",\"2016-09-12T00:00:00+00:00\",\"2016-09-19T00:00:00+00:00\",\"2016-09-26T00:00:00+00:00\",\"2016-10-03T00:00:00+00:00\",\"2016-10-10T00:00:00+00:00\",\"2016-10-17T00:00:00+00:00\",\"2016-10-24T00:00:00+00:00\",\"2016-10-31T00:00:00+00:00\",\"2016-11-07T00:00:00+00:00\",\"2016-11-14T00:00:00+00:00\",\"2016-11-21T00:00:00+00:00\",\"2016-11-28T00:00:00+00:00\",\"2016-12-05T00:00:00+00:00\",\"2016-12-12T00:00:00+00:00\",\"2016-12-19T00:00:00+00:00\",\"2016-12-26T00:00:00+00:00\",\"2017-01-02T00:00:00+00:00\",\"2017-01-09T00:00:00+00:00\",\"2017-01-16T00:00:00+00:00\",\"2017-01-23T00:00:00+00:00\",\"2017-01-30T00:00:00+00:00\",\"2017-02-06T00:00:00+00:00\",\"2017-02-13T00:00:00+00:00\",\"2017-02-20T00:00:00+00:00\",\"2017-02-27T00:00:00+00:00\",\"2017-03-06T00:00:00+00:00\",\"2017-03-13T00:00:00+00:00\",\"2017-03-20T00:00:00+00:00\",\"2017-03-27T00:00:00+00:00\",\"2017-04-03T00:00:00+00:00\",\"2017-04-10T00:00:00+00:00\",\"2017-04-17T00:00:00+00:00\",\"2017-04-24T00:00:00+00:00\",\"2017-05-01T00:00:00+00:00\",\"2017-05-08T00:00:00+00:00\",\"2017-05-15T00:00:00+00:00\",\"2017-05-22T00:00:00+00:00\",\"2017-05-29T00:00:00+00:00\",\"2017-06-05T00:00:00+00:00\",\"2017-06-12T00:00:00+00:00\",\"2017-06-19T00:00:00+00:00\",\"2017-06-26T00:00:00+00:00\",\"2017-07-03T00:00:00+00:00\",\"2017-07-10T00:00:00+00:00\",\"2017-07-17T00:00:00+00:00\",\"2017-07-24T00:00:00+00:00\",\"2017-07-31T00:00:00+00:00\",\"2017-08-07T00:00:00+00:00\",\"2017-08-14T00:00:00+00:00\",\"2017-08-21T00:00:00+00:00\",\"2017-08-28T00:00:00+00:00\",\"2017-09-04T00:00:00+00:00\",\"2017-09-11T00:00:00+00:00\",\"2017-09-18T00:00:00+00:00\",\"2017-09-25T00:00:00+00:00\",\"2017-10-02T00:00:00+00:00\",\"2017-10-09T00:00:00+00:00\",\"2017-10-16T00:00:00+00:00\",\"2017-10-23T00:00:00+00:00\",\"2017-10-30T00:00:00+00:00\",\"2017-11-06T00:00:00+00:00\",\"2017-11-13T00:00:00+00:00\",\"2017-11-20T00:00:00+00:00\",\"2017-11-27T00:00:00+00:00\",\"2017-12-04T00:00:00+00:00\",\"2017-12-11T00:00:00+00:00\",\"2017-12-18T00:00:00+00:00\",\"2017-12-25T00:00:00+00:00\",\"2018-01-01T00:00:00+00:00\",\"2018-01-08T00:00:00+00:00\",\"2018-01-15T00:00:00+00:00\",\"2018-01-22T00:00:00+00:00\",\"2018-01-29T00:00:00+00:00\",\"2018-02-05T00:00:00+00:00\",\"2018-02-12T00:00:00+00:00\",\"2018-02-19T00:00:00+00:00\",\"2018-02-26T00:00:00+00:00\",\"2018-03-05T00:00:00+00:00\",\"2018-03-12T00:00:00+00:00\",\"2018-03-19T00:00:00+00:00\",\"2018-03-26T00:00:00+00:00\",\"2018-04-02T00:00:00+00:00\",\"2018-04-09T00:00:00+00:00\",\"2018-04-16T00:00:00+00:00\",\"2018-04-23T00:00:00+00:00\",\"2018-04-30T00:00:00+00:00\",\"2018-05-07T00:00:00+00:00\",\"2018-05-14T00:00:00+00:00\",\"2018-05-21T00:00:00+00:00\",\"2018-05-28T00:00:00+00:00\",\"2018-06-04T00:00:00+00:00\",\"2018-06-11T00:00:00+00:00\",\"2018-06-18T00:00:00+00:00\",\"2018-06-25T00:00:00+00:00\",\"2018-07-02T00:00:00+00:00\",\"2018-07-09T00:00:00+00:00\",\"2018-07-16T00:00:00+00:00\",\"2018-07-23T00:00:00+00:00\",\"2018-07-30T00:00:00+00:00\",\"2018-08-06T00:00:00+00:00\",\"2018-08-13T00:00:00+00:00\",\"2018-08-20T00:00:00+00:00\",\"2018-08-27T00:00:00+00:00\",\"2018-09-03T00:00:00+00:00\",\"2018-09-10T00:00:00+00:00\",\"2018-09-17T00:00:00+00:00\",\"2018-09-24T00:00:00+00:00\",\"2018-10-01T00:00:00+00:00\",\"2018-10-08T00:00:00+00:00\",\"2018-10-15T00:00:00+00:00\",\"2018-10-22T00:00:00+00:00\",\"2018-10-29T00:00:00+00:00\",\"2018-11-05T00:00:00+00:00\",\"2018-11-12T00:00:00+00:00\"],\"y\":[3.6,260.0,0.0,66.704444,0.0,167.89937283,2515.046525,483.75886064,2102.3194492,876.724158,920.8789999999999,987.2583,104.730542,113.89733833,2894.820993,1654.009793,575.53755867,245.783252,12136.743042,1777.7203686999999,242.288485,184.82812272,3013.2700001,189.44786363,0.0,5444.537077100001,1050.7098271,334.67229,284.373958,0.0,359.873783,532.310645,570.608216,5178.518115,394.74857099999997,77.172383,1297.781141,256.08234,4202.3622978,1607.4905720000002,163.736875,0.0,153.94302,845.28044067,1424.2933462,796.14927807,582.774642,143.97904,31.5778,110.879099,1599.7648550000001,7304.3118939999995,90.065184,734.892199,951.78950184,4810.529555,141.27992509999999,0.0,19167.458093,706.00267468,2833.351827,2504.6880005,790.58878686,3172.4783352,1077.590568,567.612865,326.7305784,222.55882459999998,7265.4596205,832.6313122,2665.1847358000005,179.031003,580.1766986,591.85138202,455.44640899999996,21.138,27409.594596,1618.5221490999998,2079.6230184,15513.021146000001,4121.843708300001,5697.9505541,4302.3501275,1436.3777498,2370.9513809,3262.7621089,215.22997436,1101.6424769999999,4340.1429094,2933.9353776000003,9192.1203613,281.3949981,223.3205571,1978.0807759,1070.0133727,2596.3399489,127.29905802,3401.9731809,1574.3976275999999,586.9083914,4921.2523078,1801.3836950999998,1873.9190695,2390.1582648000003,10113.156544,5360.7599076999995,0.0,30640.534549,473.61768006,0.0,2142.5701331,2629.3592126999997,1916.2102954,4735.830645,1938.2063942000002,8465.6861314,4510.4856404,19813.098072999997,6797.3297155,1995.4001732000002,2173.4717226,4424.274953600001,23839.00632,9595.4288616,336360.1442,27227.711385000002,30171.366288999998,68521.556939,59606.559261,31323.312391000003,47040.719604000005,56569.458753,214345.6285,27713.293163,12273.869701000001,21955.313951,15228.572591999999,27385.469799000002,9672.6443199,61471.190923,9769.703896100002,98795.177484,23184.192016,38136.257367,35628.126796,21050.067839,87806.183086,33003.131525,342869.89033,104094.25785,163053.67798,386871.28612,523719.74924,288147.29888,205023.68523,32048.307177,47762.33243,169531.95285,439566.16981999995,272069.77534,107986.28434000001,337074.52451,73482.16072999999,19562.866797,188562.08899999998,1017841.605,82708.441525,191988.96513,49610.003254,35800.48145,42100.986641,794725.79359,140498.05028,76799.714006,17026.881881,553899.09194,4663.2309109,126397.94338,13236.572827,17534.007051,25135.976533,8660.183355399999,16086.769769,43277.334948,13573.647878999998,135946.29741,122234.53188,17239.43434,37834.205689,452577.04628999997,55539.110511,443754.62575,16450.569944,6027.501474000001,43280.534187,88660.71376,28672.631885000003,40910.488375,40945.995308,17954.858562999998,25380.147379]}],                        {\"template\":{\"data\":{\"bar\":[{\"error_x\":{\"color\":\"#2a3f5f\"},\"error_y\":{\"color\":\"#2a3f5f\"},\"marker\":{\"line\":{\"color\":\"#E5ECF6\",\"width\":0.5},\"pattern\":{\"fillmode\":\"overlay\",\"size\":10,\"solidity\":0.2}},\"type\":\"bar\"}],\"barpolar\":[{\"marker\":{\"line\":{\"color\":\"#E5ECF6\",\"width\":0.5},\"pattern\":{\"fillmode\":\"overlay\",\"size\":10,\"solidity\":0.2}},\"type\":\"barpolar\"}],\"carpet\":[{\"aaxis\":{\"endlinecolor\":\"#2a3f5f\",\"gridcolor\":\"white\",\"linecolor\":\"white\",\"minorgridcolor\":\"white\",\"startlinecolor\":\"#2a3f5f\"},\"baxis\":{\"endlinecolor\":\"#2a3f5f\",\"gridcolor\":\"white\",\"linecolor\":\"white\",\"minorgridcolor\":\"white\",\"startlinecolor\":\"#2a3f5f\"},\"type\":\"carpet\"}],\"choropleth\":[{\"colorbar\":{\"outlinewidth\":0,\"ticks\":\"\"},\"type\":\"choropleth\"}],\"contour\":[{\"colorbar\":{\"outlinewidth\":0,\"ticks\":\"\"},\"colorscale\":[[0.0,\"#0d0887\"],[0.1111111111111111,\"#46039f\"],[0.2222222222222222,\"#7201a8\"],[0.3333333333333333,\"#9c179e\"],[0.4444444444444444,\"#bd3786\"],[0.5555555555555556,\"#d8576b\"],[0.6666666666666666,\"#ed7953\"],[0.7777777777777778,\"#fb9f3a\"],[0.8888888888888888,\"#fdca26\"],[1.0,\"#f0f921\"]],\"type\":\"contour\"}],\"contourcarpet\":[{\"colorbar\":{\"outlinewidth\":0,\"ticks\":\"\"},\"type\":\"contourcarpet\"}],\"heatmap\":[{\"colorbar\":{\"outlinewidth\":0,\"ticks\":\"\"},\"colorscale\":[[0.0,\"#0d0887\"],[0.1111111111111111,\"#46039f\"],[0.2222222222222222,\"#7201a8\"],[0.3333333333333333,\"#9c179e\"],[0.4444444444444444,\"#bd3786\"],[0.5555555555555556,\"#d8576b\"],[0.6666666666666666,\"#ed7953\"],[0.7777777777777778,\"#fb9f3a\"],[0.8888888888888888,\"#fdca26\"],[1.0,\"#f0f921\"]],\"type\":\"heatmap\"}],\"heatmapgl\":[{\"colorbar\":{\"outlinewidth\":0,\"ticks\":\"\"},\"colorscale\":[[0.0,\"#0d0887\"],[0.1111111111111111,\"#46039f\"],[0.2222222222222222,\"#7201a8\"],[0.3333333333333333,\"#9c179e\"],[0.4444444444444444,\"#bd3786\"],[0.5555555555555556,\"#d8576b\"],[0.6666666666666666,\"#ed7953\"],[0.7777777777777778,\"#fb9f3a\"],[0.8888888888888888,\"#fdca26\"],[1.0,\"#f0f921\"]],\"type\":\"heatmapgl\"}],\"histogram\":[{\"marker\":{\"pattern\":{\"fillmode\":\"overlay\",\"size\":10,\"solidity\":0.2}},\"type\":\"histogram\"}],\"histogram2d\":[{\"colorbar\":{\"outlinewidth\":0,\"ticks\":\"\"},\"colorscale\":[[0.0,\"#0d0887\"],[0.1111111111111111,\"#46039f\"],[0.2222222222222222,\"#7201a8\"],[0.3333333333333333,\"#9c179e\"],[0.4444444444444444,\"#bd3786\"],[0.5555555555555556,\"#d8576b\"],[0.6666666666666666,\"#ed7953\"],[0.7777777777777778,\"#fb9f3a\"],[0.8888888888888888,\"#fdca26\"],[1.0,\"#f0f921\"]],\"type\":\"histogram2d\"}],\"histogram2dcontour\":[{\"colorbar\":{\"outlinewidth\":0,\"ticks\":\"\"},\"colorscale\":[[0.0,\"#0d0887\"],[0.1111111111111111,\"#46039f\"],[0.2222222222222222,\"#7201a8\"],[0.3333333333333333,\"#9c179e\"],[0.4444444444444444,\"#bd3786\"],[0.5555555555555556,\"#d8576b\"],[0.6666666666666666,\"#ed7953\"],[0.7777777777777778,\"#fb9f3a\"],[0.8888888888888888,\"#fdca26\"],[1.0,\"#f0f921\"]],\"type\":\"histogram2dcontour\"}],\"mesh3d\":[{\"colorbar\":{\"outlinewidth\":0,\"ticks\":\"\"},\"type\":\"mesh3d\"}],\"parcoords\":[{\"line\":{\"colorbar\":{\"outlinewidth\":0,\"ticks\":\"\"}},\"type\":\"parcoords\"}],\"pie\":[{\"automargin\":true,\"type\":\"pie\"}],\"scatter\":[{\"marker\":{\"colorbar\":{\"outlinewidth\":0,\"ticks\":\"\"}},\"type\":\"scatter\"}],\"scatter3d\":[{\"line\":{\"colorbar\":{\"outlinewidth\":0,\"ticks\":\"\"}},\"marker\":{\"colorbar\":{\"outlinewidth\":0,\"ticks\":\"\"}},\"type\":\"scatter3d\"}],\"scattercarpet\":[{\"marker\":{\"colorbar\":{\"outlinewidth\":0,\"ticks\":\"\"}},\"type\":\"scattercarpet\"}],\"scattergeo\":[{\"marker\":{\"colorbar\":{\"outlinewidth\":0,\"ticks\":\"\"}},\"type\":\"scattergeo\"}],\"scattergl\":[{\"marker\":{\"colorbar\":{\"outlinewidth\":0,\"ticks\":\"\"}},\"type\":\"scattergl\"}],\"scattermapbox\":[{\"marker\":{\"colorbar\":{\"outlinewidth\":0,\"ticks\":\"\"}},\"type\":\"scattermapbox\"}],\"scatterpolar\":[{\"marker\":{\"colorbar\":{\"outlinewidth\":0,\"ticks\":\"\"}},\"type\":\"scatterpolar\"}],\"scatterpolargl\":[{\"marker\":{\"colorbar\":{\"outlinewidth\":0,\"ticks\":\"\"}},\"type\":\"scatterpolargl\"}],\"scatterternary\":[{\"marker\":{\"colorbar\":{\"outlinewidth\":0,\"ticks\":\"\"}},\"type\":\"scatterternary\"}],\"surface\":[{\"colorbar\":{\"outlinewidth\":0,\"ticks\":\"\"},\"colorscale\":[[0.0,\"#0d0887\"],[0.1111111111111111,\"#46039f\"],[0.2222222222222222,\"#7201a8\"],[0.3333333333333333,\"#9c179e\"],[0.4444444444444444,\"#bd3786\"],[0.5555555555555556,\"#d8576b\"],[0.6666666666666666,\"#ed7953\"],[0.7777777777777778,\"#fb9f3a\"],[0.8888888888888888,\"#fdca26\"],[1.0,\"#f0f921\"]],\"type\":\"surface\"}],\"table\":[{\"cells\":{\"fill\":{\"color\":\"#EBF0F8\"},\"line\":{\"color\":\"white\"}},\"header\":{\"fill\":{\"color\":\"#C8D4E3\"},\"line\":{\"color\":\"white\"}},\"type\":\"table\"}]},\"layout\":{\"annotationdefaults\":{\"arrowcolor\":\"#2a3f5f\",\"arrowhead\":0,\"arrowwidth\":1},\"autotypenumbers\":\"strict\",\"coloraxis\":{\"colorbar\":{\"outlinewidth\":0,\"ticks\":\"\"}},\"colorscale\":{\"diverging\":[[0,\"#8e0152\"],[0.1,\"#c51b7d\"],[0.2,\"#de77ae\"],[0.3,\"#f1b6da\"],[0.4,\"#fde0ef\"],[0.5,\"#f7f7f7\"],[0.6,\"#e6f5d0\"],[0.7,\"#b8e186\"],[0.8,\"#7fbc41\"],[0.9,\"#4d9221\"],[1,\"#276419\"]],\"sequential\":[[0.0,\"#0d0887\"],[0.1111111111111111,\"#46039f\"],[0.2222222222222222,\"#7201a8\"],[0.3333333333333333,\"#9c179e\"],[0.4444444444444444,\"#bd3786\"],[0.5555555555555556,\"#d8576b\"],[0.6666666666666666,\"#ed7953\"],[0.7777777777777778,\"#fb9f3a\"],[0.8888888888888888,\"#fdca26\"],[1.0,\"#f0f921\"]],\"sequentialminus\":[[0.0,\"#0d0887\"],[0.1111111111111111,\"#46039f\"],[0.2222222222222222,\"#7201a8\"],[0.3333333333333333,\"#9c179e\"],[0.4444444444444444,\"#bd3786\"],[0.5555555555555556,\"#d8576b\"],[0.6666666666666666,\"#ed7953\"],[0.7777777777777778,\"#fb9f3a\"],[0.8888888888888888,\"#fdca26\"],[1.0,\"#f0f921\"]]},\"colorway\":[\"#636efa\",\"#EF553B\",\"#00cc96\",\"#ab63fa\",\"#FFA15A\",\"#19d3f3\",\"#FF6692\",\"#B6E880\",\"#FF97FF\",\"#FECB52\"],\"font\":{\"color\":\"#2a3f5f\"},\"geo\":{\"bgcolor\":\"white\",\"lakecolor\":\"white\",\"landcolor\":\"#E5ECF6\",\"showlakes\":true,\"showland\":true,\"subunitcolor\":\"white\"},\"hoverlabel\":{\"align\":\"left\"},\"hovermode\":\"closest\",\"mapbox\":{\"style\":\"light\"},\"paper_bgcolor\":\"white\",\"plot_bgcolor\":\"#E5ECF6\",\"polar\":{\"angularaxis\":{\"gridcolor\":\"white\",\"linecolor\":\"white\",\"ticks\":\"\"},\"bgcolor\":\"#E5ECF6\",\"radialaxis\":{\"gridcolor\":\"white\",\"linecolor\":\"white\",\"ticks\":\"\"}},\"scene\":{\"xaxis\":{\"backgroundcolor\":\"#E5ECF6\",\"gridcolor\":\"white\",\"gridwidth\":2,\"linecolor\":\"white\",\"showbackground\":true,\"ticks\":\"\",\"zerolinecolor\":\"white\"},\"yaxis\":{\"backgroundcolor\":\"#E5ECF6\",\"gridcolor\":\"white\",\"gridwidth\":2,\"linecolor\":\"white\",\"showbackground\":true,\"ticks\":\"\",\"zerolinecolor\":\"white\"},\"zaxis\":{\"backgroundcolor\":\"#E5ECF6\",\"gridcolor\":\"white\",\"gridwidth\":2,\"linecolor\":\"white\",\"showbackground\":true,\"ticks\":\"\",\"zerolinecolor\":\"white\"}},\"shapedefaults\":{\"line\":{\"color\":\"#2a3f5f\"}},\"ternary\":{\"aaxis\":{\"gridcolor\":\"white\",\"linecolor\":\"white\",\"ticks\":\"\"},\"baxis\":{\"gridcolor\":\"white\",\"linecolor\":\"white\",\"ticks\":\"\"},\"bgcolor\":\"#E5ECF6\",\"caxis\":{\"gridcolor\":\"white\",\"linecolor\":\"white\",\"ticks\":\"\"}},\"title\":{\"x\":0.05},\"xaxis\":{\"automargin\":true,\"gridcolor\":\"white\",\"linecolor\":\"white\",\"ticks\":\"\",\"title\":{\"standoff\":15},\"zerolinecolor\":\"white\",\"zerolinewidth\":2},\"yaxis\":{\"automargin\":true,\"gridcolor\":\"white\",\"linecolor\":\"white\",\"ticks\":\"\",\"title\":{\"standoff\":15},\"zerolinecolor\":\"white\",\"zerolinewidth\":2}}},\"title\":{\"text\":\"Historical Bitcoin Volume (USD) (2015-2018) with the slider\"},\"xaxis\":{\"rangeselector\":{\"buttons\":[{\"count\":1,\"label\":\"1m\",\"step\":\"month\",\"stepmode\":\"backward\"},{\"count\":6,\"label\":\"6m\",\"step\":\"month\",\"stepmode\":\"backward\"},{\"count\":12,\"label\":\"1y\",\"step\":\"month\",\"stepmode\":\"backward\"},{\"count\":36,\"label\":\"3y\",\"step\":\"month\",\"stepmode\":\"backward\"},{\"step\":\"all\"}]},\"rangeslider\":{\"visible\":true},\"type\":\"date\"}},                        {\"responsive\": true}                    ).then(function(){\n",
       "                            \n",
       "var gd = document.getElementById('ee323c8e-1241-490e-a1dd-9b5a674926e1');\n",
       "var x = new MutationObserver(function (mutations, observer) {{\n",
       "        var display = window.getComputedStyle(gd).display;\n",
       "        if (!display || display === 'none') {{\n",
       "            console.log([gd, 'removed!']);\n",
       "            Plotly.purge(gd);\n",
       "            observer.disconnect();\n",
       "        }}\n",
       "}});\n",
       "\n",
       "// Listen for the removal of the full notebook cells\n",
       "var notebookContainer = gd.closest('#notebook-container');\n",
       "if (notebookContainer) {{\n",
       "    x.observe(notebookContainer, {childList: true});\n",
       "}}\n",
       "\n",
       "// Listen for the clearing of the current output cell\n",
       "var outputEl = gd.closest('.output');\n",
       "if (outputEl) {{\n",
       "    x.observe(outputEl, {childList: true});\n",
       "}}\n",
       "\n",
       "                        })                };                });            </script>        </div>"
      ]
     },
     "metadata": {},
     "output_type": "display_data"
    }
   ],
   "source": [
    "trace1 = go.Scatter(x = weekly_rows['Timestamp'],y = weekly_rows['Volume_(Currency)'].astype(float),mode = 'lines',\n",
    "                    name = 'Bitcoin Price (Open)')\n",
    "\n",
    "layout = dict(title='Historical Bitcoin Volume (USD) (2015-2018) with the slider', xaxis=dict(rangeselector=dict(buttons=list([\n",
    "                dict(count=1,label='1m', step='month',stepmode='backward'),\n",
    "                dict(count=6,label='6m', step='month',stepmode='backward'),\n",
    "                dict(count=12,label='1y',step='month',stepmode='backward'),\n",
    "                dict(count=36,label='3y',step='month',stepmode='backward'),\n",
    "                dict(step='all')])), rangeslider=dict(visible = True), type='date'))\n",
    "\n",
    "data = [trace1]\n",
    "fig = dict(data=data, layout=layout)\n",
    "iplot(fig, filename = \"Time Series with Rangeslider\")"
   ]
  },
  {
   "cell_type": "code",
   "execution_count": 13,
   "id": "c3de0a43",
   "metadata": {},
   "outputs": [
    {
     "data": {
      "application/vnd.plotly.v1+json": {
       "config": {
        "linkText": "Export to plot.ly",
        "plotlyServerURL": "https://plot.ly",
        "showLink": false
       },
       "data": [
        {
         "marker": {
          "color": "#FFBAD2",
          "line": {
           "width": 1
          }
         },
         "mode": "markers",
         "type": "scattergl",
         "x": [
          360,
          260,
          0,
          274.73,
          0,
          221.38630383,
          234.36768721,
          239.48458448,
          277.20456873,
          290.20991658,
          292.34253968,
          267.5496748,
          248.53,
          257.56973842,
          227.00990436,
          224.89459562,
          227.46721946,
          238.81,
          242.54081848,
          233.81520284,
          237.42134738,
          223.41124468,
          229.29422061,
          237.19527186,
          0,
          256.56968861,
          272.80535561,
          291.62799756,
          278.30686827,
          0,
          281.50327206,
          264.94980091,
          258.34573097,
          212.23,
          230.86061816,
          241.39,
          231.42429134,
          227.1844748,
          239.24227299,
          240.43713777,
          247.15,
          0,
          287.1,
          365.17496736,
          379.38697034,
          332.81049999,
          323.01,
          376.90848168,
          394.7225,
          444.04925511,
          436.81971848,
          421.93164664,
          433.84,
          449.25553185,
          384.73240707,
          391.34940930000005,
          371.33,
          0,
          398.63918572,
          437.48655303,
          436.43609031,
          412.33776078,
          415.11401193,
          411.99893707,
          422.16072022,
          419.5,
          423.27,
          429.44298041,
          468.9,
          446.42716862,
          463.60552875,
          456.24618502,
          444.96855383,
          533.26189735,
          584.5201481,
          704.6,
          730.3628747,
          651.49241408,
          678.53104627,
          649.88002659,
          675.86498393,
          657.54297835,
          607.39174956,
          592.02554618,
          568.75421919,
          584.87842703,
          573.39155526,
          608.98207121,
          607.27628894,
          609.41434748,
          606.35839199,
          612.80733052,
          618.08573552,
          637.52913592,
          649.059405,
          697.03500639,
          706.31447605,
          708.47135602,
          736.22780795,
          729.86754803,
          752.00288938,
          779.07443316,
          791.28412697,
          902.09970176,
          1011.3156544,
          902.65503053,
          0,
          910.74890644,
          923.2321910000001,
          0,
          1001.8095727,
          1089.8080246,
          1195.9399719,
          1284.99,
          1245.7940572,
          1046.940815,
          1037.6927536,
          1154.3562782,
          1209.4156968,
          1191.8354021,
          1259.7645178,
          1452.6444929000002,
          1685.6342485,
          1759.5109587000002,
          1996.2348379999999,
          2281.1828356,
          2678.9636126,
          2630.3737885,
          2583.0107445999997,
          2415.4098871,
          2554.1403531,
          2333.4532031999997,
          2205.0524315000002,
          2761.564009,
          2853.8812409,
          3395.6615776,
          4256.9873802,
          4011.006693,
          4371.04234,
          4496.8370202,
          4221.381912,
          4070.2065305,
          3923.9572721,
          4368.065430600001,
          4739.997487899999,
          5716.9015082,
          5872.510323699999,
          6126.437937899999,
          6973.5506356999995,
          6539.1321397,
          8256.239981,
          9768.9000513,
          11656.248527,
          16885.660255000003,
          19039.007219,
          14171.987616,
          13482.046031999998,
          14975.389947999998,
          13620.149331999999,
          10779.939584,
          11114.146563,
          6925.4633677,
          8877.2809514,
          11139.999695999999,
          10304.749367,
          11370.72568,
          9116.6012615,
          8570.0382204,
          8179.9975235,
          7028.8406199,
          6694.8494631,
          8020.0073318,
          8928.7110527,
          9181.847840299999,
          9310.0085795,
          8619.9696465,
          8396.9976483,
          7133.7872263,
          7498.6954624,
          6789.9886404,
          6704.1999973,
          6235.495161399999,
          6626.2196502,
          6698.275209,
          6670.447772300001,
          7720.5609897,
          8166.2484757,
          6876.4735104,
          6260.786286500001,
          6284.4663823,
          6754.6034501,
          7252.3190614,
          6287.2876533,
          6247.1783791,
          6595.1180649,
          6562.499529600001,
          6598.512146,
          6430.5095151000005,
          6405.1726213,
          6265.0581976,
          6404.840182600001
         ],
         "y": [
          0.01,
          1,
          0,
          0.2428,
          0,
          0.7584,
          10.7312,
          2.02,
          7.584,
          3.0210000000000004,
          3.15,
          3.69,
          0.4214,
          0.4422,
          12.751959,
          7.3546,
          2.5302,
          1.0292,
          50.040002,
          7.6031,
          1.0205,
          0.8273,
          13.1415,
          0.7987,
          0,
          21.2205,
          3.8515,
          1.1476,
          1.0218,
          0,
          1.2784,
          2.0091,
          2.2087,
          24.4005,
          1.7099,
          0.3197,
          5.6078,
          1.1272,
          17.5653,
          6.6857,
          0.6625,
          0,
          0.5362,
          2.31472723,
          3.75419679,
          2.3922,
          1.8042,
          0.382,
          0.08,
          0.2497,
          3.6623,
          17.3116,
          0.2076,
          1.6358,
          2.4739,
          12.29216,
          0.38047,
          0,
          48.08222267,
          1.6137700000000001,
          6.49202,
          6.0743599999999995,
          1.90451,
          7.70021,
          2.5525599999999997,
          1.35307,
          0.7719199999999999,
          0.51825,
          15.49468889,
          1.8651,
          5.748819999999999,
          0.3924,
          1.30386,
          1.1098700000000001,
          0.77918,
          0.03,
          37.52873475,
          2.48433,
          3.06489,
          23.87059228,
          6.0986199999999995,
          8.66551806,
          7.08332,
          2.42620907,
          4.1686748,
          5.57853044,
          0.375363,
          1.80899,
          7.1469,
          4.81435232,
          15.15955,
          0.45919,
          0.36130999999999996,
          3.1027299999999998,
          1.6485599999999998,
          3.72483437,
          0.18023,
          4.80185,
          2.13846531,
          0.80413,
          6.54419335,
          2.31221,
          2.3682,
          2.64955,
          10,
          5.93888,
          0,
          33.64322958,
          0.51299953,
          0,
          2.1387,
          2.41268109,
          1.60226294,
          3.6855,
          1.5558,
          8.0861172,
          4.34664849,
          17.16376343,
          5.620341900000001,
          1.67422462,
          1.7253,
          3.04566945,
          14.14245489,
          5.45346354,
          168.49728188,
          11.93578654,
          11.26232777,
          26.05012156,
          23.07638843,
          12.96811467,
          18.41743722,
          24.24280833,
          97.20659039,
          10.03536151,
          4.300764,
          6.46569555,
          3.57731213,
          6.82758018,
          2.21289193,
          13.66987299,
          2.31433784,
          24.27276767,
          5.90837015,
          8.73069737,
          7.51648643,
          3.68207635,
          14.9520696,
          5.38700169,
          49.16719018,
          15.918665599999999,
          19.74914469,
          39.60233845,
          44.93038631,
          17.06461545,
          10.76861219,
          2.26138408,
          3.54266202,
          11.32070373,
          32.2732269,
          25.23852506,
          9.71611124,
          48.67176485,
          8.27755268,
          1.75609222,
          18.298561399999997,
          89.51421691,
          9.07228902,
          22.40234643,
          6.06479441,
          5.09336936,
          6.2885636,
          99.09290113,
          15.73553556,
          8.36429827,
          1.82887929,
          64.25766153,
          0.55534503,
          17.71821045,
          1.76518341,
          2.58233231,
          3.74928799,
          1.38885255,
          2.42774472,
          6.46096698,
          2.03489306,
          17.60834447,
          14.96826018,
          2.50701676,
          6.04304379,
          72.01519091,
          8.22240875,
          61.18796236,
          2.6164812,
          0.96483582,
          6.5625108999999995,
          13.51020497,
          4.34531774,
          6.36193575,
          6.39264509,
          2.86587259,
          3.96265116
         ]
        }
       ],
       "layout": {
        "template": {
         "data": {
          "bar": [
           {
            "error_x": {
             "color": "#2a3f5f"
            },
            "error_y": {
             "color": "#2a3f5f"
            },
            "marker": {
             "line": {
              "color": "#E5ECF6",
              "width": 0.5
             },
             "pattern": {
              "fillmode": "overlay",
              "size": 10,
              "solidity": 0.2
             }
            },
            "type": "bar"
           }
          ],
          "barpolar": [
           {
            "marker": {
             "line": {
              "color": "#E5ECF6",
              "width": 0.5
             },
             "pattern": {
              "fillmode": "overlay",
              "size": 10,
              "solidity": 0.2
             }
            },
            "type": "barpolar"
           }
          ],
          "carpet": [
           {
            "aaxis": {
             "endlinecolor": "#2a3f5f",
             "gridcolor": "white",
             "linecolor": "white",
             "minorgridcolor": "white",
             "startlinecolor": "#2a3f5f"
            },
            "baxis": {
             "endlinecolor": "#2a3f5f",
             "gridcolor": "white",
             "linecolor": "white",
             "minorgridcolor": "white",
             "startlinecolor": "#2a3f5f"
            },
            "type": "carpet"
           }
          ],
          "choropleth": [
           {
            "colorbar": {
             "outlinewidth": 0,
             "ticks": ""
            },
            "type": "choropleth"
           }
          ],
          "contour": [
           {
            "colorbar": {
             "outlinewidth": 0,
             "ticks": ""
            },
            "colorscale": [
             [
              0,
              "#0d0887"
             ],
             [
              0.1111111111111111,
              "#46039f"
             ],
             [
              0.2222222222222222,
              "#7201a8"
             ],
             [
              0.3333333333333333,
              "#9c179e"
             ],
             [
              0.4444444444444444,
              "#bd3786"
             ],
             [
              0.5555555555555556,
              "#d8576b"
             ],
             [
              0.6666666666666666,
              "#ed7953"
             ],
             [
              0.7777777777777778,
              "#fb9f3a"
             ],
             [
              0.8888888888888888,
              "#fdca26"
             ],
             [
              1,
              "#f0f921"
             ]
            ],
            "type": "contour"
           }
          ],
          "contourcarpet": [
           {
            "colorbar": {
             "outlinewidth": 0,
             "ticks": ""
            },
            "type": "contourcarpet"
           }
          ],
          "heatmap": [
           {
            "colorbar": {
             "outlinewidth": 0,
             "ticks": ""
            },
            "colorscale": [
             [
              0,
              "#0d0887"
             ],
             [
              0.1111111111111111,
              "#46039f"
             ],
             [
              0.2222222222222222,
              "#7201a8"
             ],
             [
              0.3333333333333333,
              "#9c179e"
             ],
             [
              0.4444444444444444,
              "#bd3786"
             ],
             [
              0.5555555555555556,
              "#d8576b"
             ],
             [
              0.6666666666666666,
              "#ed7953"
             ],
             [
              0.7777777777777778,
              "#fb9f3a"
             ],
             [
              0.8888888888888888,
              "#fdca26"
             ],
             [
              1,
              "#f0f921"
             ]
            ],
            "type": "heatmap"
           }
          ],
          "heatmapgl": [
           {
            "colorbar": {
             "outlinewidth": 0,
             "ticks": ""
            },
            "colorscale": [
             [
              0,
              "#0d0887"
             ],
             [
              0.1111111111111111,
              "#46039f"
             ],
             [
              0.2222222222222222,
              "#7201a8"
             ],
             [
              0.3333333333333333,
              "#9c179e"
             ],
             [
              0.4444444444444444,
              "#bd3786"
             ],
             [
              0.5555555555555556,
              "#d8576b"
             ],
             [
              0.6666666666666666,
              "#ed7953"
             ],
             [
              0.7777777777777778,
              "#fb9f3a"
             ],
             [
              0.8888888888888888,
              "#fdca26"
             ],
             [
              1,
              "#f0f921"
             ]
            ],
            "type": "heatmapgl"
           }
          ],
          "histogram": [
           {
            "marker": {
             "pattern": {
              "fillmode": "overlay",
              "size": 10,
              "solidity": 0.2
             }
            },
            "type": "histogram"
           }
          ],
          "histogram2d": [
           {
            "colorbar": {
             "outlinewidth": 0,
             "ticks": ""
            },
            "colorscale": [
             [
              0,
              "#0d0887"
             ],
             [
              0.1111111111111111,
              "#46039f"
             ],
             [
              0.2222222222222222,
              "#7201a8"
             ],
             [
              0.3333333333333333,
              "#9c179e"
             ],
             [
              0.4444444444444444,
              "#bd3786"
             ],
             [
              0.5555555555555556,
              "#d8576b"
             ],
             [
              0.6666666666666666,
              "#ed7953"
             ],
             [
              0.7777777777777778,
              "#fb9f3a"
             ],
             [
              0.8888888888888888,
              "#fdca26"
             ],
             [
              1,
              "#f0f921"
             ]
            ],
            "type": "histogram2d"
           }
          ],
          "histogram2dcontour": [
           {
            "colorbar": {
             "outlinewidth": 0,
             "ticks": ""
            },
            "colorscale": [
             [
              0,
              "#0d0887"
             ],
             [
              0.1111111111111111,
              "#46039f"
             ],
             [
              0.2222222222222222,
              "#7201a8"
             ],
             [
              0.3333333333333333,
              "#9c179e"
             ],
             [
              0.4444444444444444,
              "#bd3786"
             ],
             [
              0.5555555555555556,
              "#d8576b"
             ],
             [
              0.6666666666666666,
              "#ed7953"
             ],
             [
              0.7777777777777778,
              "#fb9f3a"
             ],
             [
              0.8888888888888888,
              "#fdca26"
             ],
             [
              1,
              "#f0f921"
             ]
            ],
            "type": "histogram2dcontour"
           }
          ],
          "mesh3d": [
           {
            "colorbar": {
             "outlinewidth": 0,
             "ticks": ""
            },
            "type": "mesh3d"
           }
          ],
          "parcoords": [
           {
            "line": {
             "colorbar": {
              "outlinewidth": 0,
              "ticks": ""
             }
            },
            "type": "parcoords"
           }
          ],
          "pie": [
           {
            "automargin": true,
            "type": "pie"
           }
          ],
          "scatter": [
           {
            "marker": {
             "colorbar": {
              "outlinewidth": 0,
              "ticks": ""
             }
            },
            "type": "scatter"
           }
          ],
          "scatter3d": [
           {
            "line": {
             "colorbar": {
              "outlinewidth": 0,
              "ticks": ""
             }
            },
            "marker": {
             "colorbar": {
              "outlinewidth": 0,
              "ticks": ""
             }
            },
            "type": "scatter3d"
           }
          ],
          "scattercarpet": [
           {
            "marker": {
             "colorbar": {
              "outlinewidth": 0,
              "ticks": ""
             }
            },
            "type": "scattercarpet"
           }
          ],
          "scattergeo": [
           {
            "marker": {
             "colorbar": {
              "outlinewidth": 0,
              "ticks": ""
             }
            },
            "type": "scattergeo"
           }
          ],
          "scattergl": [
           {
            "marker": {
             "colorbar": {
              "outlinewidth": 0,
              "ticks": ""
             }
            },
            "type": "scattergl"
           }
          ],
          "scattermapbox": [
           {
            "marker": {
             "colorbar": {
              "outlinewidth": 0,
              "ticks": ""
             }
            },
            "type": "scattermapbox"
           }
          ],
          "scatterpolar": [
           {
            "marker": {
             "colorbar": {
              "outlinewidth": 0,
              "ticks": ""
             }
            },
            "type": "scatterpolar"
           }
          ],
          "scatterpolargl": [
           {
            "marker": {
             "colorbar": {
              "outlinewidth": 0,
              "ticks": ""
             }
            },
            "type": "scatterpolargl"
           }
          ],
          "scatterternary": [
           {
            "marker": {
             "colorbar": {
              "outlinewidth": 0,
              "ticks": ""
             }
            },
            "type": "scatterternary"
           }
          ],
          "surface": [
           {
            "colorbar": {
             "outlinewidth": 0,
             "ticks": ""
            },
            "colorscale": [
             [
              0,
              "#0d0887"
             ],
             [
              0.1111111111111111,
              "#46039f"
             ],
             [
              0.2222222222222222,
              "#7201a8"
             ],
             [
              0.3333333333333333,
              "#9c179e"
             ],
             [
              0.4444444444444444,
              "#bd3786"
             ],
             [
              0.5555555555555556,
              "#d8576b"
             ],
             [
              0.6666666666666666,
              "#ed7953"
             ],
             [
              0.7777777777777778,
              "#fb9f3a"
             ],
             [
              0.8888888888888888,
              "#fdca26"
             ],
             [
              1,
              "#f0f921"
             ]
            ],
            "type": "surface"
           }
          ],
          "table": [
           {
            "cells": {
             "fill": {
              "color": "#EBF0F8"
             },
             "line": {
              "color": "white"
             }
            },
            "header": {
             "fill": {
              "color": "#C8D4E3"
             },
             "line": {
              "color": "white"
             }
            },
            "type": "table"
           }
          ]
         },
         "layout": {
          "annotationdefaults": {
           "arrowcolor": "#2a3f5f",
           "arrowhead": 0,
           "arrowwidth": 1
          },
          "autotypenumbers": "strict",
          "coloraxis": {
           "colorbar": {
            "outlinewidth": 0,
            "ticks": ""
           }
          },
          "colorscale": {
           "diverging": [
            [
             0,
             "#8e0152"
            ],
            [
             0.1,
             "#c51b7d"
            ],
            [
             0.2,
             "#de77ae"
            ],
            [
             0.3,
             "#f1b6da"
            ],
            [
             0.4,
             "#fde0ef"
            ],
            [
             0.5,
             "#f7f7f7"
            ],
            [
             0.6,
             "#e6f5d0"
            ],
            [
             0.7,
             "#b8e186"
            ],
            [
             0.8,
             "#7fbc41"
            ],
            [
             0.9,
             "#4d9221"
            ],
            [
             1,
             "#276419"
            ]
           ],
           "sequential": [
            [
             0,
             "#0d0887"
            ],
            [
             0.1111111111111111,
             "#46039f"
            ],
            [
             0.2222222222222222,
             "#7201a8"
            ],
            [
             0.3333333333333333,
             "#9c179e"
            ],
            [
             0.4444444444444444,
             "#bd3786"
            ],
            [
             0.5555555555555556,
             "#d8576b"
            ],
            [
             0.6666666666666666,
             "#ed7953"
            ],
            [
             0.7777777777777778,
             "#fb9f3a"
            ],
            [
             0.8888888888888888,
             "#fdca26"
            ],
            [
             1,
             "#f0f921"
            ]
           ],
           "sequentialminus": [
            [
             0,
             "#0d0887"
            ],
            [
             0.1111111111111111,
             "#46039f"
            ],
            [
             0.2222222222222222,
             "#7201a8"
            ],
            [
             0.3333333333333333,
             "#9c179e"
            ],
            [
             0.4444444444444444,
             "#bd3786"
            ],
            [
             0.5555555555555556,
             "#d8576b"
            ],
            [
             0.6666666666666666,
             "#ed7953"
            ],
            [
             0.7777777777777778,
             "#fb9f3a"
            ],
            [
             0.8888888888888888,
             "#fdca26"
            ],
            [
             1,
             "#f0f921"
            ]
           ]
          },
          "colorway": [
           "#636efa",
           "#EF553B",
           "#00cc96",
           "#ab63fa",
           "#FFA15A",
           "#19d3f3",
           "#FF6692",
           "#B6E880",
           "#FF97FF",
           "#FECB52"
          ],
          "font": {
           "color": "#2a3f5f"
          },
          "geo": {
           "bgcolor": "white",
           "lakecolor": "white",
           "landcolor": "#E5ECF6",
           "showlakes": true,
           "showland": true,
           "subunitcolor": "white"
          },
          "hoverlabel": {
           "align": "left"
          },
          "hovermode": "closest",
          "mapbox": {
           "style": "light"
          },
          "paper_bgcolor": "white",
          "plot_bgcolor": "#E5ECF6",
          "polar": {
           "angularaxis": {
            "gridcolor": "white",
            "linecolor": "white",
            "ticks": ""
           },
           "bgcolor": "#E5ECF6",
           "radialaxis": {
            "gridcolor": "white",
            "linecolor": "white",
            "ticks": ""
           }
          },
          "scene": {
           "xaxis": {
            "backgroundcolor": "#E5ECF6",
            "gridcolor": "white",
            "gridwidth": 2,
            "linecolor": "white",
            "showbackground": true,
            "ticks": "",
            "zerolinecolor": "white"
           },
           "yaxis": {
            "backgroundcolor": "#E5ECF6",
            "gridcolor": "white",
            "gridwidth": 2,
            "linecolor": "white",
            "showbackground": true,
            "ticks": "",
            "zerolinecolor": "white"
           },
           "zaxis": {
            "backgroundcolor": "#E5ECF6",
            "gridcolor": "white",
            "gridwidth": 2,
            "linecolor": "white",
            "showbackground": true,
            "ticks": "",
            "zerolinecolor": "white"
           }
          },
          "shapedefaults": {
           "line": {
            "color": "#2a3f5f"
           }
          },
          "ternary": {
           "aaxis": {
            "gridcolor": "white",
            "linecolor": "white",
            "ticks": ""
           },
           "baxis": {
            "gridcolor": "white",
            "linecolor": "white",
            "ticks": ""
           },
           "bgcolor": "#E5ECF6",
           "caxis": {
            "gridcolor": "white",
            "linecolor": "white",
            "ticks": ""
           }
          },
          "title": {
           "x": 0.05
          },
          "xaxis": {
           "automargin": true,
           "gridcolor": "white",
           "linecolor": "white",
           "ticks": "",
           "title": {
            "standoff": 15
           },
           "zerolinecolor": "white",
           "zerolinewidth": 2
          },
          "yaxis": {
           "automargin": true,
           "gridcolor": "white",
           "linecolor": "white",
           "ticks": "",
           "title": {
            "standoff": 15
           },
           "zerolinecolor": "white",
           "zerolinewidth": 2
          }
         }
        },
        "title": {
         "text": "BTC Volume v/s USD"
        },
        "xaxis": {
         "title": {
          "font": {
           "color": "#7f7f7f",
           "family": "Courier New, monospace",
           "size": 18
          },
          "text": "Weighted Price"
         }
        },
        "yaxis": {
         "title": {
          "font": {
           "color": "#7f7f7f",
           "family": "Courier New, monospace",
           "size": 18
          },
          "text": "Volume BTC"
         }
        }
       }
      },
      "text/html": [
       "<div>                            <div id=\"c6f6e122-516f-4d79-ab8d-272c99b8fc76\" class=\"plotly-graph-div\" style=\"height:525px; width:100%;\"></div>            <script type=\"text/javascript\">                require([\"plotly\"], function(Plotly) {                    window.PLOTLYENV=window.PLOTLYENV || {};                                    if (document.getElementById(\"c6f6e122-516f-4d79-ab8d-272c99b8fc76\")) {                    Plotly.newPlot(                        \"c6f6e122-516f-4d79-ab8d-272c99b8fc76\",                        [{\"marker\":{\"color\":\"#FFBAD2\",\"line\":{\"width\":1}},\"mode\":\"markers\",\"type\":\"scattergl\",\"x\":[360.0,260.0,0.0,274.73,0.0,221.38630383,234.36768721,239.48458448,277.20456873,290.20991658,292.34253968,267.5496748,248.53,257.56973842,227.00990436,224.89459562,227.46721946,238.81,242.54081848,233.81520284,237.42134738,223.41124468,229.29422061,237.19527186,0.0,256.56968861,272.80535561,291.62799756,278.30686827,0.0,281.50327206,264.94980091,258.34573097,212.23,230.86061816,241.39,231.42429134,227.1844748,239.24227299,240.43713777,247.15,0.0,287.1,365.17496736,379.38697034,332.81049999,323.01,376.90848168,394.7225,444.04925511,436.81971848,421.93164664,433.84,449.25553185,384.73240707,391.34940930000005,371.33,0.0,398.63918572,437.48655303,436.43609031,412.33776078,415.11401193,411.99893707,422.16072022,419.5,423.27,429.44298041,468.9,446.42716862,463.60552875,456.24618502,444.96855383,533.26189735,584.5201481,704.6,730.3628747,651.49241408,678.53104627,649.88002659,675.86498393,657.54297835,607.39174956,592.02554618,568.75421919,584.87842703,573.39155526,608.98207121,607.27628894,609.41434748,606.35839199,612.80733052,618.08573552,637.52913592,649.059405,697.03500639,706.31447605,708.47135602,736.22780795,729.86754803,752.00288938,779.07443316,791.28412697,902.09970176,1011.3156544,902.65503053,0.0,910.74890644,923.2321910000001,0.0,1001.8095727,1089.8080246,1195.9399719,1284.99,1245.7940572,1046.940815,1037.6927536,1154.3562782,1209.4156968,1191.8354021,1259.7645178,1452.6444929000002,1685.6342485,1759.5109587000002,1996.2348379999999,2281.1828356,2678.9636126,2630.3737885,2583.0107445999997,2415.4098871,2554.1403531,2333.4532031999997,2205.0524315000002,2761.564009,2853.8812409,3395.6615776,4256.9873802,4011.006693,4371.04234,4496.8370202,4221.381912,4070.2065305,3923.9572721,4368.065430600001,4739.997487899999,5716.9015082,5872.510323699999,6126.437937899999,6973.5506356999995,6539.1321397,8256.239981,9768.9000513,11656.248527,16885.660255000003,19039.007219,14171.987616,13482.046031999998,14975.389947999998,13620.149331999999,10779.939584,11114.146563,6925.4633677,8877.2809514,11139.999695999999,10304.749367,11370.72568,9116.6012615,8570.0382204,8179.9975235,7028.8406199,6694.8494631,8020.0073318,8928.7110527,9181.847840299999,9310.0085795,8619.9696465,8396.9976483,7133.7872263,7498.6954624,6789.9886404,6704.1999973,6235.495161399999,6626.2196502,6698.275209,6670.447772300001,7720.5609897,8166.2484757,6876.4735104,6260.786286500001,6284.4663823,6754.6034501,7252.3190614,6287.2876533,6247.1783791,6595.1180649,6562.499529600001,6598.512146,6430.5095151000005,6405.1726213,6265.0581976,6404.840182600001],\"y\":[0.01,1.0,0.0,0.2428,0.0,0.7584,10.7312,2.02,7.584,3.0210000000000004,3.15,3.69,0.4214,0.4422,12.751959,7.3546,2.5302,1.0292,50.040002,7.6031,1.0205,0.8273,13.1415,0.7987,0.0,21.2205,3.8515,1.1476,1.0218,0.0,1.2784,2.0091,2.2087,24.4005,1.7099,0.3197,5.6078,1.1272,17.5653,6.6857,0.6625,0.0,0.5362,2.31472723,3.75419679,2.3922,1.8042,0.382,0.08,0.2497,3.6623,17.3116,0.2076,1.6358,2.4739,12.29216,0.38047,0.0,48.08222267,1.6137700000000001,6.49202,6.0743599999999995,1.90451,7.70021,2.5525599999999997,1.35307,0.7719199999999999,0.51825,15.49468889,1.8651,5.748819999999999,0.3924,1.30386,1.1098700000000001,0.77918,0.03,37.52873475,2.48433,3.06489,23.87059228,6.0986199999999995,8.66551806,7.08332,2.42620907,4.1686748,5.57853044,0.375363,1.80899,7.1469,4.81435232,15.15955,0.45919,0.36130999999999996,3.1027299999999998,1.6485599999999998,3.72483437,0.18023,4.80185,2.13846531,0.80413,6.54419335,2.31221,2.3682,2.64955,10.0,5.93888,0.0,33.64322958,0.51299953,0.0,2.1387,2.41268109,1.60226294,3.6855,1.5558,8.0861172,4.34664849,17.16376343,5.620341900000001,1.67422462,1.7253,3.04566945,14.14245489,5.45346354,168.49728188,11.93578654,11.26232777,26.05012156,23.07638843,12.96811467,18.41743722,24.24280833,97.20659039,10.03536151,4.300764,6.46569555,3.57731213,6.82758018,2.21289193,13.66987299,2.31433784,24.27276767,5.90837015,8.73069737,7.51648643,3.68207635,14.9520696,5.38700169,49.16719018,15.918665599999999,19.74914469,39.60233845,44.93038631,17.06461545,10.76861219,2.26138408,3.54266202,11.32070373,32.2732269,25.23852506,9.71611124,48.67176485,8.27755268,1.75609222,18.298561399999997,89.51421691,9.07228902,22.40234643,6.06479441,5.09336936,6.2885636,99.09290113,15.73553556,8.36429827,1.82887929,64.25766153,0.55534503,17.71821045,1.76518341,2.58233231,3.74928799,1.38885255,2.42774472,6.46096698,2.03489306,17.60834447,14.96826018,2.50701676,6.04304379,72.01519091,8.22240875,61.18796236,2.6164812,0.96483582,6.5625108999999995,13.51020497,4.34531774,6.36193575,6.39264509,2.86587259,3.96265116]}],                        {\"template\":{\"data\":{\"bar\":[{\"error_x\":{\"color\":\"#2a3f5f\"},\"error_y\":{\"color\":\"#2a3f5f\"},\"marker\":{\"line\":{\"color\":\"#E5ECF6\",\"width\":0.5},\"pattern\":{\"fillmode\":\"overlay\",\"size\":10,\"solidity\":0.2}},\"type\":\"bar\"}],\"barpolar\":[{\"marker\":{\"line\":{\"color\":\"#E5ECF6\",\"width\":0.5},\"pattern\":{\"fillmode\":\"overlay\",\"size\":10,\"solidity\":0.2}},\"type\":\"barpolar\"}],\"carpet\":[{\"aaxis\":{\"endlinecolor\":\"#2a3f5f\",\"gridcolor\":\"white\",\"linecolor\":\"white\",\"minorgridcolor\":\"white\",\"startlinecolor\":\"#2a3f5f\"},\"baxis\":{\"endlinecolor\":\"#2a3f5f\",\"gridcolor\":\"white\",\"linecolor\":\"white\",\"minorgridcolor\":\"white\",\"startlinecolor\":\"#2a3f5f\"},\"type\":\"carpet\"}],\"choropleth\":[{\"colorbar\":{\"outlinewidth\":0,\"ticks\":\"\"},\"type\":\"choropleth\"}],\"contour\":[{\"colorbar\":{\"outlinewidth\":0,\"ticks\":\"\"},\"colorscale\":[[0.0,\"#0d0887\"],[0.1111111111111111,\"#46039f\"],[0.2222222222222222,\"#7201a8\"],[0.3333333333333333,\"#9c179e\"],[0.4444444444444444,\"#bd3786\"],[0.5555555555555556,\"#d8576b\"],[0.6666666666666666,\"#ed7953\"],[0.7777777777777778,\"#fb9f3a\"],[0.8888888888888888,\"#fdca26\"],[1.0,\"#f0f921\"]],\"type\":\"contour\"}],\"contourcarpet\":[{\"colorbar\":{\"outlinewidth\":0,\"ticks\":\"\"},\"type\":\"contourcarpet\"}],\"heatmap\":[{\"colorbar\":{\"outlinewidth\":0,\"ticks\":\"\"},\"colorscale\":[[0.0,\"#0d0887\"],[0.1111111111111111,\"#46039f\"],[0.2222222222222222,\"#7201a8\"],[0.3333333333333333,\"#9c179e\"],[0.4444444444444444,\"#bd3786\"],[0.5555555555555556,\"#d8576b\"],[0.6666666666666666,\"#ed7953\"],[0.7777777777777778,\"#fb9f3a\"],[0.8888888888888888,\"#fdca26\"],[1.0,\"#f0f921\"]],\"type\":\"heatmap\"}],\"heatmapgl\":[{\"colorbar\":{\"outlinewidth\":0,\"ticks\":\"\"},\"colorscale\":[[0.0,\"#0d0887\"],[0.1111111111111111,\"#46039f\"],[0.2222222222222222,\"#7201a8\"],[0.3333333333333333,\"#9c179e\"],[0.4444444444444444,\"#bd3786\"],[0.5555555555555556,\"#d8576b\"],[0.6666666666666666,\"#ed7953\"],[0.7777777777777778,\"#fb9f3a\"],[0.8888888888888888,\"#fdca26\"],[1.0,\"#f0f921\"]],\"type\":\"heatmapgl\"}],\"histogram\":[{\"marker\":{\"pattern\":{\"fillmode\":\"overlay\",\"size\":10,\"solidity\":0.2}},\"type\":\"histogram\"}],\"histogram2d\":[{\"colorbar\":{\"outlinewidth\":0,\"ticks\":\"\"},\"colorscale\":[[0.0,\"#0d0887\"],[0.1111111111111111,\"#46039f\"],[0.2222222222222222,\"#7201a8\"],[0.3333333333333333,\"#9c179e\"],[0.4444444444444444,\"#bd3786\"],[0.5555555555555556,\"#d8576b\"],[0.6666666666666666,\"#ed7953\"],[0.7777777777777778,\"#fb9f3a\"],[0.8888888888888888,\"#fdca26\"],[1.0,\"#f0f921\"]],\"type\":\"histogram2d\"}],\"histogram2dcontour\":[{\"colorbar\":{\"outlinewidth\":0,\"ticks\":\"\"},\"colorscale\":[[0.0,\"#0d0887\"],[0.1111111111111111,\"#46039f\"],[0.2222222222222222,\"#7201a8\"],[0.3333333333333333,\"#9c179e\"],[0.4444444444444444,\"#bd3786\"],[0.5555555555555556,\"#d8576b\"],[0.6666666666666666,\"#ed7953\"],[0.7777777777777778,\"#fb9f3a\"],[0.8888888888888888,\"#fdca26\"],[1.0,\"#f0f921\"]],\"type\":\"histogram2dcontour\"}],\"mesh3d\":[{\"colorbar\":{\"outlinewidth\":0,\"ticks\":\"\"},\"type\":\"mesh3d\"}],\"parcoords\":[{\"line\":{\"colorbar\":{\"outlinewidth\":0,\"ticks\":\"\"}},\"type\":\"parcoords\"}],\"pie\":[{\"automargin\":true,\"type\":\"pie\"}],\"scatter\":[{\"marker\":{\"colorbar\":{\"outlinewidth\":0,\"ticks\":\"\"}},\"type\":\"scatter\"}],\"scatter3d\":[{\"line\":{\"colorbar\":{\"outlinewidth\":0,\"ticks\":\"\"}},\"marker\":{\"colorbar\":{\"outlinewidth\":0,\"ticks\":\"\"}},\"type\":\"scatter3d\"}],\"scattercarpet\":[{\"marker\":{\"colorbar\":{\"outlinewidth\":0,\"ticks\":\"\"}},\"type\":\"scattercarpet\"}],\"scattergeo\":[{\"marker\":{\"colorbar\":{\"outlinewidth\":0,\"ticks\":\"\"}},\"type\":\"scattergeo\"}],\"scattergl\":[{\"marker\":{\"colorbar\":{\"outlinewidth\":0,\"ticks\":\"\"}},\"type\":\"scattergl\"}],\"scattermapbox\":[{\"marker\":{\"colorbar\":{\"outlinewidth\":0,\"ticks\":\"\"}},\"type\":\"scattermapbox\"}],\"scatterpolar\":[{\"marker\":{\"colorbar\":{\"outlinewidth\":0,\"ticks\":\"\"}},\"type\":\"scatterpolar\"}],\"scatterpolargl\":[{\"marker\":{\"colorbar\":{\"outlinewidth\":0,\"ticks\":\"\"}},\"type\":\"scatterpolargl\"}],\"scatterternary\":[{\"marker\":{\"colorbar\":{\"outlinewidth\":0,\"ticks\":\"\"}},\"type\":\"scatterternary\"}],\"surface\":[{\"colorbar\":{\"outlinewidth\":0,\"ticks\":\"\"},\"colorscale\":[[0.0,\"#0d0887\"],[0.1111111111111111,\"#46039f\"],[0.2222222222222222,\"#7201a8\"],[0.3333333333333333,\"#9c179e\"],[0.4444444444444444,\"#bd3786\"],[0.5555555555555556,\"#d8576b\"],[0.6666666666666666,\"#ed7953\"],[0.7777777777777778,\"#fb9f3a\"],[0.8888888888888888,\"#fdca26\"],[1.0,\"#f0f921\"]],\"type\":\"surface\"}],\"table\":[{\"cells\":{\"fill\":{\"color\":\"#EBF0F8\"},\"line\":{\"color\":\"white\"}},\"header\":{\"fill\":{\"color\":\"#C8D4E3\"},\"line\":{\"color\":\"white\"}},\"type\":\"table\"}]},\"layout\":{\"annotationdefaults\":{\"arrowcolor\":\"#2a3f5f\",\"arrowhead\":0,\"arrowwidth\":1},\"autotypenumbers\":\"strict\",\"coloraxis\":{\"colorbar\":{\"outlinewidth\":0,\"ticks\":\"\"}},\"colorscale\":{\"diverging\":[[0,\"#8e0152\"],[0.1,\"#c51b7d\"],[0.2,\"#de77ae\"],[0.3,\"#f1b6da\"],[0.4,\"#fde0ef\"],[0.5,\"#f7f7f7\"],[0.6,\"#e6f5d0\"],[0.7,\"#b8e186\"],[0.8,\"#7fbc41\"],[0.9,\"#4d9221\"],[1,\"#276419\"]],\"sequential\":[[0.0,\"#0d0887\"],[0.1111111111111111,\"#46039f\"],[0.2222222222222222,\"#7201a8\"],[0.3333333333333333,\"#9c179e\"],[0.4444444444444444,\"#bd3786\"],[0.5555555555555556,\"#d8576b\"],[0.6666666666666666,\"#ed7953\"],[0.7777777777777778,\"#fb9f3a\"],[0.8888888888888888,\"#fdca26\"],[1.0,\"#f0f921\"]],\"sequentialminus\":[[0.0,\"#0d0887\"],[0.1111111111111111,\"#46039f\"],[0.2222222222222222,\"#7201a8\"],[0.3333333333333333,\"#9c179e\"],[0.4444444444444444,\"#bd3786\"],[0.5555555555555556,\"#d8576b\"],[0.6666666666666666,\"#ed7953\"],[0.7777777777777778,\"#fb9f3a\"],[0.8888888888888888,\"#fdca26\"],[1.0,\"#f0f921\"]]},\"colorway\":[\"#636efa\",\"#EF553B\",\"#00cc96\",\"#ab63fa\",\"#FFA15A\",\"#19d3f3\",\"#FF6692\",\"#B6E880\",\"#FF97FF\",\"#FECB52\"],\"font\":{\"color\":\"#2a3f5f\"},\"geo\":{\"bgcolor\":\"white\",\"lakecolor\":\"white\",\"landcolor\":\"#E5ECF6\",\"showlakes\":true,\"showland\":true,\"subunitcolor\":\"white\"},\"hoverlabel\":{\"align\":\"left\"},\"hovermode\":\"closest\",\"mapbox\":{\"style\":\"light\"},\"paper_bgcolor\":\"white\",\"plot_bgcolor\":\"#E5ECF6\",\"polar\":{\"angularaxis\":{\"gridcolor\":\"white\",\"linecolor\":\"white\",\"ticks\":\"\"},\"bgcolor\":\"#E5ECF6\",\"radialaxis\":{\"gridcolor\":\"white\",\"linecolor\":\"white\",\"ticks\":\"\"}},\"scene\":{\"xaxis\":{\"backgroundcolor\":\"#E5ECF6\",\"gridcolor\":\"white\",\"gridwidth\":2,\"linecolor\":\"white\",\"showbackground\":true,\"ticks\":\"\",\"zerolinecolor\":\"white\"},\"yaxis\":{\"backgroundcolor\":\"#E5ECF6\",\"gridcolor\":\"white\",\"gridwidth\":2,\"linecolor\":\"white\",\"showbackground\":true,\"ticks\":\"\",\"zerolinecolor\":\"white\"},\"zaxis\":{\"backgroundcolor\":\"#E5ECF6\",\"gridcolor\":\"white\",\"gridwidth\":2,\"linecolor\":\"white\",\"showbackground\":true,\"ticks\":\"\",\"zerolinecolor\":\"white\"}},\"shapedefaults\":{\"line\":{\"color\":\"#2a3f5f\"}},\"ternary\":{\"aaxis\":{\"gridcolor\":\"white\",\"linecolor\":\"white\",\"ticks\":\"\"},\"baxis\":{\"gridcolor\":\"white\",\"linecolor\":\"white\",\"ticks\":\"\"},\"bgcolor\":\"#E5ECF6\",\"caxis\":{\"gridcolor\":\"white\",\"linecolor\":\"white\",\"ticks\":\"\"}},\"title\":{\"x\":0.05},\"xaxis\":{\"automargin\":true,\"gridcolor\":\"white\",\"linecolor\":\"white\",\"ticks\":\"\",\"title\":{\"standoff\":15},\"zerolinecolor\":\"white\",\"zerolinewidth\":2},\"yaxis\":{\"automargin\":true,\"gridcolor\":\"white\",\"linecolor\":\"white\",\"ticks\":\"\",\"title\":{\"standoff\":15},\"zerolinecolor\":\"white\",\"zerolinewidth\":2}}},\"title\":{\"text\":\"BTC Volume v/s USD\"},\"xaxis\":{\"title\":{\"font\":{\"color\":\"#7f7f7f\",\"family\":\"Courier New, monospace\",\"size\":18},\"text\":\"Weighted Price\"}},\"yaxis\":{\"title\":{\"font\":{\"color\":\"#7f7f7f\",\"family\":\"Courier New, monospace\",\"size\":18},\"text\":\"Volume BTC\"}}},                        {\"responsive\": true}                    ).then(function(){\n",
       "                            \n",
       "var gd = document.getElementById('c6f6e122-516f-4d79-ab8d-272c99b8fc76');\n",
       "var x = new MutationObserver(function (mutations, observer) {{\n",
       "        var display = window.getComputedStyle(gd).display;\n",
       "        if (!display || display === 'none') {{\n",
       "            console.log([gd, 'removed!']);\n",
       "            Plotly.purge(gd);\n",
       "            observer.disconnect();\n",
       "        }}\n",
       "}});\n",
       "\n",
       "// Listen for the removal of the full notebook cells\n",
       "var notebookContainer = gd.closest('#notebook-container');\n",
       "if (notebookContainer) {{\n",
       "    x.observe(notebookContainer, {childList: true});\n",
       "}}\n",
       "\n",
       "// Listen for the clearing of the current output cell\n",
       "var outputEl = gd.closest('.output');\n",
       "if (outputEl) {{\n",
       "    x.observe(outputEl, {childList: true});\n",
       "}}\n",
       "\n",
       "                        })                };                });            </script>        </div>"
      ]
     },
     "metadata": {},
     "output_type": "display_data"
    }
   ],
   "source": [
    "#BTC Volume vs USD visualization\n",
    "trace = go.Scattergl(y = weekly_rows['Volume_(BTC)'].astype(float), x = weekly_rows['Weighted_Price'].astype(float), \n",
    "                     mode = 'markers',marker = dict(color = '#FFBAD2', line = dict(width = 1)))\n",
    "\n",
    "layout = go.Layout(title='BTC Volume v/s USD', xaxis=dict(title='Weighted Price', titlefont=dict( family='Courier New, monospace',\n",
    "            size=18, color='#7f7f7f')), yaxis=dict(title='Volume BTC',titlefont=dict(family='Courier New, monospace',size=18,\n",
    "            color='#7f7f7f')))\n",
    "data = [trace]\n",
    "fig = go.Figure(data=data, layout=layout)\n",
    "iplot(fig, filename='compare_webgl')"
   ]
  },
  {
   "cell_type": "markdown",
   "id": "4c58d0f0",
   "metadata": {},
   "source": [
    "# LSTM"
   ]
  },
  {
   "cell_type": "code",
   "execution_count": 14,
   "id": "69374fdf",
   "metadata": {},
   "outputs": [],
   "source": [
    "data = pd.read_csv('coinbaseUSD_1-min_data_2014-12-01_to_2018-11-11.csv',parse_dates=[0], date_parser=dateparse) \n",
    "data['Timestamp'] = data['Timestamp'].dt.tz_localize(None)\n",
    "data = data.groupby([pd.Grouper(key='Timestamp', freq='H')]).first().reset_index()\n",
    "data = data.set_index('Timestamp')\n",
    "data = data[['Weighted_Price']]\n",
    "data['Weighted_Price'].fillna(method='ffill', inplace=True)"
   ]
  },
  {
   "cell_type": "code",
   "execution_count": 15,
   "id": "c55273c3",
   "metadata": {},
   "outputs": [],
   "source": [
    "split_date = '25-Jun-2018'\n",
    "data_train = data.loc[data.index <= split_date].copy()\n",
    "data_test = data.loc[data.index > split_date].copy()"
   ]
  },
  {
   "cell_type": "code",
   "execution_count": 16,
   "id": "b35748c9",
   "metadata": {},
   "outputs": [],
   "source": [
    "# Data preprocess\n",
    "training_set = data_train.values\n",
    "training_set = np.reshape(training_set, (len(training_set), 1))\n",
    "from sklearn.preprocessing import MinMaxScaler\n",
    "sc = MinMaxScaler()\n",
    "training_set = sc.fit_transform(training_set)\n",
    "X_train = training_set[0:len(training_set)-1]\n",
    "y_train = training_set[1:len(training_set)]\n",
    "X_train = np.reshape(X_train, (len(X_train), 1, 1))"
   ]
  },
  {
   "cell_type": "code",
   "execution_count": 17,
   "id": "d5011327",
   "metadata": {},
   "outputs": [
    {
     "data": {
      "image/png": "[encoded data removed]",
      "text/plain": [
       "<Figure size 1080x360 with 1 Axes>"
      ]
     },
     "metadata": {
      "needs_background": "light"
     },
     "output_type": "display_data"
    }
   ],
   "source": [
    "color_pal = [\"#F8766D\", \"#D39200\", \"#93AA00\", \"#00BA38\", \"#00C19F\", \"#00B9E3\", \"#619CFF\", \"#DB72FB\"]\n",
    "_ = data.plot(style='', figsize=(15,5), color=color_pal[0], title='BTC Weighted_Price Price (USD) by Hours')"
   ]
  },
  {
   "cell_type": "code",
   "execution_count": 18,
   "id": "b54fa40a",
   "metadata": {},
   "outputs": [
    {
     "data": {
      "image/png": "[encoded data removed]",
      "text/plain": [
       "<Figure size 1080x360 with 1 Axes>"
      ]
     },
     "metadata": {
      "needs_background": "light"
     },
     "output_type": "display_data"
    }
   ],
   "source": [
    "_ = data_test \\\n",
    "    .rename(columns={'Weighted_Price': 'Test Set'}) \\\n",
    "    .join(data_train.rename(columns={'Weighted_Price': 'Training Set'}), how='outer') \\\n",
    "    .plot(figsize=(15,5), title='BTC Weighted_Price Price (USD) by Hours', style='')"
   ]
  },
  {
   "cell_type": "markdown",
   "id": "961cca92",
   "metadata": {},
   "source": [
    "### Vanilla LSTM"
   ]
  },
  {
   "cell_type": "code",
   "execution_count": 19,
   "id": "903de9e3",
   "metadata": {
    "scrolled": true
   },
   "outputs": [
    {
     "name": "stdout",
     "output_type": "stream",
     "text": [
      "Epoch 1/100\n",
      "625/625 - 2s - loss: 0.0455 - 2s/epoch - 3ms/step\n",
      "Epoch 2/100\n",
      "625/625 - 1s - loss: 0.0155 - 906ms/epoch - 1ms/step\n",
      "Epoch 3/100\n",
      "625/625 - 1s - loss: 0.0079 - 938ms/epoch - 2ms/step\n",
      "Epoch 4/100\n",
      "625/625 - 1s - loss: 0.0050 - 881ms/epoch - 1ms/step\n",
      "Epoch 5/100\n",
      "625/625 - 1s - loss: 0.0038 - 869ms/epoch - 1ms/step\n",
      "Epoch 6/100\n",
      "625/625 - 1s - loss: 0.0030 - 946ms/epoch - 2ms/step\n",
      "Epoch 7/100\n",
      "625/625 - 1s - loss: 0.0024 - 957ms/epoch - 2ms/step\n",
      "Epoch 8/100\n",
      "625/625 - 1s - loss: 0.0021 - 918ms/epoch - 1ms/step\n",
      "Epoch 9/100\n",
      "625/625 - 1s - loss: 0.0018 - 883ms/epoch - 1ms/step\n",
      "Epoch 10/100\n",
      "625/625 - 1s - loss: 0.0016 - 871ms/epoch - 1ms/step\n",
      "Epoch 11/100\n",
      "625/625 - 1s - loss: 0.0014 - 888ms/epoch - 1ms/step\n",
      "Epoch 12/100\n",
      "625/625 - 1s - loss: 0.0013 - 881ms/epoch - 1ms/step\n",
      "Epoch 13/100\n",
      "625/625 - 1s - loss: 0.0011 - 898ms/epoch - 1ms/step\n",
      "Epoch 14/100\n",
      "625/625 - 1s - loss: 9.8327e-04 - 885ms/epoch - 1ms/step\n",
      "Epoch 15/100\n",
      "625/625 - 1s - loss: 8.9117e-04 - 884ms/epoch - 1ms/step\n",
      "Epoch 16/100\n",
      "625/625 - 1s - loss: 8.2749e-04 - 888ms/epoch - 1ms/step\n",
      "Epoch 17/100\n",
      "625/625 - 1s - loss: 7.9121e-04 - 889ms/epoch - 1ms/step\n",
      "Epoch 18/100\n",
      "625/625 - 1s - loss: 7.1990e-04 - 888ms/epoch - 1ms/step\n",
      "Epoch 19/100\n",
      "625/625 - 1s - loss: 6.5955e-04 - 898ms/epoch - 1ms/step\n",
      "Epoch 20/100\n",
      "625/625 - 1s - loss: 6.2237e-04 - 887ms/epoch - 1ms/step\n",
      "Epoch 21/100\n",
      "625/625 - 1s - loss: 5.7134e-04 - 885ms/epoch - 1ms/step\n",
      "Epoch 22/100\n",
      "625/625 - 1s - loss: 5.4302e-04 - 890ms/epoch - 1ms/step\n",
      "Epoch 23/100\n",
      "625/625 - 1s - loss: 5.1699e-04 - 880ms/epoch - 1ms/step\n",
      "Epoch 24/100\n",
      "625/625 - 1s - loss: 4.8571e-04 - 1s/epoch - 2ms/step\n",
      "Epoch 25/100\n",
      "625/625 - 1s - loss: 4.5866e-04 - 1s/epoch - 2ms/step\n",
      "Epoch 26/100\n",
      "625/625 - 1s - loss: 4.4123e-04 - 897ms/epoch - 1ms/step\n",
      "Epoch 27/100\n",
      "625/625 - 1s - loss: 4.1857e-04 - 893ms/epoch - 1ms/step\n",
      "Epoch 28/100\n",
      "625/625 - 1s - loss: 3.9914e-04 - 904ms/epoch - 1ms/step\n",
      "Epoch 29/100\n",
      "625/625 - 1s - loss: 3.8884e-04 - 906ms/epoch - 1ms/step\n",
      "Epoch 30/100\n",
      "625/625 - 1s - loss: 3.8337e-04 - 885ms/epoch - 1ms/step\n",
      "Epoch 31/100\n",
      "625/625 - 1s - loss: 3.6389e-04 - 887ms/epoch - 1ms/step\n",
      "Epoch 32/100\n",
      "625/625 - 1s - loss: 3.5335e-04 - 888ms/epoch - 1ms/step\n",
      "Epoch 33/100\n",
      "625/625 - 1s - loss: 3.5012e-04 - 892ms/epoch - 1ms/step\n",
      "Epoch 34/100\n",
      "625/625 - 1s - loss: 3.4598e-04 - 892ms/epoch - 1ms/step\n",
      "Epoch 35/100\n",
      "625/625 - 1s - loss: 3.2775e-04 - 883ms/epoch - 1ms/step\n",
      "Epoch 36/100\n",
      "625/625 - 1s - loss: 3.2295e-04 - 889ms/epoch - 1ms/step\n",
      "Epoch 37/100\n",
      "625/625 - 1s - loss: 3.2443e-04 - 893ms/epoch - 1ms/step\n",
      "Epoch 38/100\n",
      "625/625 - 1s - loss: 3.1144e-04 - 895ms/epoch - 1ms/step\n",
      "Epoch 39/100\n",
      "625/625 - 1s - loss: 3.1648e-04 - 912ms/epoch - 1ms/step\n",
      "Epoch 40/100\n",
      "625/625 - 1s - loss: 3.1236e-04 - 890ms/epoch - 1ms/step\n",
      "Epoch 41/100\n",
      "625/625 - 1s - loss: 3.0366e-04 - 955ms/epoch - 2ms/step\n",
      "Epoch 42/100\n",
      "625/625 - 1s - loss: 2.9665e-04 - 955ms/epoch - 2ms/step\n",
      "Epoch 43/100\n",
      "625/625 - 1s - loss: 2.9255e-04 - 901ms/epoch - 1ms/step\n",
      "Epoch 44/100\n",
      "625/625 - 1s - loss: 2.9914e-04 - 891ms/epoch - 1ms/step\n",
      "Epoch 45/100\n",
      "625/625 - 1s - loss: 2.8914e-04 - 902ms/epoch - 1ms/step\n",
      "Epoch 46/100\n",
      "625/625 - 1s - loss: 2.9648e-04 - 892ms/epoch - 1ms/step\n",
      "Epoch 47/100\n",
      "625/625 - 1s - loss: 2.8317e-04 - 892ms/epoch - 1ms/step\n",
      "Epoch 48/100\n",
      "625/625 - 1s - loss: 2.8116e-04 - 912ms/epoch - 1ms/step\n",
      "Epoch 49/100\n",
      "625/625 - 1s - loss: 2.9446e-04 - 893ms/epoch - 1ms/step\n",
      "Epoch 50/100\n",
      "625/625 - 1s - loss: 2.9125e-04 - 893ms/epoch - 1ms/step\n",
      "Epoch 51/100\n",
      "625/625 - 1s - loss: 2.8544e-04 - 976ms/epoch - 2ms/step\n",
      "Epoch 52/100\n",
      "625/625 - 1s - loss: 2.7560e-04 - 907ms/epoch - 1ms/step\n",
      "Epoch 53/100\n",
      "625/625 - 1s - loss: 2.8438e-04 - 897ms/epoch - 1ms/step\n",
      "Epoch 54/100\n",
      "625/625 - 1s - loss: 2.7918e-04 - 955ms/epoch - 2ms/step\n",
      "Epoch 55/100\n",
      "625/625 - 1s - loss: 2.7147e-04 - 891ms/epoch - 1ms/step\n",
      "Epoch 56/100\n",
      "625/625 - 1s - loss: 2.8244e-04 - 889ms/epoch - 1ms/step\n",
      "Epoch 57/100\n",
      "625/625 - 1s - loss: 2.6751e-04 - 888ms/epoch - 1ms/step\n",
      "Epoch 58/100\n",
      "625/625 - 1s - loss: 2.7373e-04 - 927ms/epoch - 1ms/step\n",
      "Epoch 59/100\n",
      "625/625 - 1s - loss: 2.6899e-04 - 947ms/epoch - 2ms/step\n",
      "Epoch 60/100\n",
      "625/625 - 1s - loss: 2.7703e-04 - 915ms/epoch - 1ms/step\n",
      "Epoch 61/100\n",
      "625/625 - 1s - loss: 2.6366e-04 - 892ms/epoch - 1ms/step\n",
      "Epoch 62/100\n",
      "625/625 - 1s - loss: 2.6112e-04 - 893ms/epoch - 1ms/step\n",
      "Epoch 63/100\n",
      "625/625 - 1s - loss: 2.8000e-04 - 892ms/epoch - 1ms/step\n",
      "Epoch 64/100\n",
      "625/625 - 1s - loss: 2.6604e-04 - 884ms/epoch - 1ms/step\n",
      "Epoch 65/100\n",
      "625/625 - 1s - loss: 2.6724e-04 - 895ms/epoch - 1ms/step\n",
      "Epoch 66/100\n",
      "625/625 - 1s - loss: 2.6676e-04 - 897ms/epoch - 1ms/step\n",
      "Epoch 67/100\n",
      "625/625 - 1s - loss: 2.6422e-04 - 897ms/epoch - 1ms/step\n",
      "Epoch 68/100\n",
      "625/625 - 1s - loss: 2.7510e-04 - 897ms/epoch - 1ms/step\n",
      "Epoch 69/100\n",
      "625/625 - 1s - loss: 2.7080e-04 - 895ms/epoch - 1ms/step\n",
      "Epoch 70/100\n",
      "625/625 - 1s - loss: 2.6584e-04 - 895ms/epoch - 1ms/step\n",
      "Epoch 71/100\n",
      "625/625 - 1s - loss: 2.6391e-04 - 894ms/epoch - 1ms/step\n",
      "Epoch 72/100\n",
      "625/625 - 1s - loss: 2.6740e-04 - 894ms/epoch - 1ms/step\n",
      "Epoch 73/100\n",
      "625/625 - 1s - loss: 2.6800e-04 - 882ms/epoch - 1ms/step\n",
      "Epoch 74/100\n",
      "625/625 - 1s - loss: 2.6607e-04 - 892ms/epoch - 1ms/step\n",
      "Epoch 75/100\n",
      "625/625 - 1s - loss: 2.7326e-04 - 909ms/epoch - 1ms/step\n",
      "Epoch 76/100\n",
      "625/625 - 1s - loss: 2.6391e-04 - 941ms/epoch - 2ms/step\n",
      "Epoch 77/100\n",
      "625/625 - 1s - loss: 2.6437e-04 - 957ms/epoch - 2ms/step\n",
      "Epoch 78/100\n",
      "625/625 - 1s - loss: 2.5534e-04 - 888ms/epoch - 1ms/step\n",
      "Epoch 79/100\n",
      "625/625 - 1s - loss: 2.5572e-04 - 894ms/epoch - 1ms/step\n",
      "Epoch 80/100\n",
      "625/625 - 1s - loss: 2.5591e-04 - 889ms/epoch - 1ms/step\n",
      "Epoch 81/100\n",
      "625/625 - 1s - loss: 2.5554e-04 - 891ms/epoch - 1ms/step\n",
      "Epoch 82/100\n",
      "625/625 - 1s - loss: 2.5520e-04 - 881ms/epoch - 1ms/step\n",
      "Epoch 83/100\n",
      "625/625 - 1s - loss: 2.6564e-04 - 888ms/epoch - 1ms/step\n",
      "Epoch 84/100\n",
      "625/625 - 1s - loss: 2.6197e-04 - 889ms/epoch - 1ms/step\n",
      "Epoch 85/100\n",
      "625/625 - 1s - loss: 2.6472e-04 - 890ms/epoch - 1ms/step\n",
      "Epoch 86/100\n",
      "625/625 - 1s - loss: 2.6290e-04 - 890ms/epoch - 1ms/step\n",
      "Epoch 87/100\n",
      "625/625 - 1s - loss: 2.6624e-04 - 884ms/epoch - 1ms/step\n",
      "Epoch 88/100\n",
      "625/625 - 1s - loss: 2.6090e-04 - 889ms/epoch - 1ms/step\n",
      "Epoch 89/100\n",
      "625/625 - 1s - loss: 2.6390e-04 - 941ms/epoch - 2ms/step\n",
      "Epoch 90/100\n",
      "625/625 - 1s - loss: 2.5647e-04 - 1s/epoch - 2ms/step\n",
      "Epoch 91/100\n",
      "625/625 - 1s - loss: 2.6140e-04 - 953ms/epoch - 2ms/step\n",
      "Epoch 92/100\n",
      "625/625 - 1s - loss: 2.5093e-04 - 881ms/epoch - 1ms/step\n",
      "Epoch 93/100\n",
      "625/625 - 1s - loss: 2.5639e-04 - 906ms/epoch - 1ms/step\n",
      "Epoch 94/100\n",
      "625/625 - 1s - loss: 2.5562e-04 - 941ms/epoch - 2ms/step\n",
      "Epoch 95/100\n",
      "625/625 - 1s - loss: 2.5860e-04 - 1s/epoch - 2ms/step\n",
      "Epoch 96/100\n",
      "625/625 - 1s - loss: 2.5352e-04 - 890ms/epoch - 1ms/step\n",
      "Epoch 97/100\n",
      "625/625 - 1s - loss: 2.5088e-04 - 880ms/epoch - 1ms/step\n",
      "Epoch 98/100\n",
      "625/625 - 1s - loss: 2.4905e-04 - 893ms/epoch - 1ms/step\n",
      "Epoch 99/100\n",
      "625/625 - 1s - loss: 2.5169e-04 - 891ms/epoch - 1ms/step\n",
      "Epoch 100/100\n",
      "625/625 - 1s - loss: 2.6025e-04 - 890ms/epoch - 1ms/step\n"
     ]
    },
    {
     "data": {
      "text/plain": [
       "<keras.callbacks.History at 0x2ed66bee490>"
      ]
     },
     "execution_count": 19,
     "metadata": {},
     "output_type": "execute_result"
    }
   ],
   "source": [
    "# Importing the Keras libraries and packages\n",
    "from keras.models import Sequential\n",
    "from keras.layers import Dense\n",
    "from keras.layers import LSTM\n",
    "from keras.layers import Dropout\n",
    "from keras.layers import Activation\n",
    "\n",
    "model = Sequential()\n",
    "model.add(LSTM(128,activation=\"sigmoid\",input_shape=(1,1)))\n",
    "model.add(Dropout(0.2))\n",
    "model.add(Dense(1))\n",
    "model.compile(loss='mean_squared_error', optimizer='adam')\n",
    "model.fit(X_train, y_train, epochs=100, batch_size=50, verbose=2)"
   ]
  },
  {
   "cell_type": "code",
   "execution_count": 20,
   "id": "d97e6997",
   "metadata": {},
   "outputs": [
    {
     "name": "stdout",
     "output_type": "stream",
     "text": [
      "Model: \"sequential\"\n",
      "_________________________________________________________________\n",
      " Layer (type)                Output Shape              Param #   \n",
      "=================================================================\n",
      " lstm (LSTM)                 (None, 128)               66560     \n",
      "                                                                 \n",
      " dropout (Dropout)           (None, 128)               0         \n",
      "                                                                 \n",
      " dense (Dense)               (None, 1)                 129       \n",
      "                                                                 \n",
      "=================================================================\n",
      "Total params: 66,689\n",
      "Trainable params: 66,689\n",
      "Non-trainable params: 0\n",
      "_________________________________________________________________\n"
     ]
    }
   ],
   "source": [
    "model.summary()"
   ]
  },
  {
   "cell_type": "code",
   "execution_count": 21,
   "id": "a9731bc3",
   "metadata": {},
   "outputs": [],
   "source": [
    "# Making the predictions\n",
    "test_set = data_test.values\n",
    "inputs = np.reshape(test_set, (len(test_set), 1))\n",
    "inputs = sc.transform(inputs)\n",
    "inputs = np.reshape(inputs, (len(inputs), 1, 1))\n",
    "predicted_BTC_price = model.predict(inputs)\n",
    "predicted_BTC_price = sc.inverse_transform(predicted_BTC_price)"
   ]
  },
  {
   "cell_type": "code",
   "execution_count": 22,
   "id": "2473c7bb",
   "metadata": {},
   "outputs": [],
   "source": [
    "data_test['Weighted_Price_Prediction'] = predicted_BTC_price\n",
    "data_all = pd.concat([data_test, data_train], sort=False)"
   ]
  },
  {
   "cell_type": "code",
   "execution_count": 23,
   "id": "26645164",
   "metadata": {},
   "outputs": [],
   "source": [
    "#saving the predicted values in a common data frame for future comparision\n",
    "final_data = data_all\n",
    "final_data = final_data.reset_index()\n",
    "final_data = final_data.rename(columns={'Weighted_Price_Prediction': 'lstm'})\n",
    "final_data = final_data[['Timestamp','Weighted_Price','lstm']]"
   ]
  },
  {
   "cell_type": "code",
   "execution_count": 24,
   "id": "b84904a5",
   "metadata": {},
   "outputs": [
    {
     "data": {
      "image/png": "[encoded data removed]",
      "text/plain": [
       "<Figure size 1080x360 with 1 Axes>"
      ]
     },
     "metadata": {
      "needs_background": "light"
     },
     "output_type": "display_data"
    }
   ],
   "source": [
    "_ = data_all[['Weighted_Price','Weighted_Price_Prediction']].plot(figsize=(15, 5))"
   ]
  },
  {
   "cell_type": "code",
   "execution_count": 25,
   "id": "03c80a41",
   "metadata": {},
   "outputs": [
    {
     "data": {
      "image/png": "[encoded data removed]",
      "text/plain": [
       "<Figure size 1080x360 with 1 Axes>"
      ]
     },
     "metadata": {
      "needs_background": "light"
     },
     "output_type": "display_data"
    }
   ],
   "source": [
    "# Plot the forecast with the actuals\n",
    "f, ax = plt.subplots(1)\n",
    "f.set_figheight(5)\n",
    "f.set_figwidth(15)\n",
    "_ = data_all[['Weighted_Price_Prediction','Weighted_Price']].plot(ax=ax,\n",
    "                                              style=['-','-'])\n",
    "ax.set_xbound(lower='08-01-2018', upper='09-01-2018')\n",
    "ax.set_ylim(0, 10000)\n",
    "plot = plt.suptitle('August 2018 Forecast vs Actuals')"
   ]
  },
  {
   "cell_type": "code",
   "execution_count": 26,
   "id": "04eebbb8",
   "metadata": {},
   "outputs": [
    {
     "data": {
      "text/plain": [
       "14234.324560381852"
      ]
     },
     "execution_count": 26,
     "metadata": {},
     "output_type": "execute_result"
    }
   ],
   "source": [
    "#calculate MSE and MAE\n",
    "from sklearn.metrics import mean_squared_error, mean_absolute_error, r2_score\n",
    "mean_squared_error(y_true=data_test['Weighted_Price'],\n",
    "                   y_pred=data_test['Weighted_Price_Prediction'])"
   ]
  },
  {
   "cell_type": "code",
   "execution_count": 27,
   "id": "84751011",
   "metadata": {},
   "outputs": [
    {
     "data": {
      "text/plain": [
       "119.03009337470398"
      ]
     },
     "execution_count": 27,
     "metadata": {},
     "output_type": "execute_result"
    }
   ],
   "source": [
    "mean_absolute_error(y_true=data_test['Weighted_Price'],\n",
    "                   y_pred=data_test['Weighted_Price_Prediction'])"
   ]
  },
  {
   "cell_type": "code",
   "execution_count": 28,
   "id": "28b12f55",
   "metadata": {},
   "outputs": [
    {
     "data": {
      "text/plain": [
       "0.9437170396335416"
      ]
     },
     "execution_count": 28,
     "metadata": {},
     "output_type": "execute_result"
    }
   ],
   "source": [
    "r2_score(y_true=data_test['Weighted_Price'],\n",
    "                   y_pred=data_test['Weighted_Price_Prediction'])"
   ]
  },
  {
   "cell_type": "markdown",
   "id": "0e6002ed",
   "metadata": {},
   "source": [
    "# XGBoost"
   ]
  },
  {
   "cell_type": "code",
   "execution_count": 29,
   "id": "0abc3405",
   "metadata": {},
   "outputs": [],
   "source": [
    "import datetime\n",
    "\n",
    "data = pd.read_csv('coinbaseUSD_1-min_data_2014-12-01_to_2018-11-11.csv',parse_dates=[0], date_parser=dateparse) \n",
    "data['Timestamp'] = data['Timestamp'].dt.tz_localize(None)\n",
    "data = data.groupby([pd.Grouper(key='Timestamp', freq='H')]).first().reset_index()\n",
    "data = data.set_index('Timestamp')\n",
    "data = data[['Weighted_Price']]\n",
    "data['Weighted_Price'].fillna(method='ffill', inplace=True)"
   ]
  },
  {
   "cell_type": "code",
   "execution_count": 30,
   "id": "9e65e677",
   "metadata": {},
   "outputs": [
    {
     "data": {
      "image/png": "[encoded data removed]",
      "text/plain": [
       "<Figure size 1080x360 with 1 Axes>"
      ]
     },
     "metadata": {
      "needs_background": "light"
     },
     "output_type": "display_data"
    }
   ],
   "source": [
    "color_pal = [\"#F8766D\", \"#D39200\", \"#93AA00\", \"#00BA38\", \"#00C19F\", \"#00B9E3\", \"#619CFF\", \"#DB72FB\"]\n",
    "_ = data.plot(style='-', figsize=(15,5), color=color_pal, title='BTC Weighted_Price Price (USD) by Hours')"
   ]
  },
  {
   "cell_type": "code",
   "execution_count": 31,
   "id": "90869de6",
   "metadata": {},
   "outputs": [],
   "source": [
    "split_date = '25-Jun-2018'\n",
    "data_train = data.loc[data.index <= split_date].copy()\n",
    "data_test = data.loc[data.index > split_date].copy()"
   ]
  },
  {
   "cell_type": "code",
   "execution_count": 32,
   "id": "0288fb63",
   "metadata": {},
   "outputs": [
    {
     "data": {
      "image/png": "[encoded data removed]",
      "text/plain": [
       "<Figure size 1080x360 with 1 Axes>"
      ]
     },
     "metadata": {
      "needs_background": "light"
     },
     "output_type": "display_data"
    }
   ],
   "source": [
    "_ = data_test \\\n",
    "    .rename(columns={'Weighted_Price': 'Test Set'}) \\\n",
    "    .join(data_train.rename(columns={'Weighted_Price': 'Training Set'}), how='outer') \\\n",
    "    .plot(figsize=(15,5), title='BTC Weighted_Price Price (USD) by Hours', style='')"
   ]
  },
  {
   "cell_type": "code",
   "execution_count": 33,
   "id": "b10b7f77",
   "metadata": {},
   "outputs": [],
   "source": [
    "def create_features(df, label=None):\n",
    "    \"\"\"\n",
    "    Creates time series features from datetime index\n",
    "    \"\"\"\n",
    "    df['date'] = df.index\n",
    "    df['hour'] = df['date'].dt.hour\n",
    "    df['dayofweek'] = df['date'].dt.dayofweek\n",
    "    df['quarter'] = df['date'].dt.quarter\n",
    "    df['month'] = df['date'].dt.month\n",
    "    df['year'] = df['date'].dt.year\n",
    "    df['dayofyear'] = df['date'].dt.dayofyear\n",
    "    df['dayofmonth'] = df['date'].dt.day\n",
    "    df['weekofyear'] = df['date'].dt.weekofyear\n",
    "    \n",
    "    X = df[['hour','dayofweek','quarter','month','year',\n",
    "           'dayofyear','dayofmonth','weekofyear']]\n",
    "    if label:\n",
    "        y = df[label]\n",
    "        return X, y\n",
    "    return X"
   ]
  },
  {
   "cell_type": "code",
   "execution_count": 34,
   "id": "2e9a30cb",
   "metadata": {},
   "outputs": [
    {
     "name": "stderr",
     "output_type": "stream",
     "text": [
      "<ipython-input-33-568ff9107aea>:13: FutureWarning:\n",
      "\n",
      "Series.dt.weekofyear and Series.dt.week have been deprecated.  Please use Series.dt.isocalendar().week instead.\n",
      "\n"
     ]
    }
   ],
   "source": [
    "X_train, y_train = create_features(data_train, label='Weighted_Price')\n",
    "X_test, y_test = create_features(data_test, label='Weighted_Price')"
   ]
  },
  {
   "cell_type": "code",
   "execution_count": 35,
   "id": "e3b1aa2f",
   "metadata": {
    "scrolled": true
   },
   "outputs": [
    {
     "name": "stdout",
     "output_type": "stream",
     "text": [
      "[17:10:25] WARNING: C:/Users/Administrator/workspace/xgboost-win64_release_1.5.0/src/objective/regression_obj.cu:188: reg:linear is now deprecated in favor of reg:squarederror.\n",
      "[0]\tvalidation_0-rmse:4028.07227\tvalidation_1-rmse:4839.92578\n",
      "[1]\tvalidation_0-rmse:3813.80786\tvalidation_1-rmse:4468.26953\n",
      "[2]\tvalidation_0-rmse:3398.63769\tvalidation_1-rmse:3583.10376\n",
      "[3]\tvalidation_0-rmse:3103.90869\tvalidation_1-rmse:2878.10571\n",
      "[4]\tvalidation_0-rmse:2861.23853\tvalidation_1-rmse:1829.14026\n",
      "[5]\tvalidation_0-rmse:2694.46289\tvalidation_1-rmse:1029.62524\n",
      "[6]\tvalidation_0-rmse:2560.38281\tvalidation_1-rmse:689.70624\n",
      "[7]\tvalidation_0-rmse:2470.75488\tvalidation_1-rmse:519.63916\n",
      "[8]\tvalidation_0-rmse:2417.78271\tvalidation_1-rmse:533.63409\n",
      "[9]\tvalidation_0-rmse:2346.35986\tvalidation_1-rmse:693.69714\n",
      "[10]\tvalidation_0-rmse:2299.47852\tvalidation_1-rmse:1021.36914\n",
      "[11]\tvalidation_0-rmse:2262.59595\tvalidation_1-rmse:1195.39673\n",
      "[12]\tvalidation_0-rmse:2225.36353\tvalidation_1-rmse:1181.75281\n",
      "[13]\tvalidation_0-rmse:2198.93994\tvalidation_1-rmse:1226.62976\n",
      "[14]\tvalidation_0-rmse:2171.80176\tvalidation_1-rmse:1505.83032\n",
      "[15]\tvalidation_0-rmse:2151.73657\tvalidation_1-rmse:1496.32519\n",
      "[16]\tvalidation_0-rmse:2130.04394\tvalidation_1-rmse:1620.86780\n",
      "[17]\tvalidation_0-rmse:2113.86182\tvalidation_1-rmse:1655.29187\n",
      "[18]\tvalidation_0-rmse:2097.69409\tvalidation_1-rmse:1869.01904\n",
      "[19]\tvalidation_0-rmse:2084.51025\tvalidation_1-rmse:1935.84705\n",
      "[20]\tvalidation_0-rmse:2071.60327\tvalidation_1-rmse:2027.56323\n",
      "[21]\tvalidation_0-rmse:2061.61890\tvalidation_1-rmse:2013.59802\n",
      "[22]\tvalidation_0-rmse:2051.46240\tvalidation_1-rmse:2180.80640\n",
      "[23]\tvalidation_0-rmse:2041.91370\tvalidation_1-rmse:2193.49414\n",
      "[24]\tvalidation_0-rmse:2032.14551\tvalidation_1-rmse:2248.32056\n",
      "[25]\tvalidation_0-rmse:2024.80981\tvalidation_1-rmse:2389.02539\n",
      "[26]\tvalidation_0-rmse:2017.40442\tvalidation_1-rmse:2372.68042\n",
      "[27]\tvalidation_0-rmse:2009.27039\tvalidation_1-rmse:2382.84937\n",
      "[28]\tvalidation_0-rmse:2002.59851\tvalidation_1-rmse:2430.00293\n",
      "[29]\tvalidation_0-rmse:1995.91272\tvalidation_1-rmse:2465.10034\n",
      "[30]\tvalidation_0-rmse:1990.42444\tvalidation_1-rmse:2452.07617\n",
      "[31]\tvalidation_0-rmse:1985.77869\tvalidation_1-rmse:2443.07275\n",
      "[32]\tvalidation_0-rmse:1979.68127\tvalidation_1-rmse:2451.16016\n",
      "[33]\tvalidation_0-rmse:1974.95435\tvalidation_1-rmse:2437.39160\n",
      "[34]\tvalidation_0-rmse:1969.66809\tvalidation_1-rmse:2554.25439\n",
      "[35]\tvalidation_0-rmse:1965.16467\tvalidation_1-rmse:2592.06934\n",
      "[36]\tvalidation_0-rmse:1960.11169\tvalidation_1-rmse:2599.23291\n",
      "[37]\tvalidation_0-rmse:1955.88318\tvalidation_1-rmse:2648.19360\n",
      "[38]\tvalidation_0-rmse:1952.20532\tvalidation_1-rmse:2635.16089\n",
      "[39]\tvalidation_0-rmse:1948.50159\tvalidation_1-rmse:2641.22852\n",
      "[40]\tvalidation_0-rmse:1945.30041\tvalidation_1-rmse:2633.17700\n",
      "[41]\tvalidation_0-rmse:1941.90845\tvalidation_1-rmse:2670.86255\n",
      "[42]\tvalidation_0-rmse:1938.28699\tvalidation_1-rmse:2767.29712\n",
      "[43]\tvalidation_0-rmse:1935.44898\tvalidation_1-rmse:2773.42578\n",
      "[44]\tvalidation_0-rmse:1932.63672\tvalidation_1-rmse:2778.65430\n",
      "[45]\tvalidation_0-rmse:1930.00183\tvalidation_1-rmse:2768.20019\n",
      "[46]\tvalidation_0-rmse:1927.38892\tvalidation_1-rmse:2849.86450\n",
      "[47]\tvalidation_0-rmse:1925.05200\tvalidation_1-rmse:2841.88037\n",
      "[48]\tvalidation_0-rmse:1922.49231\tvalidation_1-rmse:2876.25317\n",
      "[49]\tvalidation_0-rmse:1920.12061\tvalidation_1-rmse:2896.53418\n",
      "[50]\tvalidation_0-rmse:1918.01221\tvalidation_1-rmse:2901.04419\n",
      "[51]\tvalidation_0-rmse:1915.86987\tvalidation_1-rmse:2892.60181\n",
      "[52]\tvalidation_0-rmse:1913.88098\tvalidation_1-rmse:2894.67383\n",
      "[53]\tvalidation_0-rmse:1912.08997\tvalidation_1-rmse:2886.04443\n",
      "[54]\tvalidation_0-rmse:1910.22559\tvalidation_1-rmse:2915.30884\n",
      "[55]\tvalidation_0-rmse:1908.30139\tvalidation_1-rmse:2985.28687\n",
      "[56]\tvalidation_0-rmse:1906.58606\tvalidation_1-rmse:2989.34473\n"
     ]
    },
    {
     "data": {
      "text/plain": [
       "XGBRegressor(alpha=10, base_score=0.5, booster='gbtree', colsample_bylevel=1,\n",
       "             colsample_bynode=1, colsample_bytree=0.8, enable_categorical=False,\n",
       "             gamma=0, gpu_id=-1, importance_type=None,\n",
       "             interaction_constraints='', learning_rate=0.2, max_delta_step=0,\n",
       "             max_depth=1, min_child_weight=4, missing=nan,\n",
       "             monotone_constraints='()', n_estimators=1155, n_jobs=16,\n",
       "             num_parallel_tree=1, objective='reg:linear', predictor='auto',\n",
       "             random_state=0, reg_alpha=10, reg_lambda=1, scale_pos_weight=1,\n",
       "             subsample=1, tree_method='exact', validate_parameters=1,\n",
       "             verbosity=None)"
      ]
     },
     "execution_count": 35,
     "metadata": {},
     "output_type": "execute_result"
    }
   ],
   "source": [
    "import xgboost as xgb\n",
    "from xgboost import plot_importance, plot_tree\n",
    "\n",
    "model =  xgb.XGBRegressor(objective ='reg:linear',min_child_weight=4, booster='gbtree', colsample_bytree = 0.8, \n",
    "                          learning_rate = 0.2, max_depth = 1, alpha = 10, n_estimators = 1155)\n",
    "model.fit(X_train, y_train, eval_set=[(X_train, y_train), (X_test, y_test)], early_stopping_rounds=50, verbose=True)"
   ]
  },
  {
   "cell_type": "code",
   "execution_count": 36,
   "id": "fa90d946",
   "metadata": {},
   "outputs": [],
   "source": [
    "data_test['Weighted_Price_Prediction'] = model.predict(X_test)\n",
    "data_all = pd.concat([data_test, data_train], sort=False)"
   ]
  },
  {
   "cell_type": "code",
   "execution_count": 37,
   "id": "d0dcdb40",
   "metadata": {},
   "outputs": [],
   "source": [
    "#adding to final data for comparision\n",
    "final_data = pd.merge(final_data, data_all, sort=False)\n",
    "final_data = final_data.rename(columns={'Weighted_Price_Prediction': 'xgboost'})\n",
    "final_data = final_data[['Timestamp','Weighted_Price','lstm','xgboost']]"
   ]
  },
  {
   "cell_type": "code",
   "execution_count": 38,
   "id": "b7f4fcfb",
   "metadata": {},
   "outputs": [
    {
     "data": {
      "image/png": "[encoded data removed]",
      "text/plain": [
       "<Figure size 1080x360 with 1 Axes>"
      ]
     },
     "metadata": {
      "needs_background": "light"
     },
     "output_type": "display_data"
    }
   ],
   "source": [
    "_ = data_all[['Weighted_Price','Weighted_Price_Prediction']].plot(figsize=(15, 5))"
   ]
  },
  {
   "cell_type": "code",
   "execution_count": 39,
   "id": "9bfbb46e",
   "metadata": {},
   "outputs": [
    {
     "data": {
      "image/png": "[encoded data removed]",
      "text/plain": [
       "<Figure size 1080x360 with 1 Axes>"
      ]
     },
     "metadata": {
      "needs_background": "light"
     },
     "output_type": "display_data"
    }
   ],
   "source": [
    "# Plot the forecast with the actuals\n",
    "f, ax = plt.subplots(1)\n",
    "f.set_figheight(5)\n",
    "f.set_figwidth(15)\n",
    "_ = data_all[['Weighted_Price_Prediction','Weighted_Price']].plot(ax=ax,\n",
    "                                              style=['-','-'])\n",
    "ax.set_xbound(lower='08-01-2018', upper='09-01-2018')\n",
    "ax.set_ylim(0, 10000)\n",
    "plot = plt.suptitle('August 2018 Forecast vs Actuals')"
   ]
  },
  {
   "cell_type": "code",
   "execution_count": 40,
   "id": "28983015",
   "metadata": {},
   "outputs": [
    {
     "data": {
      "image/png": "[encoded data removed]",
      "text/plain": [
       "<Figure size 1080x360 with 1 Axes>"
      ]
     },
     "metadata": {
      "needs_background": "light"
     },
     "output_type": "display_data"
    }
   ],
   "source": [
    "# Plot the forecast with the actuals\n",
    "f, ax = plt.subplots(1)\n",
    "f.set_figheight(5)\n",
    "f.set_figwidth(15)\n",
    "_ = data_all[['Weighted_Price_Prediction','Weighted_Price']].plot(ax=ax,\n",
    "                                              style=['-','.'])\n",
    "ax.set_xbound(lower='08-01-2018', upper='08-08-2018')\n",
    "ax.set_ylim(0, 10000)\n",
    "plot = plt.suptitle('First Week of August 2018 Forecast vs Actuals')"
   ]
  },
  {
   "cell_type": "code",
   "execution_count": 41,
   "id": "6eaa3479",
   "metadata": {},
   "outputs": [
    {
     "data": {
      "text/plain": [
       "270024.90396819345"
      ]
     },
     "execution_count": 41,
     "metadata": {},
     "output_type": "execute_result"
    }
   ],
   "source": [
    "mean_squared_error(y_true=data_test['Weighted_Price'],\n",
    "                   y_pred=data_test['Weighted_Price_Prediction'])"
   ]
  },
  {
   "cell_type": "code",
   "execution_count": 42,
   "id": "2a766a97",
   "metadata": {},
   "outputs": [
    {
     "data": {
      "text/plain": [
       "327.92944855948747"
      ]
     },
     "execution_count": 42,
     "metadata": {},
     "output_type": "execute_result"
    }
   ],
   "source": [
    "mean_absolute_error(y_true=data_test['Weighted_Price'],\n",
    "                   y_pred=data_test['Weighted_Price_Prediction'])"
   ]
  },
  {
   "cell_type": "code",
   "execution_count": 43,
   "id": "20c83faf",
   "metadata": {},
   "outputs": [
    {
     "data": {
      "text/plain": [
       "-0.06768683709084056"
      ]
     },
     "execution_count": 43,
     "metadata": {},
     "output_type": "execute_result"
    }
   ],
   "source": [
    "r2_score(y_true=data_test['Weighted_Price'],\n",
    "                   y_pred=data_test['Weighted_Price_Prediction'])"
   ]
  },
  {
   "cell_type": "markdown",
   "id": "828a23fd",
   "metadata": {},
   "source": [
    "# ARIMA"
   ]
  },
  {
   "cell_type": "code",
   "execution_count": 44,
   "id": "65f5bfb8",
   "metadata": {},
   "outputs": [],
   "source": [
    "import  scipy.signal.signaltools\n",
    "\n",
    "def _centered(arr, newsize):\n",
    "    # Return the center newsize portion of the array.\n",
    "    newsize = np.asarray(newsize)\n",
    "    currsize = np.array(arr.shape)\n",
    "    startind = (currsize - newsize) // 2\n",
    "    endind = startind + newsize\n",
    "    myslice = [slice(startind[k], endind[k]) for k in range(len(endind))]\n",
    "    return arr[tuple(myslice)]\n",
    "\n",
    "scipy.signal.signaltools._centered = _centered"
   ]
  },
  {
   "cell_type": "code",
   "execution_count": 45,
   "id": "5c39c37e",
   "metadata": {},
   "outputs": [],
   "source": [
    "from scipy import stats\n",
    "import statsmodels.api as sm\n",
    "import warnings\n",
    "from itertools import product"
   ]
  },
  {
   "cell_type": "code",
   "execution_count": 46,
   "id": "1ae59fd9",
   "metadata": {},
   "outputs": [],
   "source": [
    "data = pd.read_csv('coinbaseUSD_1-min_data_2014-12-01_to_2018-11-11.csv',parse_dates=[0], date_parser=dateparse)"
   ]
  },
  {
   "cell_type": "code",
   "execution_count": 47,
   "id": "9e3f2db2",
   "metadata": {},
   "outputs": [],
   "source": [
    "data['Open'].fillna(method='ffill', inplace=True)\n",
    "data['High'].fillna(method='ffill', inplace=True)\n",
    "data['Low'].fillna(method='ffill', inplace=True)\n",
    "data['Close'].fillna(method='ffill', inplace=True)\n",
    "data['Weighted_Price'].fillna(method='ffill', inplace=True)\n",
    "data['Volume_(BTC)'].fillna(method='ffill', inplace=True)\n",
    "data['Volume_(Currency)'].fillna(method='ffill', inplace=True)"
   ]
  },
  {
   "cell_type": "code",
   "execution_count": 48,
   "id": "daf5227f",
   "metadata": {},
   "outputs": [
    {
     "data": {
      "text/plain": [
       "[<matplotlib.lines.Line2D at 0x2ed6caa6160>]"
      ]
     },
     "execution_count": 48,
     "metadata": {},
     "output_type": "execute_result"
    },
    {
     "data": {
      "image/png": "[encoded data removed]",
      "text/plain": [
       "<Figure size 1440x576 with 1 Axes>"
      ]
     },
     "metadata": {
      "needs_background": "light"
     },
     "output_type": "display_data"
    }
   ],
   "source": [
    "plt.figure(figsize=[20,8])\n",
    "plt.title('BTC Weighted_Price Price (USD) by Hours')\n",
    "plt.plot(data.Weighted_Price, '-', label='By Hours')"
   ]
  },
  {
   "cell_type": "code",
   "execution_count": 49,
   "id": "44fb2918",
   "metadata": {},
   "outputs": [],
   "source": [
    "data['Timestamp'] = data['Timestamp'].dt.tz_localize(None)\n",
    "data = data.groupby([pd.Grouper(key='Timestamp', freq='M')]).first().reset_index()\n",
    "data = data.set_index('Timestamp')\n",
    "data['Weighted_Price'].fillna(method='ffill', inplace=True)"
   ]
  },
  {
   "cell_type": "code",
   "execution_count": 50,
   "id": "16c89980",
   "metadata": {},
   "outputs": [
    {
     "data": {
      "text/plain": [
       "[<matplotlib.lines.Line2D at 0x2ed6ca60b80>]"
      ]
     },
     "execution_count": 50,
     "metadata": {},
     "output_type": "execute_result"
    },
    {
     "data": {
      "image/png": "[encoded data removed]",
      "text/plain": [
       "<Figure size 1440x576 with 1 Axes>"
      ]
     },
     "metadata": {
      "needs_background": "light"
     },
     "output_type": "display_data"
    }
   ],
   "source": [
    "plt.figure(figsize=[20,8])\n",
    "plt.title('BTC Weighted_Price Price (USD) by Months')\n",
    "plt.plot(data.Weighted_Price, '-', label='By Months')"
   ]
  },
  {
   "cell_type": "code",
   "execution_count": 51,
   "id": "275082b8",
   "metadata": {},
   "outputs": [
    {
     "data": {
      "image/png": "[encoded data removed]",
      "text/plain": [
       "<Figure size 1440x1080 with 4 Axes>"
      ]
     },
     "metadata": {
      "needs_background": "light"
     },
     "output_type": "display_data"
    }
   ],
   "source": [
    "decomposition = sm.tsa.seasonal_decompose(data.Weighted_Price)\n",
    "\n",
    "trend = decomposition.trend\n",
    "seasonal = decomposition.seasonal\n",
    "residual = decomposition.resid\n",
    "\n",
    "fig = plt.figure(figsize=(20,15))\n",
    "\n",
    "plt.subplot(411)\n",
    "plt.plot(data.Weighted_Price, label='Original')\n",
    "plt.legend(loc='best')\n",
    "plt.subplot(412)\n",
    "plt.plot(trend, label='Trend')\n",
    "plt.legend(loc='best')\n",
    "plt.subplot(413)\n",
    "plt.plot(seasonal,label='Seasonality')\n",
    "plt.legend(loc='best')\n",
    "plt.subplot(414)\n",
    "plt.plot(residual, label='Residuals')\n",
    "plt.legend(loc='best')\n",
    "\n",
    "fig.suptitle('Decomposition of Prices Data')\n",
    "plt.show()"
   ]
  },
  {
   "cell_type": "code",
   "execution_count": 52,
   "id": "9a7f5a40",
   "metadata": {},
   "outputs": [
    {
     "name": "stdout",
     "output_type": "stream",
     "text": [
      "Dickey–Fuller test: p=1.000000\n"
     ]
    }
   ],
   "source": [
    "print(\"Dickey–Fuller test: p=%f\" % sm.tsa.stattools.adfuller(data.Weighted_Price)[1])"
   ]
  },
  {
   "cell_type": "code",
   "execution_count": 53,
   "id": "5a2845fc",
   "metadata": {},
   "outputs": [
    {
     "data": {
      "image/png": "[encoded data removed]",
      "text/plain": [
       "<Figure size 1440x576 with 2 Axes>"
      ]
     },
     "metadata": {
      "needs_background": "light"
     },
     "output_type": "display_data"
    }
   ],
   "source": [
    "from statsmodels.graphics.tsaplots import plot_acf\n",
    "from statsmodels.graphics.tsaplots import plot_pacf\n",
    "from matplotlib import pyplot\n",
    "pyplot.figure(figsize=(20,8))\n",
    "pyplot.subplot(211)\n",
    "plot_acf(data.Weighted_Price, ax=pyplot.gca(),lags=40)\n",
    "pyplot.subplot(212)\n",
    "plot_pacf(data.Weighted_Price, ax=pyplot.gca(), lags=20)\n",
    "pyplot.show()"
   ]
  },
  {
   "cell_type": "code",
   "execution_count": 54,
   "id": "332574b6",
   "metadata": {},
   "outputs": [],
   "source": [
    "# Initial approximation of parameters\n",
    "Qs = range(0, 2)\n",
    "qs = range(0, 3)\n",
    "Ps = range(0, 3)\n",
    "ps = range(0, 3)\n",
    "D=1\n",
    "d=1\n",
    "parameters = product(ps, qs, Ps, Qs)\n",
    "parameters_list = list(parameters)\n",
    "len(parameters_list)\n",
    "\n",
    "# Model Selection\n",
    "results = []\n",
    "best_aic = float(\"inf\")\n",
    "warnings.filterwarnings('ignore')\n",
    "for param in parameters_list:\n",
    "    try:\n",
    "        model=sm.tsa.statespace.SARIMAX(data.Weighted_Price, order=(param[0], d, param[1]), \n",
    "                                        seasonal_order=(param[2], D, param[3], 12),enforce_stationarity=False,\n",
    "                                            enforce_invertibility=False).fit(disp=-1)\n",
    "    except ValueError:\n",
    "        #print('wrong parameters:', param)\n",
    "        continue\n",
    "    aic = model.aic\n",
    "    if aic < best_aic:\n",
    "        best_model = model\n",
    "        best_aic = aic\n",
    "        best_param = param\n",
    "    results.append([param, model.aic])"
   ]
  },
  {
   "cell_type": "code",
   "execution_count": 55,
   "id": "03d3c32d",
   "metadata": {},
   "outputs": [
    {
     "name": "stdout",
     "output_type": "stream",
     "text": [
      "      parameters         aic\n",
      "53  (2, 2, 2, 1)  156.959210\n",
      "40  (2, 0, 2, 0)  163.334212\n",
      "46  (2, 1, 2, 0)  164.860337\n",
      "41  (2, 0, 2, 1)  165.316478\n",
      "47  (2, 1, 2, 1)  165.321424\n",
      "                                      SARIMAX Results                                       \n",
      "============================================================================================\n",
      "Dep. Variable:                       Weighted_Price   No. Observations:                   48\n",
      "Model:             SARIMAX(2, 1, 2)x(2, 1, [1], 12)   Log Likelihood                 -70.480\n",
      "Date:                              Thu, 25 Aug 2022   AIC                            156.959\n",
      "Time:                                      17:10:48   BIC                            158.537\n",
      "Sample:                                  12-31-2014   HQIC                           153.554\n",
      "                                       - 11-30-2018                                         \n",
      "Covariance Type:                                opg                                         \n",
      "==============================================================================\n",
      "                 coef    std err          z      P>|z|      [0.025      0.975]\n",
      "------------------------------------------------------------------------------\n",
      "ar.L1         -0.9025      0.411     -2.197      0.028      -1.708      -0.097\n",
      "ar.L2         -0.4834      0.441     -1.095      0.273      -1.349       0.382\n",
      "ma.L1          0.8857      0.438      2.020      0.043       0.026       1.745\n",
      "ma.L2          1.0219      1.173      0.872      0.383      -1.276       3.320\n",
      "ar.S.L12      -1.1361      2.356     -0.482      0.630      -5.753       3.481\n",
      "ar.S.L24      -0.0638     10.744     -0.006      0.995     -21.122      20.994\n",
      "ma.S.L12       0.1267      2.722      0.047      0.963      -5.208       5.462\n",
      "sigma2        3.2e+05      0.000   2.39e+09      0.000     3.2e+05     3.2e+05\n",
      "===================================================================================\n",
      "Ljung-Box (L1) (Q):                   0.02   Jarque-Bera (JB):                 0.39\n",
      "Prob(Q):                              0.90   Prob(JB):                         0.82\n",
      "Heteroskedasticity (H):               4.04   Skew:                             0.45\n",
      "Prob(H) (two-sided):                  0.28   Kurtosis:                         2.52\n",
      "===================================================================================\n",
      "\n",
      "Warnings:\n",
      "[1] Covariance matrix calculated using the outer product of gradients (complex-step).\n",
      "[2] Covariance matrix is singular or near-singular, with condition number 1.76e+26. Standard errors may be unstable.\n"
     ]
    }
   ],
   "source": [
    "# Best Models\n",
    "result_table = pd.DataFrame(results)\n",
    "result_table.columns = ['parameters', 'aic']\n",
    "print(result_table.sort_values(by = 'aic', ascending=True).head())\n",
    "print(best_model.summary())"
   ]
  },
  {
   "cell_type": "code",
   "execution_count": 56,
   "id": "7fe9fa9d",
   "metadata": {},
   "outputs": [
    {
     "name": "stdout",
     "output_type": "stream",
     "text": [
      "Dickey–Fuller test:: p=0.000000\n"
     ]
    },
    {
     "data": {
      "image/png": "[encoded data removed]",
      "text/plain": [
       "<Figure size 1440x576 with 1 Axes>"
      ]
     },
     "metadata": {
      "needs_background": "light"
     },
     "output_type": "display_data"
    }
   ],
   "source": [
    "fig = plt.figure(figsize=(20,8))\n",
    "best_model.resid.plot()\n",
    "fig.suptitle('Residual Plot of the Best Model')\n",
    "print(\"Dickey–Fuller test:: p=%f\" % sm.tsa.stattools.adfuller(best_model.resid)[1])"
   ]
  },
  {
   "cell_type": "code",
   "execution_count": 57,
   "id": "8f69cb0b",
   "metadata": {},
   "outputs": [
    {
     "data": {
      "image/png": "[encoded data removed]",
      "text/plain": [
       "<Figure size 1080x504 with 1 Axes>"
      ]
     },
     "metadata": {
      "needs_background": "light"
     },
     "output_type": "display_data"
    }
   ],
   "source": [
    "df_month2 = data[['Weighted_Price']]\n",
    "future = pd.DataFrame()\n",
    "df_month2 = pd.concat([df_month2, future])\n",
    "df_month2['forecast'] = best_model.predict(start=0, end=200)\n",
    "plt.figure(figsize=(15,7))\n",
    "df_month2.Weighted_Price.plot()\n",
    "df_month2.forecast.plot(color='r', ls='--', label='Predicted Weighted_Price')\n",
    "plt.legend()\n",
    "plt.title('Bitcoin Prices (USD) Predicted vs Actuals, by months')\n",
    "plt.ylabel('mean USD')\n",
    "plt.show()"
   ]
  },
  {
   "cell_type": "code",
   "execution_count": null,
   "id": "5f7595b6",
   "metadata": {},
   "outputs": [],
   "source": []
  }
 ],
 "metadata": {
  "kernelspec": {
   "display_name": "Python 3",
   "language": "python",
   "name": "python3"
  },
  "language_info": {
   "codemirror_mode": {
    "name": "ipython",
    "version": 3
   },
   "file_extension": ".py",
   "mimetype": "text/x-python",
   "name": "python",
   "nbconvert_exporter": "python",
   "pygments_lexer": "ipython3",
   "version": "3.8.8"
  }
 },
 "nbformat": 4,
 "nbformat_minor": 5
}
